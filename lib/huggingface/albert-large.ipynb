{
 "cells": [
  {
   "cell_type": "code",
   "execution_count": 1,
   "id": "96d6abe5",
   "metadata": {},
   "outputs": [],
   "source": [
    "import numpy as np\n",
    "import pandas as pd\n",
    "import torch\n",
    "from transformers import RobertaTokenizer, RobertaModel\n",
    "device = torch.device(\"cuda:0\" if torch.cuda.is_available() else \"cpu\")"
   ]
  },
  {
   "cell_type": "code",
   "execution_count": 2,
   "id": "42fe76ab",
   "metadata": {},
   "outputs": [],
   "source": [
    "from torch import nn\n",
    "\n",
    "class Albert(torch.nn.Module):\n",
    "    \n",
    "    def __init__(self):\n",
    "        super(Albert, self).__init__()\n",
    "        self.max_len = 512\n",
    "        self.device = torch.device(\"cuda:0\" if torch.cuda.is_available() else \"cpu\")\n",
    "        self.tokenizer_albert = RobertaTokenizer.from_pretrained(\"PlanTL-GOB-ES/roberta-base-bne\")\n",
    "        self.encoder_albert = RobertaModel.from_pretrained(\"PlanTL-GOB-ES/roberta-base-bne\").to(self.device)\n",
    "        self.dropout_albert = nn.Dropout(0.15)\n",
    "        \n",
    "        self.linear_gender = nn.Linear(768,384).to(self.device)\n",
    "        self.activation_gender = nn.Tanh().to(self.device)\n",
    "        self.dropout_gender = nn.Dropout(0.15).to(self.device)\n",
    "        self.linear_gender_1 = nn.Linear(384,1).to(self.device)\n",
    "        self.out_gender = nn.Sigmoid().to(self.device)\n",
    "        \n",
    "        self.linear_profession = nn.Linear(768,384).to(self.device)\n",
    "        self.activation_profession = nn.Tanh().to(self.device)\n",
    "        self.dropout_profession = nn.Dropout(0.15).to(self.device)\n",
    "        self.linear_profession_1 = nn.Linear(384,3).to(self.device)\n",
    "        self.out_profession = nn.LogSoftmax(dim = 1).to(self.device)\n",
    "        \n",
    "        self.linear_ideology = nn.Linear(768,384).to(self.device)\n",
    "        self.activation_ideology = nn.Tanh().to(self.device)\n",
    "        self.dropout_ideology = nn.Dropout(0.15).to(self.device)\n",
    "        self.linear_ideology_1 = nn.Linear(384,1).to(self.device)\n",
    "        self.out_ideology = nn.Sigmoid().to(self.device)\n",
    "        \n",
    "        self.linear_ideology_multiclass = nn.Linear(768,384).to(self.device)\n",
    "        self.activation_ideology_multiclass = nn.Tanh().to(self.device)\n",
    "        self.dropout_ideology_multiclass = nn.Dropout(0.15).to(self.device)\n",
    "        self.linear_ideology_multiclass_1 = nn.Linear(384,4).to(self.device)\n",
    "        self.out_ideology_multiclass = nn.LogSoftmax(dim = 1).to(self.device)\n",
    "        \n",
    "    def forward(self, x):\n",
    "        tokenized = self.tokenizer_albert.batch_encode_plus(x,     \n",
    "                        add_special_tokens = True, \n",
    "                        max_length = 512,        \n",
    "                        truncation=True,\n",
    "                        padding = 'max_length',\n",
    "                        return_attention_mask = True,\n",
    "                        return_tensors = 'pt')\n",
    "        embedings = self.encoder_albert(**tokenized.to(self.device))\n",
    "        embedings = self.dropout_albert(embedings['pooler_output']).to(self.device)\n",
    "        x_gender = self.linear_gender(embedings)\n",
    "        x_gender = self.activation_gender(x_gender)\n",
    "        x_gender = self.dropout_gender(x_gender)\n",
    "        x_gender = self.linear_gender_1(x_gender)\n",
    "        y_gender = self.out_gender(x_gender)\n",
    "        \n",
    "        x_profession = self.linear_profession(embedings)\n",
    "        x_profession = self.activation_profession(x_profession)\n",
    "        x_profession = self.dropout_profession(x_profession)\n",
    "        x_profession = self.linear_profession_1(x_profession)\n",
    "        y_profession = self.out_profession(x_profession)\n",
    "        \n",
    "        x_ideology = self.linear_ideology(embedings)\n",
    "        x_ideology = self.activation_ideology(x_ideology)\n",
    "        x_ideology = self.dropout_ideology(x_ideology)\n",
    "        x_ideology = self.linear_ideology_1(x_ideology)\n",
    "        y_ideology = self.out_ideology(x_ideology)\n",
    "        \n",
    "        x_ideology_multiclass = self.linear_ideology_multiclass(embedings)\n",
    "        x_ideology_multiclass = self.activation_ideology_multiclass(x_ideology_multiclass)\n",
    "        x_ideology_multiclass = self.dropout_ideology_multiclass(x_ideology_multiclass)\n",
    "        x_ideology_multiclass = self.linear_ideology_multiclass_1(x_ideology_multiclass)\n",
    "        y_ideology_multiclass = self.out_ideology_multiclass(x_ideology_multiclass)\n",
    "        return y_gender, y_profession, y_ideology, y_ideology_multiclass"
   ]
  },
  {
   "cell_type": "code",
   "execution_count": 3,
   "id": "ee357c71",
   "metadata": {},
   "outputs": [],
   "source": [
    "from torch.utils.data import DataLoader, Dataset\n",
    "\n",
    "class PoliticESDataset(Dataset):\n",
    "    def __init__(self, tweet, gender, profession, ideology, ideology_mc):\n",
    "        self.tweet = tweet      \n",
    "        self.gender = gender\n",
    "        self.profession = profession\n",
    "        self.ideology = ideology\n",
    "        self.ideology_mc = ideology_mc\n",
    "    def __len__(self):\n",
    "        return len(self.tweet)\n",
    "    def __getitem__(self, item):\n",
    "        return {\n",
    "            'tweet': self.tweet[item],\n",
    "            'labels': [\n",
    "                self.gender[item],\n",
    "                self.profession[item],\n",
    "                self.ideology[item],\n",
    "                self.ideology_mc[item]\n",
    "            ]\n",
    "        }\n",
    "\n",
    "def create_data_loader(df, batch_size = 16):\n",
    "    return DataLoader(\n",
    "        PoliticESDataset(\n",
    "            tweet=df.tweet.to_numpy(),\n",
    "            gender = df.gender.to_numpy(),\n",
    "            profession = df.profession.to_numpy(),\n",
    "            ideology = df.ideology_binary.to_numpy(),\n",
    "            ideology_mc = df.ideology_multiclass.to_numpy()\n",
    "        ),\n",
    "        batch_size = batch_size\n",
    "    )"
   ]
  },
  {
   "cell_type": "code",
   "execution_count": 4,
   "id": "0ab480e9",
   "metadata": {},
   "outputs": [],
   "source": [
    "from tqdm import tqdm\n",
    "\n",
    "def fit(model, data_loader, total_steps, optimizer, loss_fns):\n",
    "    model = model.train()\n",
    "    running_loss = 0.\n",
    "    last_loss = 0.\n",
    "    for i, entry in tqdm(enumerate(data_loader), total = total_steps/16):\n",
    "        optimizer.zero_grad()\n",
    "        y_gender, y_profession, y_ideology, y_ideology_multiclass = model(entry[\"tweet\"])       \n",
    "        loss_gender = loss_fns[\"gender\"](y_gender.to(device).flatten(), entry[\"labels\"][0].to(torch.float32).to(device)).to(device)\n",
    "        loss_profession = loss_fns[\"profession\"](y_profession.to(device), entry[\"labels\"][1].to(device)).to(device)\n",
    "        loss_ideology = loss_fns[\"ideology\"](y_ideology.to(device).flatten(), entry[\"labels\"][2].to(torch.float32).to(device)).to(device)\n",
    "        loss_ideology_multiclass = loss_fns[\"ideology_multiclass\"](y_ideology_multiclass.to(device), entry[\"labels\"][3].to(device)).to(device)\n",
    "        loss = loss_gender + loss_profession + loss_ideology + loss_ideology_multiclass\n",
    "        loss.backward()\n",
    "        optimizer.step()\n",
    "        running_loss += loss.item()\n",
    "        if i % 100 == 99:\n",
    "            last_loss = running_loss / 100\n",
    "            running_loss = 0.\n",
    "    return last_loss\n",
    "\n",
    "def test(model, data_loader, total_steps, loss_fns):\n",
    "    correct_predictions = [0.,0.,0.,0.]\n",
    "    loss = 0.\n",
    "    model = model.eval()\n",
    "    with torch.no_grad():\n",
    "        for entry in data_loader:\n",
    "            y_gender, y_profession, y_ideology, y_ideology_multiclass = model(entry[\"tweet\"])\n",
    "            loss_gender = loss_fns[\"gender\"](y_gender.flatten().to(device), entry[\"labels\"][0].to(torch.float32).to(device)).to(device)\n",
    "            loss_profession = loss_fns[\"profession\"](y_profession.to(device), entry[\"labels\"][1].to(device)).to(device)\n",
    "            loss_ideology = loss_fns[\"ideology\"](y_ideology.flatten().to(device), entry[\"labels\"][2].to(torch.float32).to(device)).to(device)\n",
    "            loss_ideology_multiclass = loss_fns[\"ideology_multiclass\"](y_ideology_multiclass.to(device), entry[\"labels\"][3].to(device)).to(device)\n",
    "            loss = loss_gender + loss_profession + loss_ideology + loss_ideology_multiclass\n",
    "            for i, (e, y) in enumerate(zip(entry['labels'], [y_gender, y_profession, y_ideology, y_ideology_multiclass])):\n",
    "                correct_predictions[i] = correct_predictions[i] + torch.sum(torch.eq(e.to(device), torch.argmax(y, dim=1).to(device))).cpu().detach().item()\n",
    "    return [x/total_steps for x in correct_predictions], loss\n",
    "\n",
    "def train_model(model, train_dataset, eval_dataset, EPOCHS, batch_size, lr):\n",
    "    train_data_loader = create_data_loader(train_dataset, batch_size)\n",
    "    eval_data_loader = create_data_loader(eval_dataset, batch_size)\n",
    "    loss_fns = {\n",
    "        \"gender\": nn.BCELoss(),\n",
    "        \"profession\": nn.NLLLoss(),\n",
    "        \"ideology\": nn.BCELoss(),\n",
    "        \"ideology_multiclass\": nn.NLLLoss(),\n",
    "    }\n",
    "    optimizer = torch.optim.AdamW(model.parameters(), lr=lr)\n",
    "    for epoch in range(EPOCHS):\n",
    "        train_loss = fit(model, train_data_loader, len(train_dataset), optimizer, loss_fns)\n",
    "        print(f'EPOCH {epoch + 1}: Pérdida: {train_loss}')\n",
    "        eval_acc, eval_loss = test(model, eval_data_loader, len(eval_dataset), loss_fns)\n",
    "        print(f'Eval loss: {eval_acc} Eval accs: {eval_loss.item()}')"
   ]
  },
  {
   "cell_type": "code",
   "execution_count": null,
   "id": "782dccaa",
   "metadata": {
    "scrolled": true
   },
   "outputs": [
    {
     "name": "stderr",
     "output_type": "stream",
     "text": [
      "Some weights of the model checkpoint at PlanTL-GOB-ES/roberta-base-bne were not used when initializing RobertaModel: ['lm_head.layer_norm.weight', 'lm_head.dense.bias', 'lm_head.bias', 'lm_head.decoder.weight', 'lm_head.decoder.bias', 'lm_head.dense.weight', 'lm_head.layer_norm.bias']\n",
      "- This IS expected if you are initializing RobertaModel from the checkpoint of a model trained on another task or with another architecture (e.g. initializing a BertForSequenceClassification model from a BertForPreTraining model).\n",
      "- This IS NOT expected if you are initializing RobertaModel from the checkpoint of a model that you expect to be exactly identical (initializing a BertForSequenceClassification model from a BertForSequenceClassification model).\n",
      "100%|██████████████████████████████████████████████████████████████████████████████| 900/900.0 [11:45<00:00,  1.28it/s]\n"
     ]
    },
    {
     "name": "stdout",
     "output_type": "stream",
     "text": [
      "EPOCH 1: Pérdida: 3.6079621052742006\n",
      "Eval loss: [0.37777777777777777, 0.3888888888888889, 0.5777777777777777, 0.4] Eval accs: 3.8938846588134766\n"
     ]
    },
    {
     "name": "stderr",
     "output_type": "stream",
     "text": [
      "100%|██████████████████████████████████████████████████████████████████████████████| 900/900.0 [11:54<00:00,  1.26it/s]\n"
     ]
    },
    {
     "name": "stdout",
     "output_type": "stream",
     "text": [
      "EPOCH 2: Pérdida: 3.6061617851257326\n",
      "Eval loss: [0.37777777777777777, 0.5666666666666667, 0.5777777777777777, 0.4] Eval accs: 3.9865453243255615\n"
     ]
    },
    {
     "name": "stderr",
     "output_type": "stream",
     "text": [
      "100%|██████████████████████████████████████████████████████████████████████████████| 900/900.0 [11:56<00:00,  1.26it/s]\n"
     ]
    },
    {
     "name": "stdout",
     "output_type": "stream",
     "text": [
      "EPOCH 3: Pérdida: 3.6637202382087706\n",
      "Eval loss: [0.37777777777777777, 0.3888888888888889, 0.5777777777777777, 0.4] Eval accs: 3.9148473739624023\n"
     ]
    },
    {
     "name": "stderr",
     "output_type": "stream",
     "text": [
      " 78%|█████████████████████████████████████████████████████████████                 | 705/900.0 [09:22<02:40,  1.22it/s]"
     ]
    }
   ],
   "source": [
    "df_train = pd.read_csv('../../data/multilabel_encoded.csv')\n",
    "df_eval = pd.read_csv('../../data/multilabel_encoded_test.csv')\n",
    "model = Albert()\n",
    "train_model(model, df_train, df_eval, 5, 16, 3e-4)\n",
    "torch.save(model.state_dict(), './albert.bin')"
   ]
  },
  {
   "cell_type": "code",
   "execution_count": null,
   "id": "826b5fe1",
   "metadata": {
    "scrolled": true
   },
   "outputs": [],
   "source": [
    "loss_fns = {\n",
    "        \"gender\": nn.CrossEntropyLoss,\n",
    "        \"profession\": nn.NLLLoss(),\n",
    "        \"ideology\": nn.CrossEntropyLoss,\n",
    "        \"ideology_multiclass\": nn.NLLLoss(),\n",
    "    }\n",
    "eval_data_loader = create_data_loader(df_eval, 16)\n",
    "test(model, eval_data_loader, len(df_eval), loss_fns)"
   ]
  },
  {
   "cell_type": "code",
   "execution_count": null,
   "id": "d84ccfb1",
   "metadata": {},
   "outputs": [],
   "source": [
    "t = torch.tensor([[2],[3]])\n",
    "t.flatten()"
   ]
  }
 ],
 "metadata": {
  "kernelspec": {
   "display_name": "Python 3 (ipykernel)",
   "language": "python",
   "name": "python3"
  },
  "language_info": {
   "codemirror_mode": {
    "name": "ipython",
    "version": 3
   },
   "file_extension": ".py",
   "mimetype": "text/x-python",
   "name": "python",
   "nbconvert_exporter": "python",
   "pygments_lexer": "ipython3",
   "version": "3.9.13"
  }
 },
 "nbformat": 4,
 "nbformat_minor": 5
}

{
 "cells": [
  {
   "cell_type": "code",
   "execution_count": 18,
   "id": "ba0c65d4",
   "metadata": {},
   "outputs": [],
   "source": [
    "from transformers import AutoTokenizer\n",
    "import pandas as pd\n",
    "import numpy as np\n",
    "import nltk\n",
    "\n",
    "tokenizer = AutoTokenizer.from_pretrained(\"Newtral/xlm-r-finetuned-toxic-political-tweets-es\")"
   ]
  },
  {
   "cell_type": "code",
   "execution_count": 19,
   "id": "431f1c52",
   "metadata": {},
   "outputs": [],
   "source": [
    "tokens = tokenizer(\"Buenas tardes, como están ustedes?\")"
   ]
  },
  {
   "cell_type": "code",
   "execution_count": 20,
   "id": "051f6e62",
   "metadata": {},
   "outputs": [
    {
     "data": {
      "text/plain": [
       "{'input_ids': [0, 161457, 7, 15234, 7, 4, 533, 6805, 172540, 32, 2], 'attention_mask': [1, 1, 1, 1, 1, 1, 1, 1, 1, 1, 1]}"
      ]
     },
     "execution_count": 20,
     "metadata": {},
     "output_type": "execute_result"
    }
   ],
   "source": [
    "# https://huggingface.co/Newtral/xlm-r-finetuned-toxic-political-tweets-es"
   ]
  }
 ],
 "metadata": {
  "kernelspec": {
   "display_name": "Python 3 (ipykernel)",
   "language": "python",
   "name": "python3"
  },
  "language_info": {
   "codemirror_mode": {
    "name": "ipython",
    "version": 3
   },
   "file_extension": ".py",
   "mimetype": "text/x-python",
   "name": "python",
   "nbconvert_exporter": "python",
   "pygments_lexer": "ipython3",
   "version": "3.9.13"
  }
 },
 "nbformat": 4,
 "nbformat_minor": 5
}

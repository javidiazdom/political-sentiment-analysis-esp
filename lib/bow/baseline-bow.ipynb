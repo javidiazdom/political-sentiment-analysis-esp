{
 "cells": [
  {
   "cell_type": "markdown",
   "id": "cb3094b0",
   "metadata": {},
   "source": [
    "# Baseline Bag of words\n",
    "\n",
    "Para reproducir el modelo suministrado por los organizadores de la competición en Codalab se han de realizar los siguientes pasos."
   ]
  },
  {
   "cell_type": "code",
   "execution_count": 2,
   "id": "1cbf1de9",
   "metadata": {},
   "outputs": [
    {
     "name": "stderr",
     "output_type": "stream",
     "text": [
      "[nltk_data] Downloading package stopwords to\n",
      "[nltk_data]     C:\\Users\\javid\\AppData\\Roaming\\nltk_data...\n",
      "[nltk_data]   Package stopwords is already up-to-date!\n"
     ]
    },
    {
     "data": {
      "text/plain": [
       "True"
      ]
     },
     "execution_count": 2,
     "metadata": {},
     "output_type": "execute_result"
    }
   ],
   "source": [
    "import pandas as pd\n",
    "import numpy as np\n",
    "\n",
    "from sklearn.feature_extraction.text import TfidfVectorizer\n",
    "from sklearn.linear_model import LogisticRegression\n",
    "from sklearn.metrics import f1_score\n",
    "from sklearn.metrics import classification_report\n",
    "import nltk\n",
    "\n",
    "from tqdm import tqdm\n",
    "\n",
    "nltk.download('stopwords')"
   ]
  },
  {
   "cell_type": "markdown",
   "id": "e00e5739",
   "metadata": {},
   "source": [
    "## Descargar los últimos datos\n",
    "Después de realizar la configuración de paquetes pertinente, se procede con la descarga de los conjuntos de datos directamente desde el servidor, obteniendo las versiones más actualizadas de los conjuntos de datos."
   ]
  },
  {
   "cell_type": "code",
   "execution_count": 9,
   "id": "77f72c38",
   "metadata": {},
   "outputs": [
    {
     "name": "stdout",
     "output_type": "stream",
     "text": [
      "100% [............................................................................] 926389 / 926389"
     ]
    },
    {
     "data": {
      "text/plain": [
       "'../data/politicES_phase_1_testdev_codalab.csv'"
      ]
     },
     "execution_count": 9,
     "metadata": {},
     "output_type": "execute_result"
    }
   ],
   "source": [
    "import wget\n",
    "wget.download(\"https://pln.inf.um.es/corpora/politices/2023/politicES_phase_1_traindev_public.csv\",\"../data/politicES_phase_1_traindev_public.csv\")\n",
    "wget.download(\"https://pln.inf.um.es/corpora/politices/2023/politicES_phase_1_testdev_codalab.csv\",\"../data/politicES_phase_1_testdev_codalab.csv\")"
   ]
  },
  {
   "cell_type": "markdown",
   "id": "1ed8380a",
   "metadata": {},
   "source": [
    "## Carga de datos\n",
    "A continuación se cargan los datos en memoria para poder trabajar con ellos."
   ]
  },
  {
   "cell_type": "code",
   "execution_count": 14,
   "id": "e0cdf0ab",
   "metadata": {},
   "outputs": [],
   "source": [
    "df_train = pd.read_csv(\"../data/politicES_phase_1_traindev_public.csv\")\n",
    "df_test = pd.read_csv(\"../data/politicES_phase_1_testdev_codalab.csv\")\n",
    "\n",
    "columns = ['label', 'gender', 'profession', 'ideology_binary', 'ideology_multiclass']\n",
    "\n",
    "for df in [df_train, df_test]:\n",
    "    for column in columns:\n",
    "        df[column] = df[column].astype('category')"
   ]
  },
  {
   "cell_type": "markdown",
   "id": "c3d466cb",
   "metadata": {},
   "source": [
    "## Entrenamiento del modelo baseline\n",
    "Para ello, se lleva a cabo primeramente una fase de transformación de los datos, combinando los documentos para cada clúster y entrenando un modelo de regeresión logística para cada característica."
   ]
  },
  {
   "cell_type": "code",
   "execution_count": 20,
   "id": "94ff09f0",
   "metadata": {},
   "outputs": [
    {
     "name": "stderr",
     "output_type": "stream",
     "text": [
      "merging clusters: 100%|████████████████████████████████████████████████████████████| 360/360 [00:00<00:00, 1800.98it/s]\n",
      "merging clusters: 100%|██████████████████████████████████████████████████████████████| 90/90 [00:00<00:00, 1658.13it/s]\n"
     ]
    }
   ],
   "source": [
    "dataframes = {\n",
    "    'train': df_train,\n",
    "    'test': df_test\n",
    "}\n",
    "\n",
    "for key, df in dataframes.items():\n",
    "    group = df.groupby(by = columns, dropna=False, observed=True, sort=False)\n",
    "    df_clusters=group[columns].agg(func=['count'], as_index=False, observed=True).index.to_frame(index=False)\n",
    "    merged_fields = []\n",
    "    pbar=tqdm(df_clusters.iterrows(), total = df_clusters.shape[0], desc=\"merging clusters\")\n",
    "    for index,row in pbar:\n",
    "        df_cluster = df[(df['label'] == row['label'])]\n",
    "        merged_fields.append({**row, **{field:' [SEP] '.join(df_cluster[field].fillna('')) for field in ['tweet']}})\n",
    "    dataframes[key] = pd.DataFrame(merged_fields)"
   ]
  },
  {
   "cell_type": "code",
   "execution_count": 22,
   "id": "b1c399cf",
   "metadata": {},
   "outputs": [],
   "source": [
    "stop_words = nltk.corpus.stopwords.words('spanish')\n",
    "\n",
    "vectorizer = TfidfVectorizer(\n",
    "    analyzer='word',\n",
    "    min_df = .1,\n",
    "    max_features = 50_000,\n",
    "    lowercase=True,\n",
    "    stop_words=stop_words\n",
    ")\n",
    "\n",
    "X_train = vectorizer.fit_transform(dataframes['train']['tweet'])\n",
    "\n",
    "X_test = vectorizer.transform(dataframes['test']['tweet'])\n",
    "\n",
    "baselines = {}\n",
    "\n",
    "for label in ['gender', 'profession', 'ideology_binary', 'ideology_multiclass']:\n",
    "    baselines[label] = LogisticRegression()\n",
    "    \n",
    "    baselines[label].fit(X_train, dataframes['train'][label])"
   ]
  },
  {
   "cell_type": "code",
   "execution_count": 23,
   "id": "4caec148",
   "metadata": {},
   "outputs": [
    {
     "name": "stdout",
     "output_type": "stream",
     "text": [
      "gender\n",
      "              precision    recall  f1-score   support\n",
      "\n",
      "      female   0.800000  0.117647  0.205128        34\n",
      "        male   0.647059  0.982143  0.780142        56\n",
      "\n",
      "    accuracy                       0.655556        90\n",
      "   macro avg   0.723529  0.549895  0.492635        90\n",
      "weighted avg   0.704837  0.655556  0.562914        90\n",
      "\n",
      "profession\n",
      "              precision    recall  f1-score   support\n",
      "\n",
      "   celebrity   0.000000  0.000000  0.000000         4\n",
      "  journalist   0.757576  0.980392  0.854701        51\n",
      "  politician   0.958333  0.657143  0.779661        35\n",
      "\n",
      "    accuracy                       0.811111        90\n",
      "   macro avg   0.571970  0.545845  0.544787        90\n",
      "weighted avg   0.801978  0.811111  0.787532        90\n",
      "\n",
      "ideology_binary\n",
      "              precision    recall  f1-score   support\n",
      "\n",
      "        left   0.754098  0.884615  0.814159        52\n",
      "       right   0.793103  0.605263  0.686567        38\n",
      "\n",
      "    accuracy                       0.766667        90\n",
      "   macro avg   0.773601  0.744939  0.750363        90\n",
      "weighted avg   0.770567  0.766667  0.760287        90\n",
      "\n",
      "ideology_multiclass\n",
      "                precision    recall  f1-score   support\n",
      "\n",
      "          left   0.600000  0.187500  0.285714        16\n",
      " moderate_left   0.595745  0.777778  0.674699        36\n",
      "moderate_right   0.552632  0.777778  0.646154        27\n",
      "         right   0.000000  0.000000  0.000000        11\n",
      "\n",
      "      accuracy                       0.577778        90\n",
      "     macro avg   0.437094  0.435764  0.401642        90\n",
      "  weighted avg   0.510754  0.577778  0.514519        90\n",
      "\n"
     ]
    }
   ],
   "source": [
    "for label in ['gender', 'profession', 'ideology_binary', 'ideology_multiclass']:\n",
    "    y_pred = baselines[label].predict(X_test)\n",
    "    print(label)\n",
    "    print(classification_report(dataframes['test'][label], y_pred, zero_division=0, digits=6))"
   ]
  },
  {
   "cell_type": "code",
   "execution_count": 27,
   "id": "75693a2d",
   "metadata": {},
   "outputs": [
    {
     "name": "stdout",
     "output_type": "stream",
     "text": [
      "El valor final de la puntuación f1 es 0.5473568187423464\n"
     ]
    }
   ],
   "source": [
    "# Cálculo del resultado total (Esto es para la entrega en codalab)\n",
    "f1_scores = {}\n",
    "for label in ['gender', 'profession', 'ideology_binary', 'ideology_multiclass']:\n",
    "    y_pred = baselines[label].predict(X_test)\n",
    "    f1_scores[label] = f1_score(dataframes['test'][label], y_pred, average='macro')\n",
    "f1_scores = list(f1_scores.values())\n",
    "print(\"El valor final de la puntuación f1 es {f1}\". format(f1=np.mean(f1_scores)))"
   ]
  }
 ],
 "metadata": {
  "kernelspec": {
   "display_name": "Python 3 (ipykernel)",
   "language": "python",
   "name": "python3"
  },
  "language_info": {
   "codemirror_mode": {
    "name": "ipython",
    "version": 3
   },
   "file_extension": ".py",
   "mimetype": "text/x-python",
   "name": "python",
   "nbconvert_exporter": "python",
   "pygments_lexer": "ipython3",
   "version": "3.9.12"
  }
 },
 "nbformat": 4,
 "nbformat_minor": 5
}

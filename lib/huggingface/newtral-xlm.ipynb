{
 "cells": [
  {
   "cell_type": "code",
   "execution_count": 1,
   "id": "ba0c65d4",
   "metadata": {
    "scrolled": true
   },
   "outputs": [],
   "source": [
    "import transformers\n",
    "import pandas as pd\n",
    "import numpy as np\n",
    "import nltk\n",
    "from utils import TweetsDataset\n",
    "import torch\n",
    "\n",
    "device = torch.device(\"cuda:0\" if torch.cuda.is_available() else \"cpu\")"
   ]
  },
  {
   "cell_type": "code",
   "execution_count": 9,
   "id": "431f1c52",
   "metadata": {},
   "outputs": [],
   "source": [
    "tokenizer = transformers.AutoTokenizer.from_pretrained(\"Newtral/xlm-r-finetuned-toxic-political-tweets-es\")\n",
    "df = pd.read_csv(\"../../data/procesed.csv\")"
   ]
  },
  {
   "cell_type": "code",
   "execution_count": 3,
   "id": "051f6e62",
   "metadata": {
    "scrolled": true
   },
   "outputs": [],
   "source": [
    "# https://huggingface.co/Newtral/xlm-r-finetuned-toxic-political-tweets-es"
   ]
  },
  {
   "cell_type": "code",
   "execution_count": 4,
   "id": "6470ffd7",
   "metadata": {
    "scrolled": true
   },
   "outputs": [
    {
     "name": "stderr",
     "output_type": "stream",
     "text": [
      "Some weights of the model checkpoint at xlm-roberta-base were not used when initializing XLMRobertaForSequenceClassification: ['roberta.pooler.dense.bias', 'lm_head.dense.weight', 'lm_head.decoder.weight', 'lm_head.dense.bias', 'lm_head.layer_norm.weight', 'lm_head.layer_norm.bias', 'lm_head.bias', 'roberta.pooler.dense.weight']\n",
      "- This IS expected if you are initializing XLMRobertaForSequenceClassification from the checkpoint of a model trained on another task or with another architecture (e.g. initializing a BertForSequenceClassification model from a BertForPreTraining model).\n",
      "- This IS NOT expected if you are initializing XLMRobertaForSequenceClassification from the checkpoint of a model that you expect to be exactly identical (initializing a BertForSequenceClassification model from a BertForSequenceClassification model).\n",
      "Some weights of XLMRobertaForSequenceClassification were not initialized from the model checkpoint at xlm-roberta-base and are newly initialized: ['classifier.out_proj.weight', 'classifier.dense.weight', 'classifier.dense.bias', 'classifier.out_proj.bias']\n",
      "You should probably TRAIN this model on a down-stream task to be able to use it for predictions and inference.\n"
     ]
    }
   ],
   "source": [
    "model = transformers.XLMRobertaForSequenceClassification.from_pretrained(\"xlm-roberta-base\", num_labels=4, problem_type=\"multi_label_classification\")"
   ]
  },
  {
   "cell_type": "code",
   "execution_count": 5,
   "id": "48f1c26a",
   "metadata": {},
   "outputs": [],
   "source": [
    "df_train, df_valid, df_test = TweetsDataset.split_test_val(df,test_size=0.20,valid_size=0.20)\n",
    "train_data_loader = TweetsDataset.create_data_loader(df_train, tokenizer, batch_size=8)\n",
    "valid_data_loader = TweetsDataset.create_data_loader(df_valid, tokenizer, batch_size=8)"
   ]
  },
  {
   "cell_type": "code",
   "execution_count": 6,
   "id": "06e3aeba",
   "metadata": {},
   "outputs": [],
   "source": [
    "model = model.to(device)\n",
    "\n",
    "EPOCHS = 5\n",
    "\n",
    "optimizer = torch.optim.AdamW(model.parameters(), lr=5e-5)\n",
    "total_steps = len(train_data_loader) * EPOCHS\n",
    "\n",
    "scheduler = transformers.get_linear_schedule_with_warmup(\n",
    "    optimizer,\n",
    "    num_warmup_steps = 0, \n",
    "    num_training_steps = total_steps\n",
    ")"
   ]
  },
  {
   "cell_type": "code",
   "execution_count": 7,
   "id": "3e062324",
   "metadata": {},
   "outputs": [
    {
     "name": "stdout",
     "output_type": "stream",
     "text": [
      "Epoch 1/5\n",
      "----------\n",
      "\u001b[KTrain loss 0.5407546909381389 Accuracy 0.3506343713956171\n",
      "Val loss 0.5379155062966876 Accuracy 0.3277777777777778\n",
      "\n",
      "Epoch 2/5\n",
      "----------\n",
      "\u001b[KTrain loss 0.5373690957568592 Accuracy 0.3543829296424452\n",
      "Val loss 0.535550054024767 Accuracy 0.3638888888888889\n",
      "\n",
      "Epoch 3/5\n",
      "----------\n",
      "\u001b[KTrain loss 0.5367523357558489 Accuracy 0.3502499038831219\n",
      "Val loss 0.5361981568513093 Accuracy 0.3638888888888889\n",
      "\n",
      "Epoch 4/5\n",
      "----------\n",
      "\u001b[KTrain loss 0.53607926544641 Accuracy 0.3636101499423299\n",
      "Val loss 0.5356593176170632 Accuracy 0.3638888888888889\n",
      "\n",
      "Epoch 5/5\n",
      "----------\n",
      "\u001b[KTrain loss 0.5356174074485611 Accuracy 0.36034217608612074\n",
      "Val loss 0.5348692771461275 Accuracy 0.3638888888888889\n",
      "\n"
     ]
    },
    {
     "data": {
      "text/plain": [
       "defaultdict(list,\n",
       "            {'train_acc': [0.3506343713956171,\n",
       "              0.3543829296424452,\n",
       "              0.3502499038831219,\n",
       "              0.3636101499423299,\n",
       "              0.36034217608612074],\n",
       "             'train_loss': [0.5407546909381389,\n",
       "              0.5373690957568592,\n",
       "              0.5367523357558489,\n",
       "              0.53607926544641,\n",
       "              0.5356174074485611],\n",
       "             'val_acc': [0.3277777777777778,\n",
       "              0.3638888888888889,\n",
       "              0.3638888888888889,\n",
       "              0.3638888888888889,\n",
       "              0.3638888888888889],\n",
       "             'val_loss': [0.5379155062966876,\n",
       "              0.535550054024767,\n",
       "              0.5361981568513093,\n",
       "              0.5356593176170632,\n",
       "              0.5348692771461275]})"
      ]
     },
     "execution_count": 7,
     "metadata": {},
     "output_type": "execute_result"
    }
   ],
   "source": [
    "from collections import defaultdict\n",
    "from utils import Model\n",
    "\n",
    "history = defaultdict(list)\n",
    "\n",
    "Model.train(EPOCHS, model, train_data_loader, optimizer, device, scheduler, history, len(df_train), len(df_valid), valid_data_loader)"
   ]
  },
  {
   "cell_type": "code",
   "execution_count": 8,
   "id": "6ced76ee",
   "metadata": {},
   "outputs": [],
   "source": [
    "torch.save(model.state_dict(), 'xlm_newtral_pretrained.bin')"
   ]
  }
 ],
 "metadata": {
  "kernelspec": {
   "display_name": "Python 3 (ipykernel)",
   "language": "python",
   "name": "python3"
  },
  "language_info": {
   "codemirror_mode": {
    "name": "ipython",
    "version": 3
   },
   "file_extension": ".py",
   "mimetype": "text/x-python",
   "name": "python",
   "nbconvert_exporter": "python",
   "pygments_lexer": "ipython3",
   "version": "3.9.13"
  }
 },
 "nbformat": 4,
 "nbformat_minor": 5
}

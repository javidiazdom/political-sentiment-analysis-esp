{
 "cells": [
  {
   "cell_type": "code",
   "execution_count": 1,
   "id": "ebb8aca4",
   "metadata": {},
   "outputs": [],
   "source": [
    "import numpy as np\n",
    "import pandas as pd\n",
    "import torch\n",
    "from transformers import RobertaTokenizer, RobertaModel\n",
    "device = torch.device(\"cuda:0\" if torch.cuda.is_available() else \"cpu\")"
   ]
  },
  {
   "cell_type": "code",
   "execution_count": 2,
   "id": "0f6c8665",
   "metadata": {},
   "outputs": [],
   "source": [
    "tokenizer_roberta = RobertaTokenizer.from_pretrained(\"PlanTL-GOB-ES/roberta-base-bne\")"
   ]
  },
  {
   "cell_type": "code",
   "execution_count": 3,
   "id": "548bbbfe",
   "metadata": {},
   "outputs": [],
   "source": [
    "from torch import nn\n",
    "\n",
    "class Albert(torch.nn.Module):\n",
    "    \n",
    "    def __init__(self):\n",
    "        super(Albert, self).__init__()\n",
    "        self.max_len = 512\n",
    "        self.device = torch.device(\"cuda:0\" if torch.cuda.is_available() else \"cpu\")\n",
    "        self.encoder = RobertaModel.from_pretrained(\"PlanTL-GOB-ES/roberta-base-bne\").to(self.device)\n",
    "        self.dropout = nn.Dropout(0.15)\n",
    "        \n",
    "        self.linear_gender = nn.Linear(768,768).to(self.device)\n",
    "        self.activation_gender = nn.ReLU().to(self.device)\n",
    "        self.dropout_gender = nn.Dropout(0.15).to(self.device)\n",
    "        self.linear_gender_1 = nn.Linear(768,1).to(self.device)\n",
    "        self.out_gender = nn.Sigmoid().to(self.device)\n",
    "        \n",
    "        self.linear_profession = nn.Linear(768,768).to(self.device)\n",
    "        self.activation_profession = nn.ReLU().to(self.device)\n",
    "        self.dropout_profession = nn.Dropout(0.15).to(self.device)\n",
    "        self.linear_profession_1 = nn.Linear(768,3).to(self.device)\n",
    "        \n",
    "        self.linear_ideology = nn.Linear(768,768).to(self.device)\n",
    "        self.activation_ideology = nn.ReLU().to(self.device)\n",
    "        self.dropout_ideology = nn.Dropout(0.15).to(self.device)\n",
    "        self.linear_ideology_1 = nn.Linear(768,1).to(self.device)\n",
    "        self.out_ideology = nn.Sigmoid().to(self.device)\n",
    "        \n",
    "        self.linear_ideology_multiclass = nn.Linear(768,768).to(self.device)\n",
    "        self.activation_ideology_multiclass = nn.ReLU().to(self.device)\n",
    "        self.dropout_ideology_multiclass = nn.Dropout(0.15).to(self.device)\n",
    "        self.linear_ideology_multiclass_1 = nn.Linear(768,4).to(self.device)\n",
    "        \n",
    "    def forward(self, x):\n",
    "        input_ids, attention_mask = x.values()\n",
    "        embedings = self.encoder(input_ids = input_ids.squeeze().to(self.device), attention_mask = attention_mask.squeeze().to(self.device))\n",
    "        embedings = self.dropout(embedings['pooler_output']).to(self.device)\n",
    "        x_gender = self.linear_gender(embedings)\n",
    "        x_gender = self.activation_gender(x_gender)\n",
    "        x_gender = self.dropout_gender(x_gender)\n",
    "        x_gender = self.linear_gender_1(x_gender)\n",
    "        y_gender = self.out_gender(x_gender)\n",
    "        \n",
    "        x_profession = self.linear_profession(embedings)\n",
    "        x_profession = self.activation_profession(x_profession)\n",
    "        x_profession = self.dropout_profession(x_profession)\n",
    "        y_profession = self.linear_profession_1(x_profession)\n",
    "        \n",
    "        x_ideology = self.linear_ideology(embedings)\n",
    "        x_ideology = self.activation_ideology(x_ideology)\n",
    "        x_ideology = self.dropout_ideology(x_ideology)\n",
    "        x_ideology = self.linear_ideology_1(x_ideology)\n",
    "        y_ideology = self.out_ideology(x_ideology)\n",
    "        \n",
    "        x_ideology_multiclass = self.linear_ideology_multiclass(embedings)\n",
    "        x_ideology_multiclass = self.activation_ideology_multiclass(x_ideology_multiclass)\n",
    "        x_ideology_multiclass = self.dropout_ideology_multiclass(x_ideology_multiclass)\n",
    "        y_ideology_multiclass = self.linear_ideology_multiclass_1(x_ideology_multiclass)\n",
    "        return y_gender, y_profession, y_ideology, y_ideology_multiclass"
   ]
  },
  {
   "cell_type": "code",
   "execution_count": 9,
   "id": "208ed2c1",
   "metadata": {},
   "outputs": [],
   "source": [
    "from torch.utils.data import DataLoader, Dataset\n",
    "\n",
    "class PoliticESDataset(Dataset):\n",
    "    def __init__(self, tweet, gender, profession, ideology, ideology_mc, tokenizer):\n",
    "        self.tweet = tweet      \n",
    "        self.gender = gender\n",
    "        self.profession = profession\n",
    "        self.ideology = ideology\n",
    "        self.ideology_mc = ideology_mc\n",
    "        self.tokenizer = tokenizer\n",
    "    def __len__(self):\n",
    "        return len(self.tweet)\n",
    "    def __getitem__(self, item):\n",
    "        return {\n",
    "            \"tweet\": self.tokenizer.encode_plus(self.tweet[item],     \n",
    "                        add_special_tokens = True, \n",
    "                        max_length = 512,        \n",
    "                        truncation=True,\n",
    "                        padding = 'max_length',\n",
    "                        return_attention_mask = True,\n",
    "                        return_tensors = 'pt')\n",
    "            ,\n",
    "            'labels': [\n",
    "                self.gender[item],\n",
    "                self.profession[item],\n",
    "                self.ideology[item],\n",
    "                self.ideology_mc[item]\n",
    "            ]\n",
    "        }\n",
    "\n",
    "def create_data_loader(df, tokenizer, batch_size = 16, shuffle=True):\n",
    "    return DataLoader(\n",
    "        PoliticESDataset(\n",
    "            tweet=df.tweet.to_numpy(),\n",
    "            gender = df.gender.to_numpy(),\n",
    "            profession = df.profession.to_numpy(),\n",
    "            ideology = df.ideology_binary.to_numpy(),\n",
    "            ideology_mc = df.ideology_multiclass.to_numpy(),\n",
    "            tokenizer = tokenizer\n",
    "        ),\n",
    "        batch_size = batch_size,\n",
    "        shuffle=shuffle\n",
    "    )"
   ]
  },
  {
   "cell_type": "code",
   "execution_count": 5,
   "id": "dd4b6b88",
   "metadata": {},
   "outputs": [],
   "source": [
    "from tqdm import tqdm\n",
    "\n",
    "def fit(model, data_loader, total_steps, optimizer, loss_fns):\n",
    "    model = model.train()\n",
    "    running_loss = 0.\n",
    "    last_loss = 0.\n",
    "    for i, entry in tqdm(enumerate(data_loader), total = total_steps/16):\n",
    "        optimizer.zero_grad()\n",
    "        y_gender, y_profession, y_ideology, y_ideology_multiclass = model(entry[\"tweet\"])       \n",
    "        loss_gender = loss_fns[\"gender\"](y_gender.squeeze().to(device), entry[\"labels\"][0].to(torch.float32).to(device)).to(device)\n",
    "        loss_profession = loss_fns[\"profession\"](y_profession.to(device), entry[\"labels\"][1].to(device)).to(device)\n",
    "        loss_ideology = loss_fns[\"ideology\"](y_ideology.squeeze().to(device), entry[\"labels\"][2].to(torch.float32).to(device)).to(device)\n",
    "        loss_ideology_multiclass = loss_fns[\"ideology_multiclass\"](y_ideology_multiclass.to(device), entry[\"labels\"][3].to(device)).to(device)\n",
    "        loss = loss_gender + loss_profession + loss_ideology + loss_ideology_multiclass\n",
    "        loss.backward()\n",
    "        optimizer.step()\n",
    "        running_loss += loss.item()\n",
    "        if i % 100 == 99:\n",
    "            last_loss = running_loss / 100\n",
    "            running_loss = 0.\n",
    "    return last_loss\n",
    "\n",
    "def test(model, data_loader, total_steps, loss_fns):\n",
    "    correct_predictions = [0.,0.,0.,0.]\n",
    "    loss = 0.\n",
    "    model = model.eval()\n",
    "    with torch.no_grad():\n",
    "        for entry in data_loader:\n",
    "            y_gender, y_profession, y_ideology, y_ideology_multiclass = model(entry[\"tweet\"])\n",
    "            loss_gender = loss_fns[\"gender\"](y_gender.squeeze().to(device), entry[\"labels\"][0].to(torch.float32).to(device)).to(device)\n",
    "            loss_profession = loss_fns[\"profession\"](y_profession.to(device), entry[\"labels\"][1].to(device)).to(device)\n",
    "            loss_ideology = loss_fns[\"ideology\"](y_ideology.squeeze().to(device), entry[\"labels\"][2].to(torch.float32).to(device)).to(device)\n",
    "            loss_ideology_multiclass = loss_fns[\"ideology_multiclass\"](y_ideology_multiclass.to(device), entry[\"labels\"][3].to(device)).to(device)\n",
    "            loss = loss_gender + loss_profession + loss_ideology + loss_ideology_multiclass\n",
    "            correct_predictions[0] += torch.sum(torch.eq(entry[\"labels\"][0].to(device), torch.where(y_gender.squeeze() > 0.5, 1, 0).to(device))).cpu().detach().item()\n",
    "            correct_predictions[1] += torch.sum(torch.eq(entry[\"labels\"][1].to(device), torch.argmax(y_profession, dim=1).to(device))).cpu().detach().item()\n",
    "            correct_predictions[2] += torch.sum(torch.eq(entry[\"labels\"][2].to(device), torch.where(y_ideology.squeeze() > 0.5, 1, 0).to(device))).cpu().detach().item()\n",
    "            correct_predictions[3] += torch.sum(torch.eq(entry[\"labels\"][3].to(device), torch.argmax(y_ideology_multiclass, dim=1).to(device))).cpu().detach().item()\n",
    "    return [x/total_steps for x in correct_predictions], loss\n",
    "\n",
    "def train_model(model, train_dataset, eval_dataset, EPOCHS, batch_size, lr):\n",
    "    train_data_loader = create_data_loader(train_dataset, tokenizer_roberta, batch_size)\n",
    "    eval_data_loader = create_data_loader(eval_dataset, tokenizer_roberta, batch_size)\n",
    "    loss_fns = {\n",
    "        \"gender\": nn.BCELoss(),\n",
    "        \"profession\": nn.CrossEntropyLoss(),\n",
    "        \"ideology\": nn.BCELoss(),\n",
    "        \"ideology_multiclass\": nn.CrossEntropyLoss()\n",
    "    }\n",
    "    optimizer = torch.optim.AdamW(model.parameters(), lr=lr)\n",
    "    for epoch in range(EPOCHS):\n",
    "        train_loss = fit(model, train_data_loader, len(train_dataset), optimizer, loss_fns)\n",
    "        print(f'EPOCH {epoch + 1}: Pérdida: {train_loss}')\n",
    "        eval_acc, eval_loss = test(model, eval_data_loader, len(eval_dataset), loss_fns)\n",
    "        print(f'Eval accuracy: {eval_acc} Eval loss: {eval_loss.item()}')"
   ]
  },
  {
   "cell_type": "code",
   "execution_count": 6,
   "id": "11709f87",
   "metadata": {
    "scrolled": false
   },
   "outputs": [
    {
     "name": "stderr",
     "output_type": "stream",
     "text": [
      "Some weights of the model checkpoint at PlanTL-GOB-ES/roberta-base-bne were not used when initializing RobertaModel: ['lm_head.dense.weight', 'lm_head.decoder.weight', 'lm_head.decoder.bias', 'lm_head.bias', 'lm_head.layer_norm.weight', 'lm_head.dense.bias', 'lm_head.layer_norm.bias']\n",
      "- This IS expected if you are initializing RobertaModel from the checkpoint of a model trained on another task or with another architecture (e.g. initializing a BertForSequenceClassification model from a BertForPreTraining model).\n",
      "- This IS NOT expected if you are initializing RobertaModel from the checkpoint of a model that you expect to be exactly identical (initializing a BertForSequenceClassification model from a BertForSequenceClassification model).\n",
      "100%|██████████████████████████████████████████████████████████████████████████████| 900/900.0 [12:51<00:00,  1.17it/s]\n"
     ]
    },
    {
     "name": "stdout",
     "output_type": "stream",
     "text": [
      "EPOCH 1: Pérdida: 2.8176467299461363\n",
      "Eval accuracy: [0.6480555555555556, 0.7680555555555556, 0.675, 0.47694444444444445] Eval loss: 3.1501407623291016\n"
     ]
    },
    {
     "name": "stderr",
     "output_type": "stream",
     "text": [
      "100%|██████████████████████████████████████████████████████████████████████████████| 900/900.0 [16:02<00:00,  1.07s/it]\n"
     ]
    },
    {
     "name": "stdout",
     "output_type": "stream",
     "text": [
      "EPOCH 2: Pérdida: 2.194765404462814\n",
      "Eval accuracy: [0.6688888888888889, 0.7558333333333334, 0.7027777777777777, 0.5186111111111111] Eval loss: 3.923849582672119\n"
     ]
    },
    {
     "name": "stderr",
     "output_type": "stream",
     "text": [
      "100%|██████████████████████████████████████████████████████████████████████████████| 900/900.0 [17:11<00:00,  1.15s/it]\n"
     ]
    },
    {
     "name": "stdout",
     "output_type": "stream",
     "text": [
      "EPOCH 3: Pérdida: 1.2326801699399947\n",
      "Eval accuracy: [0.6855555555555556, 0.7652777777777777, 0.6961111111111111, 0.4930555555555556] Eval loss: 4.8182477951049805\n"
     ]
    },
    {
     "name": "stderr",
     "output_type": "stream",
     "text": [
      "100%|██████████████████████████████████████████████████████████████████████████████| 900/900.0 [18:35<00:00,  1.24s/it]\n"
     ]
    },
    {
     "name": "stdout",
     "output_type": "stream",
     "text": [
      "EPOCH 4: Pérdida: 0.6337519471347332\n",
      "Eval accuracy: [0.6747222222222222, 0.7605555555555555, 0.6761111111111111, 0.4888888888888889] Eval loss: 2.876265525817871\n"
     ]
    },
    {
     "name": "stderr",
     "output_type": "stream",
     "text": [
      "100%|██████████████████████████████████████████████████████████████████████████████| 900/900.0 [20:28<00:00,  1.37s/it]\n"
     ]
    },
    {
     "name": "stdout",
     "output_type": "stream",
     "text": [
      "EPOCH 5: Pérdida: 0.3257904165238142\n",
      "Eval accuracy: [0.6652777777777777, 0.7536111111111111, 0.6841666666666667, 0.4961111111111111] Eval loss: 5.261568546295166\n"
     ]
    }
   ],
   "source": [
    "df_train = pd.read_csv('../../data/multilabel_encoded.csv')\n",
    "df_eval = pd.read_csv('../../data/multilabel_encoded_test.csv')\n",
    "model = Albert()\n",
    "train_model(model, df_train, df_eval, 5, 16, 1e-5)\n",
    "torch.save(model.state_dict(), './beto.bin')"
   ]
  },
  {
   "cell_type": "code",
   "execution_count": 7,
   "id": "45b93f21",
   "metadata": {
    "scrolled": true
   },
   "outputs": [
    {
     "data": {
      "text/plain": [
       "([0.6652777777777777,\n",
       "  0.7536111111111111,\n",
       "  0.6841666666666667,\n",
       "  0.4961111111111111],\n",
       " tensor(5.5175, device='cuda:0'))"
      ]
     },
     "execution_count": 7,
     "metadata": {},
     "output_type": "execute_result"
    }
   ],
   "source": [
    "loss_fns = {\n",
    "        \"gender\": nn.BCELoss(),\n",
    "        \"profession\": nn.CrossEntropyLoss(),\n",
    "        \"ideology\": nn.BCELoss(),\n",
    "        \"ideology_multiclass\": nn.CrossEntropyLoss()\n",
    "    }\n",
    "eval_data_loader = create_data_loader(df_eval, tokenizer_roberta, 16, shuffle = False)\n",
    "test(model, eval_data_loader, len(df_eval), loss_fns)"
   ]
  },
  {
   "cell_type": "code",
   "execution_count": 16,
   "id": "dc36f33d",
   "metadata": {},
   "outputs": [],
   "source": [
    "def test_and_save(model, data_loader, total_steps, loss_fns):\n",
    "    gender = []\n",
    "    profession = []\n",
    "    ideology = []\n",
    "    ideology_multiclass = []\n",
    "    model = model.eval()\n",
    "    with torch.no_grad():\n",
    "        for entry in data_loader:\n",
    "            y_gender, y_profession, y_ideology, y_ideology_multiclass = model(entry[\"tweet\"])\n",
    "            gender = np.concatenate((gender,torch.where(y_gender.squeeze() > 0.5, 1, 0).cpu().detach().numpy()))\n",
    "            profession = np.concatenate((profession,torch.argmax(y_profession, dim=1).cpu().detach().numpy()))\n",
    "            ideology = np.concatenate((ideology,torch.where(y_ideology.squeeze() > 0.5, 1, 0).cpu().detach().numpy()))\n",
    "            ideology_multiclass = np.concatenate((ideology_multiclass,torch.argmax(y_ideology_multiclass, dim=1).cpu().detach().numpy()))\n",
    "    return gender, profession, ideology, ideology_multiclass"
   ]
  },
  {
   "cell_type": "code",
   "execution_count": 17,
   "id": "4c881105",
   "metadata": {},
   "outputs": [],
   "source": [
    "eval_data_loader = create_data_loader(df_eval, tokenizer_roberta, 16, shuffle = False)\n",
    "loss_fns = {\n",
    "        \"gender\": nn.BCELoss(),\n",
    "        \"profession\": nn.CrossEntropyLoss(),\n",
    "        \"ideology\": nn.BCELoss(),\n",
    "        \"ideology_multiclass\": nn.CrossEntropyLoss()\n",
    "    }\n",
    "gender, profession, ideology, ideology_multiclass = test_and_save(model, eval_data_loader, len(df_eval), loss_fns)"
   ]
  },
  {
   "cell_type": "code",
   "execution_count": 20,
   "id": "4b4e033d",
   "metadata": {},
   "outputs": [
    {
     "name": "stdout",
     "output_type": "stream",
     "text": [
      "Report gender\n",
      "              precision    recall  f1-score   support\n",
      "\n",
      "         0.0       0.52      0.56      0.54      1265\n",
      "         1.0       0.75      0.72      0.74      2335\n",
      "\n",
      "    accuracy                           0.67      3600\n",
      "   macro avg       0.64      0.64      0.64      3600\n",
      "weighted avg       0.67      0.67      0.67      3600\n",
      "\n",
      "Report profession\n",
      "              precision    recall  f1-score   support\n",
      "\n",
      "         0.0       0.22      0.35      0.27       100\n",
      "         1.0       0.79      0.81      0.80      1988\n",
      "         2.0       0.77      0.71      0.74      1512\n",
      "\n",
      "    accuracy                           0.75      3600\n",
      "   macro avg       0.59      0.62      0.60      3600\n",
      "weighted avg       0.76      0.75      0.76      3600\n",
      "\n",
      "Report ideology_binary\n",
      "              precision    recall  f1-score   support\n",
      "\n",
      "         0.0       0.70      0.74      0.72      1965\n",
      "         1.0       0.66      0.62      0.64      1635\n",
      "\n",
      "    accuracy                           0.68      3600\n",
      "   macro avg       0.68      0.68      0.68      3600\n",
      "weighted avg       0.68      0.68      0.68      3600\n",
      "\n",
      "Report ideology_multiclass\n",
      "              precision    recall  f1-score   support\n",
      "\n",
      "         0.0       0.41      0.38      0.40       699\n",
      "         1.0       0.53      0.61      0.57      1271\n",
      "         2.0       0.55      0.47      0.51      1264\n",
      "         3.0       0.36      0.43      0.39       366\n",
      "\n",
      "    accuracy                           0.50      3600\n",
      "   macro avg       0.46      0.47      0.47      3600\n",
      "weighted avg       0.50      0.50      0.49      3600\n",
      "\n"
     ]
    }
   ],
   "source": [
    "from sklearn.metrics import classification_report\n",
    "for y_pred, y_true in zip([gender, profession, ideology, ideology_multiclass], [\"gender\",\"profession\", \"ideology_binary\",\"ideology_multiclass\"]):\n",
    "    print(f\"Report {y_true}\")\n",
    "    print(classification_report(y_pred, df_eval[y_true]))"
   ]
  }
 ],
 "metadata": {
  "kernelspec": {
   "display_name": "Python 3 (ipykernel)",
   "language": "python",
   "name": "python3"
  },
  "language_info": {
   "codemirror_mode": {
    "name": "ipython",
    "version": 3
   },
   "file_extension": ".py",
   "mimetype": "text/x-python",
   "name": "python",
   "nbconvert_exporter": "python",
   "pygments_lexer": "ipython3",
   "version": "3.9.13"
  }
 },
 "nbformat": 4,
 "nbformat_minor": 5
}

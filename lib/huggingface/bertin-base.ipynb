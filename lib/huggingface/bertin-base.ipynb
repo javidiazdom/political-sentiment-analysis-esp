{
 "cells": [
  {
   "cell_type": "code",
   "execution_count": 1,
   "id": "f48cd4df",
   "metadata": {},
   "outputs": [],
   "source": [
    "!pip install -qq transformers\n",
    "import pandas as pd\n",
    "import numpy as np\n",
    "import nltk\n",
    "import re\n",
    "from nltk.corpus import stopwords\n",
    "import transformers\n",
    "import torch\n",
    "from nltk.tokenize import word_tokenize\n",
    "from torch.utils.data import Dataset, DataLoader\n",
    "from utils import TweetsDataset\n",
    "\n",
    "device = torch.device(\"cuda:0\" if torch.cuda.is_available() else \"cpu\")"
   ]
  },
  {
   "cell_type": "code",
   "execution_count": 2,
   "id": "87c21d70",
   "metadata": {
    "scrolled": true
   },
   "outputs": [
    {
     "name": "stderr",
     "output_type": "stream",
     "text": [
      "Some weights of the model checkpoint at bertin-project/bertin-roberta-base-spanish were not used when initializing RobertaForSequenceClassification: ['lm_head.layer_norm.bias', 'lm_head.dense.weight', 'lm_head.bias', 'lm_head.layer_norm.weight', 'lm_head.dense.bias']\n",
      "- This IS expected if you are initializing RobertaForSequenceClassification from the checkpoint of a model trained on another task or with another architecture (e.g. initializing a BertForSequenceClassification model from a BertForPreTraining model).\n",
      "- This IS NOT expected if you are initializing RobertaForSequenceClassification from the checkpoint of a model that you expect to be exactly identical (initializing a BertForSequenceClassification model from a BertForSequenceClassification model).\n",
      "Some weights of RobertaForSequenceClassification were not initialized from the model checkpoint at bertin-project/bertin-roberta-base-spanish and are newly initialized: ['classifier.out_proj.weight', 'classifier.out_proj.bias', 'classifier.dense.bias', 'classifier.dense.weight']\n",
      "You should probably TRAIN this model on a down-stream task to be able to use it for predictions and inference.\n"
     ]
    }
   ],
   "source": [
    "tokenizer = transformers.AutoTokenizer.from_pretrained(\"bertin-project/bertin-roberta-base-spanish\")\n",
    "model = transformers.RobertaForSequenceClassification.from_pretrained(\"bertin-project/bertin-roberta-base-spanish\", num_labels=4, problem_type=\"multi_label_classification\")\n",
    "df_train = pd.read_csv(\"../../data/procesed.csv\")"
   ]
  },
  {
   "cell_type": "code",
   "execution_count": 3,
   "id": "9b5073c5",
   "metadata": {},
   "outputs": [],
   "source": [
    "df_train, df_valid = TweetsDataset.split_test_val(df_train)\n",
    "train_data_loader = TweetsDataset.create_data_loader(df_train, tokenizer)\n",
    "valid_data_loader = TweetsDataset.create_data_loader(df_valid, tokenizer)"
   ]
  },
  {
   "cell_type": "code",
   "execution_count": 4,
   "id": "70760d16",
   "metadata": {},
   "outputs": [],
   "source": [
    "model = model.to(device)\n",
    "EPOCHS = 8\n",
    "optimizer = torch.optim.AdamW(model.parameters(), lr= 5e-5)\n",
    "total_steps = len(train_data_loader) * EPOCHS\n",
    "scheduler = transformers.get_linear_schedule_with_warmup(\n",
    "    optimizer,\n",
    "    num_warmup_steps=0,\n",
    "    num_training_steps=total_steps\n",
    ")"
   ]
  },
  {
   "cell_type": "code",
   "execution_count": 5,
   "id": "ba3c0a90",
   "metadata": {},
   "outputs": [
    {
     "name": "stdout",
     "output_type": "stream",
     "text": [
      "Epoch 1/8\n",
      "----------\n",
      "Train loss: 0.538 Accuracy: 0.356\n",
      "Validation loss 0.534 Accuracy: 0.364 F1 score: 0.364\n",
      "\n",
      "Epoch 2/8\n",
      "----------\n",
      "Entrenando ...\r"
     ]
    },
    {
     "ename": "KeyboardInterrupt",
     "evalue": "",
     "output_type": "error",
     "traceback": [
      "\u001b[1;31m---------------------------------------------------------------------------\u001b[0m",
      "\u001b[1;31mKeyboardInterrupt\u001b[0m                         Traceback (most recent call last)",
      "\u001b[1;32m~\\AppData\\Local\\Temp\\ipykernel_24972\\2764056440.py\u001b[0m in \u001b[0;36m<module>\u001b[1;34m\u001b[0m\n\u001b[0;32m      1\u001b[0m \u001b[1;32mfrom\u001b[0m \u001b[0mutils\u001b[0m \u001b[1;32mimport\u001b[0m \u001b[0mModel\u001b[0m\u001b[1;33m\u001b[0m\u001b[1;33m\u001b[0m\u001b[0m\n\u001b[1;32m----> 2\u001b[1;33m \u001b[0mhistory1\u001b[0m \u001b[1;33m=\u001b[0m \u001b[0mModel\u001b[0m\u001b[1;33m.\u001b[0m\u001b[0mtrain\u001b[0m\u001b[1;33m(\u001b[0m\u001b[0mEPOCHS\u001b[0m\u001b[1;33m,\u001b[0m \u001b[0mmodel\u001b[0m\u001b[1;33m,\u001b[0m \u001b[0mtrain_data_loader\u001b[0m\u001b[1;33m,\u001b[0m \u001b[0moptimizer\u001b[0m\u001b[1;33m,\u001b[0m \u001b[0mdevice\u001b[0m\u001b[1;33m,\u001b[0m \u001b[0mscheduler\u001b[0m\u001b[1;33m,\u001b[0m \u001b[0mlen\u001b[0m\u001b[1;33m(\u001b[0m\u001b[0mdf_train\u001b[0m\u001b[1;33m)\u001b[0m\u001b[1;33m,\u001b[0m \u001b[0mlen\u001b[0m\u001b[1;33m(\u001b[0m\u001b[0mdf_valid\u001b[0m\u001b[1;33m)\u001b[0m\u001b[1;33m,\u001b[0m \u001b[0mvalid_data_loader\u001b[0m\u001b[1;33m)\u001b[0m\u001b[1;33m\u001b[0m\u001b[1;33m\u001b[0m\u001b[0m\n\u001b[0m",
      "\u001b[1;32mH:\\GitHub\\political-sentiment-analysis-esp\\lib\\huggingface\\utils\\Model.py\u001b[0m in \u001b[0;36mtrain\u001b[1;34m(EPOCHS, model, train_data_loader, optimizer, device, scheduler, train_len, valid_len, valid_data_loader)\u001b[0m\n\u001b[0;32m     60\u001b[0m         \u001b[0mprint\u001b[0m\u001b[1;33m(\u001b[0m\u001b[1;34mf'Epoch {epoch + 1}/{EPOCHS}'\u001b[0m\u001b[1;33m)\u001b[0m\u001b[1;33m\u001b[0m\u001b[1;33m\u001b[0m\u001b[0m\n\u001b[0;32m     61\u001b[0m         \u001b[0mprint\u001b[0m\u001b[1;33m(\u001b[0m\u001b[1;34m'-'\u001b[0m\u001b[1;33m*\u001b[0m\u001b[1;36m10\u001b[0m\u001b[1;33m)\u001b[0m\u001b[1;33m\u001b[0m\u001b[1;33m\u001b[0m\u001b[0m\n\u001b[1;32m---> 62\u001b[1;33m         \u001b[0mtrain_acc\u001b[0m\u001b[1;33m,\u001b[0m \u001b[0mtrain_loss\u001b[0m \u001b[1;33m=\u001b[0m \u001b[0mtrain_epoch\u001b[0m\u001b[1;33m(\u001b[0m\u001b[0mmodel\u001b[0m\u001b[1;33m,\u001b[0m \u001b[0mtrain_data_loader\u001b[0m\u001b[1;33m,\u001b[0m \u001b[0moptimizer\u001b[0m\u001b[1;33m,\u001b[0m \u001b[0mdevice\u001b[0m\u001b[1;33m,\u001b[0m \u001b[0mscheduler\u001b[0m\u001b[1;33m,\u001b[0m \u001b[0mtrain_len\u001b[0m\u001b[1;33m)\u001b[0m\u001b[1;33m\u001b[0m\u001b[1;33m\u001b[0m\u001b[0m\n\u001b[0m\u001b[0;32m     63\u001b[0m         \u001b[0mprint\u001b[0m\u001b[1;33m(\u001b[0m\u001b[1;34mf'Train loss: {round(train_loss, 3)} Accuracy: {round(train_acc, 3)}'\u001b[0m\u001b[1;33m)\u001b[0m\u001b[1;33m\u001b[0m\u001b[1;33m\u001b[0m\u001b[0m\n\u001b[0;32m     64\u001b[0m         \u001b[0mhistory\u001b[0m\u001b[1;33m[\u001b[0m\u001b[1;34m'train_acc'\u001b[0m\u001b[1;33m]\u001b[0m\u001b[1;33m.\u001b[0m\u001b[0mappend\u001b[0m\u001b[1;33m(\u001b[0m\u001b[0mtrain_acc\u001b[0m\u001b[1;33m)\u001b[0m\u001b[1;33m\u001b[0m\u001b[1;33m\u001b[0m\u001b[0m\n",
      "\u001b[1;32mH:\\GitHub\\political-sentiment-analysis-esp\\lib\\huggingface\\utils\\Model.py\u001b[0m in \u001b[0;36mtrain_epoch\u001b[1;34m(model, data_loader, optimizer, device, scheduler, n_examples)\u001b[0m\n\u001b[0;32m     24\u001b[0m         \u001b[0mcorrect_predictions\u001b[0m \u001b[1;33m+=\u001b[0m \u001b[0mnp\u001b[0m\u001b[1;33m.\u001b[0m\u001b[0msum\u001b[0m\u001b[1;33m(\u001b[0m\u001b[0mpreds\u001b[0m\u001b[1;33m==\u001b[0m\u001b[0mtarg\u001b[0m\u001b[1;33m)\u001b[0m\u001b[1;33m\u001b[0m\u001b[1;33m\u001b[0m\u001b[0m\n\u001b[0;32m     25\u001b[0m         \u001b[0mlosses\u001b[0m\u001b[1;33m.\u001b[0m\u001b[0mappend\u001b[0m\u001b[1;33m(\u001b[0m\u001b[0mloss\u001b[0m\u001b[1;33m.\u001b[0m\u001b[0mitem\u001b[0m\u001b[1;33m(\u001b[0m\u001b[1;33m)\u001b[0m\u001b[1;33m)\u001b[0m\u001b[1;33m\u001b[0m\u001b[1;33m\u001b[0m\u001b[0m\n\u001b[1;32m---> 26\u001b[1;33m         \u001b[0mloss\u001b[0m\u001b[1;33m.\u001b[0m\u001b[0mbackward\u001b[0m\u001b[1;33m(\u001b[0m\u001b[1;33m)\u001b[0m\u001b[1;33m\u001b[0m\u001b[1;33m\u001b[0m\u001b[0m\n\u001b[0m\u001b[0;32m     27\u001b[0m         \u001b[0mtorch\u001b[0m\u001b[1;33m.\u001b[0m\u001b[0mnn\u001b[0m\u001b[1;33m.\u001b[0m\u001b[0mutils\u001b[0m\u001b[1;33m.\u001b[0m\u001b[0mclip_grad_norm_\u001b[0m\u001b[1;33m(\u001b[0m\u001b[0mmodel\u001b[0m\u001b[1;33m.\u001b[0m\u001b[0mparameters\u001b[0m\u001b[1;33m(\u001b[0m\u001b[1;33m)\u001b[0m\u001b[1;33m,\u001b[0m \u001b[0mmax_norm\u001b[0m\u001b[1;33m=\u001b[0m\u001b[1;36m1.0\u001b[0m\u001b[1;33m)\u001b[0m\u001b[1;33m\u001b[0m\u001b[1;33m\u001b[0m\u001b[0m\n\u001b[0;32m     28\u001b[0m         \u001b[0moptimizer\u001b[0m\u001b[1;33m.\u001b[0m\u001b[0mstep\u001b[0m\u001b[1;33m(\u001b[0m\u001b[1;33m)\u001b[0m\u001b[1;33m\u001b[0m\u001b[1;33m\u001b[0m\u001b[0m\n",
      "\u001b[1;32m~\\anaconda3\\lib\\site-packages\\torch\\_tensor.py\u001b[0m in \u001b[0;36mbackward\u001b[1;34m(self, gradient, retain_graph, create_graph, inputs)\u001b[0m\n\u001b[0;32m    486\u001b[0m                 \u001b[0minputs\u001b[0m\u001b[1;33m=\u001b[0m\u001b[0minputs\u001b[0m\u001b[1;33m,\u001b[0m\u001b[1;33m\u001b[0m\u001b[1;33m\u001b[0m\u001b[0m\n\u001b[0;32m    487\u001b[0m             )\n\u001b[1;32m--> 488\u001b[1;33m         torch.autograd.backward(\n\u001b[0m\u001b[0;32m    489\u001b[0m             \u001b[0mself\u001b[0m\u001b[1;33m,\u001b[0m \u001b[0mgradient\u001b[0m\u001b[1;33m,\u001b[0m \u001b[0mretain_graph\u001b[0m\u001b[1;33m,\u001b[0m \u001b[0mcreate_graph\u001b[0m\u001b[1;33m,\u001b[0m \u001b[0minputs\u001b[0m\u001b[1;33m=\u001b[0m\u001b[0minputs\u001b[0m\u001b[1;33m\u001b[0m\u001b[1;33m\u001b[0m\u001b[0m\n\u001b[0;32m    490\u001b[0m         )\n",
      "\u001b[1;32m~\\anaconda3\\lib\\site-packages\\torch\\autograd\\__init__.py\u001b[0m in \u001b[0;36mbackward\u001b[1;34m(tensors, grad_tensors, retain_graph, create_graph, grad_variables, inputs)\u001b[0m\n\u001b[0;32m    195\u001b[0m     \u001b[1;31m# some Python versions print out the first line of a multi-line function\u001b[0m\u001b[1;33m\u001b[0m\u001b[1;33m\u001b[0m\u001b[0m\n\u001b[0;32m    196\u001b[0m     \u001b[1;31m# calls in the traceback and some print out the last line\u001b[0m\u001b[1;33m\u001b[0m\u001b[1;33m\u001b[0m\u001b[0m\n\u001b[1;32m--> 197\u001b[1;33m     Variable._execution_engine.run_backward(  # Calls into the C++ engine to run the backward pass\n\u001b[0m\u001b[0;32m    198\u001b[0m         \u001b[0mtensors\u001b[0m\u001b[1;33m,\u001b[0m \u001b[0mgrad_tensors_\u001b[0m\u001b[1;33m,\u001b[0m \u001b[0mretain_graph\u001b[0m\u001b[1;33m,\u001b[0m \u001b[0mcreate_graph\u001b[0m\u001b[1;33m,\u001b[0m \u001b[0minputs\u001b[0m\u001b[1;33m,\u001b[0m\u001b[1;33m\u001b[0m\u001b[1;33m\u001b[0m\u001b[0m\n\u001b[0;32m    199\u001b[0m         allow_unreachable=True, accumulate_grad=True)  # Calls into the C++ engine to run the backward pass\n",
      "\u001b[1;31mKeyboardInterrupt\u001b[0m: "
     ]
    }
   ],
   "source": [
    "from utils import Model\n",
    "history1 = Model.train(EPOCHS, model, train_data_loader, optimizer, device, scheduler, len(df_train), len(df_valid), valid_data_loader)"
   ]
  },
  {
   "cell_type": "code",
   "execution_count": 7,
   "id": "0e3f1007",
   "metadata": {},
   "outputs": [],
   "source": [
    "torch.save(model.state_dict(), 'roberta_base_spanish.bin')"
   ]
  },
  {
   "cell_type": "markdown",
   "id": "efba5d7a",
   "metadata": {},
   "source": [
    "## Prueba del modelo"
   ]
  },
  {
   "cell_type": "code",
   "execution_count": null,
   "id": "b4f371c4",
   "metadata": {},
   "outputs": [],
   "source": [
    "# Test \n",
    "from utils import Results, Model\n",
    "model = transformers.XLMRobertaForSequenceClassification.from_pretrained(\"bertin-project/bertin-roberta-base-spanish\", num_labels=4, problem_type=\"multi_label_classification\")\n",
    "model.to(device)\n",
    "model.load_state_dict(torch.load('roberta_base_spanish.bin'))\n",
    "df_test = pd.read_csv('../../data/development_test.csv')\n",
    "df_test = pd.DataFrame({\n",
    "    \"tweets\": df_test[\"tweet\"],\n",
    "    \"labels\": df_test[\"ideology_multiclass\"].map({'moderate_left': 0, 'moderate_right': 1, \"left\": 2, \"right\": 3})\n",
    "})\n",
    "\n",
    "test_data_loader = TweetsDataset.create_data_loader(df_test, tokenizer)\n",
    "acc, loss, f1 = Model.test(model, test_data_loader, device, len(df_test))\n",
    "Results.add_result(\"roberta\", \"ideology-multiclass\", acc, loss, f1)"
   ]
  },
  {
   "cell_type": "code",
   "execution_count": 4,
   "id": "b41b3ae3",
   "metadata": {},
   "outputs": [],
   "source": [
    "import torch.nn.functional as F\n",
    "import sys\n",
    "\n",
    "def train_epoch(model, data_loader, optimizer, device, scheduler, n_examples):\n",
    "    model = model.train()\n",
    "    losses = []\n",
    "    correct_predictions = 0\n",
    "    for i,d in enumerate(data_loader):\n",
    "        print(\"Entrenando \" + \".\"*(i%4), end=\"\\r\")\n",
    "        loss, logits = model(\n",
    "            input_ids=d[\"input_ids\"].to(device),\n",
    "            attention_mask=d[\"attention_mask\"].to(device),\n",
    "            labels=F.one_hot(d['labels'].to(device), num_classes=4).float(),\n",
    "            return_dict=False\n",
    "        )\n",
    "        logits = logits.detach().cpu().numpy()\n",
    "        label_ids = d['labels'].cpu().flatten().numpy()\n",
    "        preds = np.argmax(logits, axis=1).flatten()\n",
    "        targ = d['labels'].numpy()\n",
    "        correct_predictions += np.sum(preds==targ)\n",
    "        losses.append(loss.item())\n",
    "        loss.backward()\n",
    "        torch.nn.utils.clip_grad_norm_(model.parameters(), max_norm=1.0)\n",
    "        optimizer.step()\n",
    "        scheduler.step()\n",
    "        optimizer.zero_grad()\n",
    "        sys.stdout.write(\"\\033[K\")\n",
    "    return correct_predictions / n_examples, np.mean(losses)\n",
    "\n",
    "def eval_model(model, data_loader, device, n_examples):\n",
    "    model = model.eval()\n",
    "    losses = []\n",
    "    correct_predictions = 0\n",
    "    with torch.no_grad():\n",
    "        for d in data_loader:\n",
    "            loss, logits = model(\n",
    "                input_ids = d[\"input_ids\"].to(device),\n",
    "                attention_mask = d[\"attention_mask\"].to(device),\n",
    "                labels = F.one_hot(d['labels'].to(device), num_classes=4).float(),\n",
    "                return_dict=False\n",
    "            )\n",
    "            logits = logits.detach().cpu().numpy()\n",
    "            labels_ids = d['labels'].cpu().flatten().numpy()\n",
    "            preds = np.argmax(logits, axis=1).flatten()\n",
    "            targ = d['labels'].numpy()\n",
    "            correct_predictions += np.sum(preds==targ)\n",
    "            losses.append(loss.item())\n",
    "        return correct_predictions / n_examples, np.mean(losses)"
   ]
  },
  {
   "cell_type": "code",
   "execution_count": 6,
   "id": "3efcaf81",
   "metadata": {
    "scrolled": true
   },
   "outputs": [
    {
     "name": "stdout",
     "output_type": "stream",
     "text": [
      "Epoch 1/8\n",
      "----------\n",
      "\u001b[KTrain loss 0.5251490030802932 Accuracy 0.3941176470588235\n",
      "Val loss 0.5178151634004381 Accuracy 0.44166666666666665\n",
      "\n",
      "Epoch 2/8\n",
      "----------\n",
      "\u001b[KTrain loss 0.47006507921063045 Accuracy 0.5072712418300653\n",
      "Val loss 0.5488456907095732 Accuracy 0.449537037037037\n",
      "\n",
      "Epoch 3/8\n",
      "----------\n",
      "\u001b[KTrain loss 0.36318375767251243 Accuracy 0.6558006535947712\n",
      "Val loss 0.579052103890313 Accuracy 0.4638888888888889\n",
      "\n",
      "Epoch 4/8\n",
      "----------\n",
      "\u001b[KTrain loss 0.2363320443852275 Accuracy 0.8116830065359477\n",
      "Val loss 0.7612768793547595 Accuracy 0.46944444444444444\n",
      "\n",
      "Epoch 5/8\n",
      "----------\n",
      "\u001b[KTrain loss 0.14805557708091596 Accuracy 0.905718954248366\n",
      "Val loss 0.9605343659718831 Accuracy 0.4759259259259259\n",
      "\n",
      "Epoch 6/8\n",
      "----------\n",
      "\u001b[KTrain loss 0.0872845443154326 Accuracy 0.956045751633987\n",
      "Val loss 1.1376878162225088 Accuracy 0.47638888888888886\n",
      "\n",
      "Epoch 7/8\n",
      "----------\n",
      "\u001b[KTrain loss 0.04963176132368496 Accuracy 0.9785130718954248\n",
      "Val loss 1.1932741706018095 Accuracy 0.47453703703703703\n",
      "\n",
      "Epoch 8/8\n",
      "----------\n",
      "\u001b[KTrain loss 0.028335219143518532 Accuracy 0.9891339869281046\n",
      "Val loss 1.2304921551986976 Accuracy 0.475\n",
      "\n"
     ]
    }
   ],
   "source": [
    "# Entrenamiento \n",
    "from collections import defaultdict\n",
    "history = defaultdict(list)\n",
    "best_acc = 0\n",
    "\n",
    "for epoch in range(EPOCHS):\n",
    "    print(f'Epoch {epoch + 1}/{EPOCHS}')\n",
    "    print('-'*10)   \n",
    "    train_acc, train_loss = train_epoch(model, train_data_loader, optimizer, device, scheduler, len(df_train))\n",
    "    print(f'Train loss {train_loss} Accuracy {train_acc}')\n",
    "    val_acc, val_loss = eval_model(model, valid_data_loader, device, len(df_valid))\n",
    "    print(f'Val loss {val_loss} Accuracy {val_acc}')\n",
    "    history['train_acc'].append(train_acc)\n",
    "    history['train_loss'].append(train_loss)\n",
    "    history['val_acc'].append(val_acc)\n",
    "    history['val_loss'].append(val_loss)\n",
    "    if val_acc > best_acc:\n",
    "#         torch.save(model.state_dict(), 'best_model_state_a5.bin')\n",
    "        best_acc = val_acc"
   ]
  },
  {
   "cell_type": "code",
   "execution_count": 42,
   "id": "8be16ef7",
   "metadata": {},
   "outputs": [
    {
     "data": {
      "text/plain": [
       "Text(0.5, 0.98, 'Precisión y pérdida de entrenamiento y validación (Roberta)')"
      ]
     },
     "execution_count": 42,
     "metadata": {},
     "output_type": "execute_result"
    },
    {
     "data": {
      "image/png": "[encoded data removed]",
      "text/plain": [
       "<Figure size 640x480 with 2 Axes>"
      ]
     },
     "metadata": {},
     "output_type": "display_data"
    }
   ],
   "source": [
    "import matplotlib.pyplot as plt\n",
    "fig, (ax1, ax2) = plt.subplots(2)\n",
    "ax1.plot(history[\"train_acc\"], label = \"Train\")\n",
    "ax1.plot(history[\"val_acc\"], label=\"Validation\")\n",
    "ax2.plot(history[\"train_loss\"], label=\"Train\")\n",
    "ax2.plot(history[\"val_loss\"], label=\"Validation\")\n",
    "ax1.legend()\n",
    "fig.suptitle('Precisión y pérdida de entrenamiento y validación (Roberta)')"
   ]
  },
  {
   "cell_type": "code",
   "execution_count": 8,
   "id": "9665ac09",
   "metadata": {},
   "outputs": [],
   "source": [
    "# Test \n",
    "model.to(device)\n",
    "model.load_state_dict(torch.load('./bertin-base-v1.bin', map_location=torch.device(device)))\n",
    "model.eval()\n",
    "\n",
    "df_test = pd.read_csv(\"../../data/development_test.csv\")\n",
    "df_test = pd.DataFrame({\n",
    "    \"tweets\": df_test[\"tweet\"],\n",
    "    \"labels\": df_test[\"ideology_multiclass\"].map({'moderate_left': 0, 'moderate_right': 1, \"left\": 2, \"right\": 3})\n",
    "})\n",
    "test_data_loader = TweetsDataset.create_data_loader(df_test, tokenizer)"
   ]
  },
  {
   "cell_type": "code",
   "execution_count": 9,
   "id": "ea328602",
   "metadata": {},
   "outputs": [
    {
     "name": "stdout",
     "output_type": "stream",
     "text": [
      "Test loss: 0.827 Accuracy: 0.392\n"
     ]
    }
   ],
   "source": [
    "from utils import Model, Results\n",
    "acc, loss, f1 = Model.test(model, test_data_loader, device, len(df_test))\n",
    "Results.add_result(\"bertin-base\", \"ideology-multiclass\", acc, loss, f1)"
   ]
  },
  {
   "cell_type": "code",
   "execution_count": 13,
   "id": "5231fcb4",
   "metadata": {},
   "outputs": [
    {
     "name": "stderr",
     "output_type": "stream",
     "text": [
      "C:\\Users\\javid\\AppData\\Local\\Temp\\ipykernel_9428\\3982103931.py:2: FutureWarning: The frame.append method is deprecated and will be removed from pandas in a future version. Use pandas.concat instead.\n",
      "  results = results.append(pd.DataFrame({\n"
     ]
    }
   ],
   "source": [
    "results = pd.read_csv(\"../results.csv\")\n",
    "results = results.append(pd.DataFrame({\n",
    "     \"model\": \"bertin-base\",\n",
    "     \"class\": \"ideology-multiclass\",\n",
    "     \"loss\": loss,\n",
    "     \"f1score\": f1,\n",
    "     \"accuracy\": acc \n",
    "}, index=[0]))\n",
    "results.to_csv(\"../results.csv\")"
   ]
  },
  {
   "cell_type": "code",
   "execution_count": null,
   "id": "86d2bb63",
   "metadata": {},
   "outputs": [],
   "source": [
    "Results.add_result(\"bertin-base\", \"ideology-multiclass\", acc, loss, f1)"
   ]
  }
 ],
 "metadata": {
  "kernelspec": {
   "display_name": "Python 3 (ipykernel)",
   "language": "python",
   "name": "python3"
  },
  "language_info": {
   "codemirror_mode": {
    "name": "ipython",
    "version": 3
   },
   "file_extension": ".py",
   "mimetype": "text/x-python",
   "name": "python",
   "nbconvert_exporter": "python",
   "pygments_lexer": "ipython3",
   "version": "3.9.13"
  }
 },
 "nbformat": 4,
 "nbformat_minor": 5
}

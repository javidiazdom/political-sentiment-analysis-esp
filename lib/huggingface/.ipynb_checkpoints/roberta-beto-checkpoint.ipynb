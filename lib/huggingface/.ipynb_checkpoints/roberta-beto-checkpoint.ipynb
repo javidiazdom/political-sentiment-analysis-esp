{
 "cells": [
  {
   "cell_type": "code",
   "execution_count": 1,
   "id": "c638c2a9",
   "metadata": {
    "execution": {
     "iopub.execute_input": "2023-05-25T19:43:40.913968Z",
     "iopub.status.busy": "2023-05-25T19:43:40.913675Z",
     "iopub.status.idle": "2023-05-25T19:43:40.918423Z",
     "shell.execute_reply": "2023-05-25T19:43:40.917734Z",
     "shell.execute_reply.started": "2023-05-25T19:43:40.913947Z"
    }
   },
   "outputs": [],
   "source": [
    "import numpy as np\n",
    "import pandas as pd\n",
    "import torch\n",
    "from transformers import RobertaTokenizer, RobertaModel, BertModel, BertTokenizer\n",
    "device = torch.device(\"cuda:0\" if torch.cuda.is_available() else \"cpu\")"
   ]
  },
  {
   "cell_type": "code",
   "execution_count": 2,
   "id": "1c07ea2f",
   "metadata": {
    "execution": {
     "iopub.execute_input": "2023-05-25T19:43:40.920496Z",
     "iopub.status.busy": "2023-05-25T19:43:40.920311Z",
     "iopub.status.idle": "2023-05-25T19:43:40.933021Z",
     "shell.execute_reply": "2023-05-25T19:43:40.932373Z",
     "shell.execute_reply.started": "2023-05-25T19:43:40.920478Z"
    }
   },
   "outputs": [],
   "source": [
    "from torch import nn\n",
    "\n",
    "class Beto(torch.nn.Module):\n",
    "    \n",
    "    def __init__(self):\n",
    "        super(Beto, self).__init__()\n",
    "        self.max_len = 512\n",
    "        self.device = torch.device(\"cuda:0\" if torch.cuda.is_available() else \"cpu\")\n",
    "        self.tokenizer_beto = BertTokenizer.from_pretrained('dccuchile/bert-base-spanish-wwm-cased')\n",
    "        self.tokenizer_roberta = RobertaTokenizer.from_pretrained(\"PlanTL-GOB-ES/roberta-base-bne\")\n",
    "        self.encoder_beto = BertModel.from_pretrained('dccuchile/bert-base-spanish-wwm-cased').to(self.device)\n",
    "        self.encoder_roberta = RobertaModel.from_pretrained(\"PlanTL-GOB-ES/roberta-base-bne\").to(self.device)\n",
    "        self.dropout_beto = nn.Dropout(0.15)\n",
    "        self.dropout_roberta = nn.Dropout(0.15)\n",
    "        \n",
    "        self.linear_gender = nn.Linear(1536,1536).to(self.device)\n",
    "        self.activation_gender = nn.Tanh().to(self.device)\n",
    "        self.dropout_gender = nn.Dropout(0.15).to(self.device)\n",
    "        self.linear_gender = nn.Linear(1536,2).to(self.device)\n",
    "        self.out_gender = nn.Sigmoid().to(self.device)\n",
    "        \n",
    "        self.linear_profession = nn.Linear(1536,1536).to(self.device)\n",
    "        self.activation_profession = nn.Tanh().to(self.device)\n",
    "        self.dropout_profession = nn.Dropout(0.15).to(self.device)\n",
    "        self.linear_profession = nn.Linear(1536,3).to(self.device)\n",
    "        self.out_profession = nn.Sigmoid().to(self.device)\n",
    "        \n",
    "        self.linear_ideology = nn.Linear(1536,1536).to(self.device)\n",
    "        self.activation_ideology = nn.Tanh().to(self.device)\n",
    "        self.dropout_ideology = nn.Dropout(0.15).to(self.device)\n",
    "        self.linear_ideology_1 = nn.Linear(1536,2).to(self.device)\n",
    "        self.out_ideology = nn.Sigmoid().to(self.device)\n",
    "        \n",
    "        self.linear_ideology_multiclass = nn.Linear(1536,1536).to(self.device)\n",
    "        self.activation_ideology_multiclass = nn.Tanh().to(self.device)\n",
    "        self.dropout_ideology_multiclass = nn.Dropout(0.15).to(self.device)\n",
    "        self.linear_ideology_multiclass_1 = nn.Linear(1536,4).to(self.device)\n",
    "        self.out_ideology_multiclass = nn.Softmax(dim = 1).to(self.device)\n",
    "        \n",
    "    def forward(self, x):\n",
    "        ids_beto, token_type_ids_beto, attention_masks_beto = self.tokenizer_beto(x).values()\n",
    "        def pad_ids(ids):\n",
    "            ids_ = ids[: (self.max_len-2)]\n",
    "            ids_ = [4] + ids + [5]\n",
    "            padding_len_ids = self.max_len - len(ids_)\n",
    "            ids_ = ids_ + ([0] * padding_len_ids)\n",
    "            return ids_\n",
    "        def pad_attmask(mask):\n",
    "            return mask + ([0] * (self.max_len - len(mask)))\n",
    "        ids_beto = list(map(pad_ids, ids_beto))\n",
    "        attention_masks_beto = list(map(pad_attmask, attention_masks_beto))\n",
    "        ids_roberta, attention_masks_roberta = self.tokenizer_roberta(x).values()\n",
    "        ids_roberta = list(map(lambda x: x + [0] * (self.max_len - len(x)), ids_roberta))\n",
    "        attention_masks_roberta = list(map(pad_attmask, attention_masks_roberta))\n",
    "        embeding_beto = self.encoder_beto(\n",
    "            torch.LongTensor(ids_beto).to(self.device),\n",
    "            torch.LongTensor(attention_masks_beto).to(self.device)\n",
    "        )\n",
    "        embeding_roberta = self.encoder_roberta(\n",
    "            input_ids = torch.LongTensor(ids_roberta).to(self.device),\n",
    "            attention_mask = torch.LongTensor(attention_masks_roberta).to(self.device)\n",
    "        )\n",
    "        embeding_beto = self.dropout_beto(embeding_beto['pooler_output'])\n",
    "        embeding_roberta = self.dropout_roberta(embeding_roberta['pooler_output'])\n",
    "        embeding = torch.cat((embeding_beto, embeding_roberta), dim=1)\n",
    "        # embeding = embeding_beto.to(self.device) # Sustituir esta línea cuando se obtenga el otro encoder\n",
    "        x_gender = self.linear_gender(embeding)\n",
    "        x_gender = self.activation_gender(x_gender)\n",
    "        x_gender = self.dropout_gender(x_gender)\n",
    "        y_gender = self.out_gender(x_gender)\n",
    "        \n",
    "        x_profession = self.linear_profession(embeding)\n",
    "        x_profession = self.activation_profession(x_profession)\n",
    "        x_profession = self.dropout_profession(x_profession)\n",
    "        y_profession = self.out_profession(x_profession)\n",
    "        \n",
    "        x_ideology = self.linear_ideology(embeding)\n",
    "        x_ideology = self.activation_ideology(x_ideology)\n",
    "        x_ideology = self.dropout_ideology(x_ideology)\n",
    "        y_ideology = self.out_ideology(x_ideology)\n",
    "        \n",
    "        x_ideology_multiclass = self.linear_ideology_multiclass(embeding)\n",
    "        x_ideology_multiclass = self.activation_ideology_multiclass(x_ideology)\n",
    "        x_ideology_multiclass = self.dropout_ideology_multiclass(x_ideology)\n",
    "        y_ideology_multiclass = self.out_ideology_multiclass(x_ideology_multiclass) \n",
    "        return y_gender, y_profession, y_ideology, y_ideology_multiclass\n",
    "        "
   ]
  },
  {
   "cell_type": "code",
   "execution_count": 3,
   "id": "b3ea089d",
   "metadata": {
    "execution": {
     "iopub.execute_input": "2023-05-25T19:43:40.933907Z",
     "iopub.status.busy": "2023-05-25T19:43:40.933712Z",
     "iopub.status.idle": "2023-05-25T19:43:40.939103Z",
     "shell.execute_reply": "2023-05-25T19:43:40.938571Z",
     "shell.execute_reply.started": "2023-05-25T19:43:40.933859Z"
    }
   },
   "outputs": [],
   "source": [
    "from torch.utils.data import DataLoader, Dataset\n",
    "\n",
    "class PoliticESDataset(Dataset):\n",
    "    def __init__(self, tweet, gender, profession, ideology, ideology_mc):\n",
    "        self.tweet = tweet\n",
    "        self.gender = gender\n",
    "        self.profession = profession\n",
    "        self.ideology = ideology\n",
    "        self.ideology_mc = ideology_mc\n",
    "    def __len__(self):\n",
    "        return len(self.tweet)\n",
    "    def __getitem__(self, item):\n",
    "        return {\n",
    "            'tweet': self.tweet[item],\n",
    "            'labels': [\n",
    "                self.gender[item],\n",
    "                self.profession[item],\n",
    "                self.ideology[item],\n",
    "                self.ideology[item]\n",
    "            ]\n",
    "        }\n",
    "\n",
    "def create_data_loader(df, batch_size = 16):\n",
    "    return DataLoader(\n",
    "        PoliticESDataset(\n",
    "            tweet = df.tweet.to_numpy(),\n",
    "            gender = df.gender.to_numpy(),\n",
    "            profession = df.profession.to_numpy(),\n",
    "            ideology = df.ideology_binary.to_numpy(),\n",
    "            ideology_mc = df.ideology_multiclass.to_numpy()\n",
    "        ),\n",
    "        batch_size = batch_size\n",
    "    )"
   ]
  },
  {
   "cell_type": "code",
   "execution_count": 4,
   "id": "e68e1219",
   "metadata": {
    "execution": {
     "iopub.execute_input": "2023-05-25T19:43:40.940352Z",
     "iopub.status.busy": "2023-05-25T19:43:40.940208Z",
     "iopub.status.idle": "2023-05-25T19:43:40.946695Z",
     "shell.execute_reply": "2023-05-25T19:43:40.946204Z",
     "shell.execute_reply.started": "2023-05-25T19:43:40.940338Z"
    }
   },
   "outputs": [],
   "source": [
    "from tqdm import tqdm\n",
    "\n",
    "## CAMBIAR LOSS POR ONE HOT ENCODED.\n",
    "\n",
    "def fit(model, data_loader, total_steps, optimizer, loss_fn):\n",
    "    correct_predictions = [0.,0.,0.,0.]\n",
    "    running_loss = 0.\n",
    "    last_loss = 0.\n",
    "    for i, entry in tqdm(enumerate(data_loader), total = total_steps/4):\n",
    "        optimizer.zero_grad()\n",
    "        y_gender, y_profession, y_ideology, y_ideology_multiclass = model(entry[\"tweet\"])\n",
    "        losses = []\n",
    "        for index, (y, t) in enumerate(zip([y_gender, y_profession, y_ideology, y_ideology_multiclass], entry['labels'])):\n",
    "            correct_predictions[index] += np.sum(torch.argmax(y, dim=1).cpu().numpy() == t.cpu().numpy())\n",
    "            loss = loss_fn(y.to(device), t.to(device)).to(device)\n",
    "            losses.append(loss)\n",
    "        loss = sum(losses)\n",
    "        loss.backward()\n",
    "        optimizer.step()\n",
    "        running_loss += loss.item()\n",
    "        if i % 100 == 99:\n",
    "            last_loss = running_loss / 100\n",
    "            running_loss = 0.\n",
    "    return np.mean(correct_predictions) / total_steps, last_loss\n",
    "\n",
    "def train_model(model, train_dataset, eval_dataset, EPOCHS, batch_size, lr):\n",
    "    train_data_loader = create_data_loader(train_dataset, batch_size)\n",
    "    eval_data_loader = create_data_loader(eval_dataset, batch_size)\n",
    "    loss_fn = nn.CrossEntropyLoss()\n",
    "    optimizer = torch.optim.AdamW(model.parameters(), lr=lr)\n",
    "    for epoch in range(EPOCHS):\n",
    "        train_acc, train_loss = fit(model, train_data_loader, len(train_dataset), optimizer, loss_fn)\n",
    "        print(f'Precisión EPOCH {epoch + 1}: {train_acc}. Pérdida: {train_loss}')"
   ]
  },
  {
   "cell_type": "code",
   "execution_count": 5,
   "id": "1fde920c",
   "metadata": {
    "execution": {
     "iopub.execute_input": "2023-05-25T19:43:40.947512Z",
     "iopub.status.busy": "2023-05-25T19:43:40.947337Z",
     "iopub.status.idle": "2023-05-25T22:18:47.636555Z",
     "shell.execute_reply": "2023-05-25T22:18:47.635635Z",
     "shell.execute_reply.started": "2023-05-25T19:43:40.947512Z"
    },
    "scrolled": true
   },
   "outputs": [
    {
     "name": "stderr",
     "output_type": "stream",
     "text": [
      "Some weights of the model checkpoint at dccuchile/bert-base-spanish-wwm-cased were not used when initializing BertModel: ['cls.predictions.transform.LayerNorm.weight', 'cls.predictions.transform.dense.bias', 'cls.predictions.transform.LayerNorm.bias', 'cls.predictions.bias', 'cls.predictions.decoder.bias', 'cls.predictions.transform.dense.weight', 'cls.predictions.decoder.weight']\n",
      "- This IS expected if you are initializing BertModel from the checkpoint of a model trained on another task or with another architecture (e.g. initializing a BertForSequenceClassification model from a BertForPreTraining model).\n",
      "- This IS NOT expected if you are initializing BertModel from the checkpoint of a model that you expect to be exactly identical (initializing a BertForSequenceClassification model from a BertForSequenceClassification model).\n",
      "Some weights of the model checkpoint at PlanTL-GOB-ES/roberta-base-bne were not used when initializing RobertaModel: ['lm_head.dense.weight', 'lm_head.decoder.weight', 'lm_head.layer_norm.bias', 'lm_head.bias', 'lm_head.layer_norm.weight', 'lm_head.dense.bias', 'lm_head.decoder.bias']\n",
      "- This IS expected if you are initializing RobertaModel from the checkpoint of a model trained on another task or with another architecture (e.g. initializing a BertForSequenceClassification model from a BertForPreTraining model).\n",
      "- This IS NOT expected if you are initializing RobertaModel from the checkpoint of a model that you expect to be exactly identical (initializing a BertForSequenceClassification model from a BertForSequenceClassification model).\n",
      "100%|████████████████████████████████████████████████████████████████████████████| 3312/3312.0 [26:58<00:00,  2.05it/s]\n"
     ]
    },
    {
     "name": "stdout",
     "output_type": "stream",
     "text": [
      "Precisión EPOCH 1: 0.5690104166666666. Pérdida: 15.882005043029785\n"
     ]
    },
    {
     "name": "stderr",
     "output_type": "stream",
     "text": [
      "100%|████████████████████████████████████████████████████████████████████████████| 3312/3312.0 [27:25<00:00,  2.01it/s]\n"
     ]
    },
    {
     "name": "stdout",
     "output_type": "stream",
     "text": [
      "Precisión EPOCH 2: 0.5618017814009661. Pérdida: 15.872678308486938\n"
     ]
    },
    {
     "name": "stderr",
     "output_type": "stream",
     "text": [
      "100%|████████████████████████████████████████████████████████████████████████████| 3312/3312.0 [27:05<00:00,  2.04it/s]\n"
     ]
    },
    {
     "name": "stdout",
     "output_type": "stream",
     "text": [
      "Precisión EPOCH 3: 0.558178592995169. Pérdida: 15.888975343704224\n"
     ]
    },
    {
     "name": "stderr",
     "output_type": "stream",
     "text": [
      "100%|████████████████████████████████████████████████████████████████████████████| 3312/3312.0 [27:05<00:00,  2.04it/s]\n"
     ]
    },
    {
     "name": "stdout",
     "output_type": "stream",
     "text": [
      "Precisión EPOCH 4: 0.5667647946859904. Pérdida: 15.87449758529663\n"
     ]
    },
    {
     "name": "stderr",
     "output_type": "stream",
     "text": [
      " 29%|██████████████████████▎                                                      | 958/3312.0 [07:53<19:23,  2.02it/s]\n"
     ]
    },
    {
     "ename": "KeyboardInterrupt",
     "evalue": "",
     "output_type": "error",
     "traceback": [
      "\u001b[1;31m---------------------------------------------------------------------------\u001b[0m",
      "\u001b[1;31mKeyboardInterrupt\u001b[0m                         Traceback (most recent call last)",
      "\u001b[1;32m~\\AppData\\Local\\Temp\\ipykernel_11940\\2646130408.py\u001b[0m in \u001b[0;36m<module>\u001b[1;34m\u001b[0m\n\u001b[0;32m     10\u001b[0m \u001b[0mdf_val\u001b[0m\u001b[1;33m[\u001b[0m\u001b[1;34m'tweet'\u001b[0m\u001b[1;33m]\u001b[0m \u001b[1;33m=\u001b[0m \u001b[0mX_val\u001b[0m\u001b[1;33m\u001b[0m\u001b[1;33m\u001b[0m\u001b[0m\n\u001b[0;32m     11\u001b[0m \u001b[0mdf_train\u001b[0m\u001b[1;33m[\u001b[0m\u001b[1;34m'tweet'\u001b[0m\u001b[1;33m]\u001b[0m \u001b[1;33m=\u001b[0m \u001b[0mX_train\u001b[0m\u001b[1;33m\u001b[0m\u001b[1;33m\u001b[0m\u001b[0m\n\u001b[1;32m---> 12\u001b[1;33m \u001b[0mtrain_model\u001b[0m\u001b[1;33m(\u001b[0m\u001b[0mmodel\u001b[0m\u001b[1;33m,\u001b[0m \u001b[0mdf_train\u001b[0m\u001b[1;33m,\u001b[0m \u001b[0mdf_val\u001b[0m\u001b[1;33m,\u001b[0m \u001b[0mEPOCHS\u001b[0m \u001b[1;33m=\u001b[0m \u001b[1;36m8\u001b[0m\u001b[1;33m,\u001b[0m \u001b[0mbatch_size\u001b[0m \u001b[1;33m=\u001b[0m \u001b[1;36m4\u001b[0m\u001b[1;33m,\u001b[0m \u001b[0mlr\u001b[0m\u001b[1;33m=\u001b[0m\u001b[1;36m3e-5\u001b[0m\u001b[1;33m)\u001b[0m\u001b[1;33m\u001b[0m\u001b[1;33m\u001b[0m\u001b[0m\n\u001b[0m",
      "\u001b[1;32m~\\AppData\\Local\\Temp\\ipykernel_11940\\924808340.py\u001b[0m in \u001b[0;36mtrain_model\u001b[1;34m(model, train_dataset, eval_dataset, EPOCHS, batch_size, lr)\u001b[0m\n\u001b[0;32m     28\u001b[0m     \u001b[0moptimizer\u001b[0m \u001b[1;33m=\u001b[0m \u001b[0mtorch\u001b[0m\u001b[1;33m.\u001b[0m\u001b[0moptim\u001b[0m\u001b[1;33m.\u001b[0m\u001b[0mAdamW\u001b[0m\u001b[1;33m(\u001b[0m\u001b[0mmodel\u001b[0m\u001b[1;33m.\u001b[0m\u001b[0mparameters\u001b[0m\u001b[1;33m(\u001b[0m\u001b[1;33m)\u001b[0m\u001b[1;33m,\u001b[0m \u001b[0mlr\u001b[0m\u001b[1;33m=\u001b[0m\u001b[0mlr\u001b[0m\u001b[1;33m)\u001b[0m\u001b[1;33m\u001b[0m\u001b[1;33m\u001b[0m\u001b[0m\n\u001b[0;32m     29\u001b[0m     \u001b[1;32mfor\u001b[0m \u001b[0mepoch\u001b[0m \u001b[1;32min\u001b[0m \u001b[0mrange\u001b[0m\u001b[1;33m(\u001b[0m\u001b[0mEPOCHS\u001b[0m\u001b[1;33m)\u001b[0m\u001b[1;33m:\u001b[0m\u001b[1;33m\u001b[0m\u001b[1;33m\u001b[0m\u001b[0m\n\u001b[1;32m---> 30\u001b[1;33m         \u001b[0mtrain_acc\u001b[0m\u001b[1;33m,\u001b[0m \u001b[0mtrain_loss\u001b[0m \u001b[1;33m=\u001b[0m \u001b[0mfit\u001b[0m\u001b[1;33m(\u001b[0m\u001b[0mmodel\u001b[0m\u001b[1;33m,\u001b[0m \u001b[0mtrain_data_loader\u001b[0m\u001b[1;33m,\u001b[0m \u001b[0mlen\u001b[0m\u001b[1;33m(\u001b[0m\u001b[0mtrain_dataset\u001b[0m\u001b[1;33m)\u001b[0m\u001b[1;33m,\u001b[0m \u001b[0moptimizer\u001b[0m\u001b[1;33m,\u001b[0m \u001b[0mloss_fn\u001b[0m\u001b[1;33m)\u001b[0m\u001b[1;33m\u001b[0m\u001b[1;33m\u001b[0m\u001b[0m\n\u001b[0m\u001b[0;32m     31\u001b[0m         \u001b[0mprint\u001b[0m\u001b[1;33m(\u001b[0m\u001b[1;34mf'Precisión EPOCH {epoch + 1}: {train_acc}. Pérdida: {train_loss}'\u001b[0m\u001b[1;33m)\u001b[0m\u001b[1;33m\u001b[0m\u001b[1;33m\u001b[0m\u001b[0m\n",
      "\u001b[1;32m~\\AppData\\Local\\Temp\\ipykernel_11940\\924808340.py\u001b[0m in \u001b[0;36mfit\u001b[1;34m(model, data_loader, total_steps, optimizer, loss_fn)\u001b[0m\n\u001b[0;32m     15\u001b[0m         \u001b[0mloss\u001b[0m \u001b[1;33m=\u001b[0m \u001b[0msum\u001b[0m\u001b[1;33m(\u001b[0m\u001b[0mlosses\u001b[0m\u001b[1;33m)\u001b[0m\u001b[1;33m\u001b[0m\u001b[1;33m\u001b[0m\u001b[0m\n\u001b[0;32m     16\u001b[0m         \u001b[0mloss\u001b[0m\u001b[1;33m.\u001b[0m\u001b[0mbackward\u001b[0m\u001b[1;33m(\u001b[0m\u001b[1;33m)\u001b[0m\u001b[1;33m\u001b[0m\u001b[1;33m\u001b[0m\u001b[0m\n\u001b[1;32m---> 17\u001b[1;33m         \u001b[0moptimizer\u001b[0m\u001b[1;33m.\u001b[0m\u001b[0mstep\u001b[0m\u001b[1;33m(\u001b[0m\u001b[1;33m)\u001b[0m\u001b[1;33m\u001b[0m\u001b[1;33m\u001b[0m\u001b[0m\n\u001b[0m\u001b[0;32m     18\u001b[0m         \u001b[0mrunning_loss\u001b[0m \u001b[1;33m+=\u001b[0m \u001b[0mloss\u001b[0m\u001b[1;33m.\u001b[0m\u001b[0mitem\u001b[0m\u001b[1;33m(\u001b[0m\u001b[1;33m)\u001b[0m\u001b[1;33m\u001b[0m\u001b[1;33m\u001b[0m\u001b[0m\n\u001b[0;32m     19\u001b[0m         \u001b[1;32mif\u001b[0m \u001b[0mi\u001b[0m \u001b[1;33m%\u001b[0m \u001b[1;36m100\u001b[0m \u001b[1;33m==\u001b[0m \u001b[1;36m99\u001b[0m\u001b[1;33m:\u001b[0m\u001b[1;33m\u001b[0m\u001b[1;33m\u001b[0m\u001b[0m\n",
      "\u001b[1;32m~\\anaconda3\\lib\\site-packages\\torch\\optim\\optimizer.py\u001b[0m in \u001b[0;36mwrapper\u001b[1;34m(*args, **kwargs)\u001b[0m\n\u001b[0;32m    138\u001b[0m                 \u001b[0mprofile_name\u001b[0m \u001b[1;33m=\u001b[0m \u001b[1;34m\"Optimizer.step#{}.step\"\u001b[0m\u001b[1;33m.\u001b[0m\u001b[0mformat\u001b[0m\u001b[1;33m(\u001b[0m\u001b[0mobj\u001b[0m\u001b[1;33m.\u001b[0m\u001b[0m__class__\u001b[0m\u001b[1;33m.\u001b[0m\u001b[0m__name__\u001b[0m\u001b[1;33m)\u001b[0m\u001b[1;33m\u001b[0m\u001b[1;33m\u001b[0m\u001b[0m\n\u001b[0;32m    139\u001b[0m                 \u001b[1;32mwith\u001b[0m \u001b[0mtorch\u001b[0m\u001b[1;33m.\u001b[0m\u001b[0mautograd\u001b[0m\u001b[1;33m.\u001b[0m\u001b[0mprofiler\u001b[0m\u001b[1;33m.\u001b[0m\u001b[0mrecord_function\u001b[0m\u001b[1;33m(\u001b[0m\u001b[0mprofile_name\u001b[0m\u001b[1;33m)\u001b[0m\u001b[1;33m:\u001b[0m\u001b[1;33m\u001b[0m\u001b[1;33m\u001b[0m\u001b[0m\n\u001b[1;32m--> 140\u001b[1;33m                     \u001b[0mout\u001b[0m \u001b[1;33m=\u001b[0m \u001b[0mfunc\u001b[0m\u001b[1;33m(\u001b[0m\u001b[1;33m*\u001b[0m\u001b[0margs\u001b[0m\u001b[1;33m,\u001b[0m \u001b[1;33m**\u001b[0m\u001b[0mkwargs\u001b[0m\u001b[1;33m)\u001b[0m\u001b[1;33m\u001b[0m\u001b[1;33m\u001b[0m\u001b[0m\n\u001b[0m\u001b[0;32m    141\u001b[0m                     \u001b[0mobj\u001b[0m\u001b[1;33m.\u001b[0m\u001b[0m_optimizer_step_code\u001b[0m\u001b[1;33m(\u001b[0m\u001b[1;33m)\u001b[0m\u001b[1;33m\u001b[0m\u001b[1;33m\u001b[0m\u001b[0m\n\u001b[0;32m    142\u001b[0m                     \u001b[1;32mreturn\u001b[0m \u001b[0mout\u001b[0m\u001b[1;33m\u001b[0m\u001b[1;33m\u001b[0m\u001b[0m\n",
      "\u001b[1;32m~\\anaconda3\\lib\\site-packages\\torch\\autograd\\grad_mode.py\u001b[0m in \u001b[0;36mdecorate_context\u001b[1;34m(*args, **kwargs)\u001b[0m\n\u001b[0;32m     25\u001b[0m         \u001b[1;32mdef\u001b[0m \u001b[0mdecorate_context\u001b[0m\u001b[1;33m(\u001b[0m\u001b[1;33m*\u001b[0m\u001b[0margs\u001b[0m\u001b[1;33m,\u001b[0m \u001b[1;33m**\u001b[0m\u001b[0mkwargs\u001b[0m\u001b[1;33m)\u001b[0m\u001b[1;33m:\u001b[0m\u001b[1;33m\u001b[0m\u001b[1;33m\u001b[0m\u001b[0m\n\u001b[0;32m     26\u001b[0m             \u001b[1;32mwith\u001b[0m \u001b[0mself\u001b[0m\u001b[1;33m.\u001b[0m\u001b[0mclone\u001b[0m\u001b[1;33m(\u001b[0m\u001b[1;33m)\u001b[0m\u001b[1;33m:\u001b[0m\u001b[1;33m\u001b[0m\u001b[1;33m\u001b[0m\u001b[0m\n\u001b[1;32m---> 27\u001b[1;33m                 \u001b[1;32mreturn\u001b[0m \u001b[0mfunc\u001b[0m\u001b[1;33m(\u001b[0m\u001b[1;33m*\u001b[0m\u001b[0margs\u001b[0m\u001b[1;33m,\u001b[0m \u001b[1;33m**\u001b[0m\u001b[0mkwargs\u001b[0m\u001b[1;33m)\u001b[0m\u001b[1;33m\u001b[0m\u001b[1;33m\u001b[0m\u001b[0m\n\u001b[0m\u001b[0;32m     28\u001b[0m         \u001b[1;32mreturn\u001b[0m \u001b[0mcast\u001b[0m\u001b[1;33m(\u001b[0m\u001b[0mF\u001b[0m\u001b[1;33m,\u001b[0m \u001b[0mdecorate_context\u001b[0m\u001b[1;33m)\u001b[0m\u001b[1;33m\u001b[0m\u001b[1;33m\u001b[0m\u001b[0m\n\u001b[0;32m     29\u001b[0m \u001b[1;33m\u001b[0m\u001b[0m\n",
      "\u001b[1;32m~\\anaconda3\\lib\\site-packages\\torch\\optim\\adamw.py\u001b[0m in \u001b[0;36mstep\u001b[1;34m(self, closure)\u001b[0m\n\u001b[0;32m    160\u001b[0m                 \u001b[0mstate_steps\u001b[0m\u001b[1;33m.\u001b[0m\u001b[0mappend\u001b[0m\u001b[1;33m(\u001b[0m\u001b[0mstate\u001b[0m\u001b[1;33m[\u001b[0m\u001b[1;34m'step'\u001b[0m\u001b[1;33m]\u001b[0m\u001b[1;33m)\u001b[0m\u001b[1;33m\u001b[0m\u001b[1;33m\u001b[0m\u001b[0m\n\u001b[0;32m    161\u001b[0m \u001b[1;33m\u001b[0m\u001b[0m\n\u001b[1;32m--> 162\u001b[1;33m             adamw(params_with_grad,\n\u001b[0m\u001b[0;32m    163\u001b[0m                   \u001b[0mgrads\u001b[0m\u001b[1;33m,\u001b[0m\u001b[1;33m\u001b[0m\u001b[1;33m\u001b[0m\u001b[0m\n\u001b[0;32m    164\u001b[0m                   \u001b[0mexp_avgs\u001b[0m\u001b[1;33m,\u001b[0m\u001b[1;33m\u001b[0m\u001b[1;33m\u001b[0m\u001b[0m\n",
      "\u001b[1;32m~\\anaconda3\\lib\\site-packages\\torch\\optim\\adamw.py\u001b[0m in \u001b[0;36madamw\u001b[1;34m(params, grads, exp_avgs, exp_avg_sqs, max_exp_avg_sqs, state_steps, foreach, capturable, amsgrad, beta1, beta2, lr, weight_decay, eps, maximize)\u001b[0m\n\u001b[0;32m    217\u001b[0m         \u001b[0mfunc\u001b[0m \u001b[1;33m=\u001b[0m \u001b[0m_single_tensor_adamw\u001b[0m\u001b[1;33m\u001b[0m\u001b[1;33m\u001b[0m\u001b[0m\n\u001b[0;32m    218\u001b[0m \u001b[1;33m\u001b[0m\u001b[0m\n\u001b[1;32m--> 219\u001b[1;33m     func(params,\n\u001b[0m\u001b[0;32m    220\u001b[0m          \u001b[0mgrads\u001b[0m\u001b[1;33m,\u001b[0m\u001b[1;33m\u001b[0m\u001b[1;33m\u001b[0m\u001b[0m\n\u001b[0;32m    221\u001b[0m          \u001b[0mexp_avgs\u001b[0m\u001b[1;33m,\u001b[0m\u001b[1;33m\u001b[0m\u001b[1;33m\u001b[0m\u001b[0m\n",
      "\u001b[1;32m~\\anaconda3\\lib\\site-packages\\torch\\optim\\adamw.py\u001b[0m in \u001b[0;36m_single_tensor_adamw\u001b[1;34m(params, grads, exp_avgs, exp_avg_sqs, max_exp_avg_sqs, state_steps, amsgrad, beta1, beta2, lr, weight_decay, eps, maximize, capturable)\u001b[0m\n\u001b[0;32m    268\u001b[0m \u001b[1;33m\u001b[0m\u001b[0m\n\u001b[0;32m    269\u001b[0m         \u001b[1;31m# Perform stepweight decay\u001b[0m\u001b[1;33m\u001b[0m\u001b[1;33m\u001b[0m\u001b[0m\n\u001b[1;32m--> 270\u001b[1;33m         \u001b[0mparam\u001b[0m\u001b[1;33m.\u001b[0m\u001b[0mmul_\u001b[0m\u001b[1;33m(\u001b[0m\u001b[1;36m1\u001b[0m \u001b[1;33m-\u001b[0m \u001b[0mlr\u001b[0m \u001b[1;33m*\u001b[0m \u001b[0mweight_decay\u001b[0m\u001b[1;33m)\u001b[0m\u001b[1;33m\u001b[0m\u001b[1;33m\u001b[0m\u001b[0m\n\u001b[0m\u001b[0;32m    271\u001b[0m \u001b[1;33m\u001b[0m\u001b[0m\n\u001b[0;32m    272\u001b[0m         \u001b[1;31m# Decay the first and second moment running average coefficient\u001b[0m\u001b[1;33m\u001b[0m\u001b[1;33m\u001b[0m\u001b[0m\n",
      "\u001b[1;31mKeyboardInterrupt\u001b[0m: "
     ]
    }
   ],
   "source": [
    "from sklearn.model_selection import train_test_split\n",
    "model = Beto()\n",
    "df = pd.read_csv(\"../../data/multilabel_encoded.csv\")\n",
    "X_train, X_val, df_train, df_val = train_test_split(\n",
    "    df['tweet'],\n",
    "    df[['gender', 'profession','ideology_binary', 'ideology_multiclass']],\n",
    "    test_size=0.08,\n",
    "    random_state = 100\n",
    ")\n",
    "df_val['tweet'] = X_val\n",
    "df_train['tweet'] = X_train\n",
    "train_model(model, df_train, df_val, EPOCHS = 8, batch_size = 4, lr=3e-5)"
   ]
  },
  {
   "cell_type": "code",
   "execution_count": null,
   "id": "4dcb146f",
   "metadata": {
    "execution": {
     "iopub.execute_input": "2023-05-25T22:18:47.638656Z",
     "iopub.status.busy": "2023-05-25T22:18:47.637935Z",
     "iopub.status.idle": "2023-05-25T22:18:48.040392Z",
     "shell.execute_reply": "2023-05-25T22:18:48.039663Z",
     "shell.execute_reply.started": "2023-05-25T22:18:47.638631Z"
    }
   },
   "outputs": [],
   "source": [
    "def test(model, df_test):\n",
    "    test_data_loader = create_data_loader(df_test, batch_size=8)\n",
    "    model = model.eval()\n",
    "    genders = []\n",
    "    professions = []\n",
    "    ideology = []\n",
    "    ideology_multiclass = []\n",
    "    with torch.no_grad():\n",
    "        for entry in test_data_loader:\n",
    "            y_gender, y_profession, y_ideology, y_ideology_multiclass = model(entry[\"tweet\"])\n",
    "            genders = genders + torch.argmax(y_gender, dim=1).item()\n",
    "            professions = professions + torch.argmax(y_professions, dim=1).item()\n",
    "            ideology = ideology + torch.argmax(y_ideology, dim=1).item()\n",
    "            ideology_multiclass = ideology_multiclass + torch.argmax(y_ideology_multiclass, dim=1).item()\n",
    "    df_preds = pd.DataFrame({\n",
    "        \"tweet\": df_test[\"tweet\"],\n",
    "        \"gender\": genders,\n",
    "        \"professions\": professions,\n",
    "        \"ideology_binary\": ideology,\n",
    "        \"ideology_multiclass\": ideology_multiclass\n",
    "    })\n",
    "    df_preds.to_csv(\"./data/predicted.csv\")\n",
    "df_test = pd.read_csv(\"data/multilabel_encoded_test.csv\")\n",
    "test(model, df_test)"
   ]
  }
 ],
 "metadata": {
  "kernelspec": {
   "display_name": "Python 3 (ipykernel)",
   "language": "python",
   "name": "python3"
  },
  "language_info": {
   "codemirror_mode": {
    "name": "ipython",
    "version": 3
   },
   "file_extension": ".py",
   "mimetype": "text/x-python",
   "name": "python",
   "nbconvert_exporter": "python",
   "pygments_lexer": "ipython3",
   "version": "3.9.13"
  }
 },
 "nbformat": 4,
 "nbformat_minor": 5
}

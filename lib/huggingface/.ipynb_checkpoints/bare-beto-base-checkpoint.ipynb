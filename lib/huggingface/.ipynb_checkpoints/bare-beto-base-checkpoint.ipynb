{
 "cells": [
  {
   "cell_type": "code",
   "execution_count": 1,
   "id": "8d5532ef",
   "metadata": {},
   "outputs": [],
   "source": [
    "import transformers\n",
    "import pandas as pd\n",
    "import numpy as np\n",
    "import nltk\n",
    "from utils import TweetsDataset, Model, Results\n",
    "import torch\n",
    "import torch.nn.functional as F\n",
    "from sklearn.metrics import f1_score\n",
    "from collections import defaultdict\n",
    "import numpy as np\n",
    "import torch\n",
    "import sys\n",
    "\n",
    "device = torch.device(\"cuda:0\" if torch.cuda.is_available() else \"cpu\")"
   ]
  },
  {
   "cell_type": "markdown",
   "id": "eeef2310",
   "metadata": {},
   "source": [
    "## Carga del tokenizador y el modelo preentrenado"
   ]
  },
  {
   "cell_type": "code",
   "execution_count": 2,
   "id": "687d44d8",
   "metadata": {
    "scrolled": true
   },
   "outputs": [
    {
     "name": "stderr",
     "output_type": "stream",
     "text": [
      "Some weights of the model checkpoint at dccuchile/bert-base-spanish-wwm-cased were not used when initializing BertForSequenceClassification: ['cls.predictions.decoder.bias', 'cls.predictions.transform.dense.weight', 'cls.predictions.transform.LayerNorm.bias', 'cls.predictions.transform.dense.bias', 'cls.predictions.bias', 'cls.predictions.transform.LayerNorm.weight', 'cls.predictions.decoder.weight']\n",
      "- This IS expected if you are initializing BertForSequenceClassification from the checkpoint of a model trained on another task or with another architecture (e.g. initializing a BertForSequenceClassification model from a BertForPreTraining model).\n",
      "- This IS NOT expected if you are initializing BertForSequenceClassification from the checkpoint of a model that you expect to be exactly identical (initializing a BertForSequenceClassification model from a BertForSequenceClassification model).\n",
      "Some weights of BertForSequenceClassification were not initialized from the model checkpoint at dccuchile/bert-base-spanish-wwm-cased and are newly initialized: ['bert.pooler.dense.weight', 'classifier.bias', 'classifier.weight', 'bert.pooler.dense.bias']\n",
      "You should probably TRAIN this model on a down-stream task to be able to use it for predictions and inference.\n"
     ]
    }
   ],
   "source": [
    "tokenizer = transformers.AutoTokenizer.from_pretrained(\"dccuchile/bert-base-spanish-wwm-cased\")\n",
    "model = transformers.BertForSequenceClassification.from_pretrained(\"dccuchile/bert-base-spanish-wwm-cased\", num_labels=4)"
   ]
  },
  {
   "cell_type": "markdown",
   "id": "51a161c3",
   "metadata": {},
   "source": [
    "## Conjunto de datos"
   ]
  },
  {
   "cell_type": "code",
   "execution_count": 3,
   "id": "6235c3c9",
   "metadata": {},
   "outputs": [],
   "source": [
    "df = pd.read_csv(\"../../data/procesed.csv\")\n",
    "df_train, df_valid = TweetsDataset.split_test_val(df, valid_size=0.15)\n",
    "train_data_loader = TweetsDataset.create_data_loader(df_train, tokenizer, batch_size=8)\n",
    "valid_data_loader = TweetsDataset.create_data_loader(df_valid, tokenizer, batch_size=8)"
   ]
  },
  {
   "cell_type": "markdown",
   "id": "efe5f362",
   "metadata": {},
   "source": [
    "## Parámetros del entrenamiento"
   ]
  },
  {
   "cell_type": "code",
   "execution_count": 4,
   "id": "6607a5e9",
   "metadata": {},
   "outputs": [],
   "source": [
    "model = model.to(device)\n",
    "EPOCHS = 8\n",
    "optimizer = torch.optim.AdamW(model.parameters(), lr=5e-5)\n",
    "scheduler = transformers.get_linear_schedule_with_warmup(\n",
    "    optimizer,\n",
    "    num_warmup_steps = 0,\n",
    "    num_training_steps = len(df_train) * EPOCHS\n",
    ")"
   ]
  },
  {
   "cell_type": "markdown",
   "id": "261c9e94",
   "metadata": {},
   "source": [
    "## Entrenamiento del modelo"
   ]
  },
  {
   "cell_type": "code",
   "execution_count": 5,
   "id": "e16cee59",
   "metadata": {},
   "outputs": [],
   "source": [
    "import torch.nn.functional as F\n",
    "import sys\n",
    "\n",
    "def train_epoch(model, data_loader, optimizer, device, scheduler, n_examples):\n",
    "    model = model.train()\n",
    "    losses = []\n",
    "    correct_predictions = 0\n",
    "    for i,d in enumerate(data_loader):\n",
    "        print(\"Entrenando \" + \".\"*(i%4), end=\"\\r\")\n",
    "        loss, logits = model(\n",
    "            input_ids=d[\"input_ids\"].to(device),\n",
    "            attention_mask=d[\"attention_mask\"].to(device),\n",
    "            labels=F.one_hot(d['labels'].to(device), num_classes=4).float(),\n",
    "            return_dict=False\n",
    "        )\n",
    "        logits = logits.detach().cpu().numpy()\n",
    "        label_ids = d['labels'].cpu().flatten().numpy()\n",
    "        preds = np.argmax(logits, axis=1).flatten()\n",
    "        targ = d['labels'].numpy()\n",
    "        correct_predictions += np.sum(preds==targ)\n",
    "        losses.append(loss.item())\n",
    "        loss.backward()\n",
    "        torch.nn.utils.clip_grad_norm_(model.parameters(), max_norm=1.0)\n",
    "        optimizer.step()\n",
    "        scheduler.step()\n",
    "        optimizer.zero_grad()\n",
    "        sys.stdout.write(\"\\033[K\")\n",
    "    return correct_predictions / n_examples, np.mean(losses)\n",
    "\n",
    "def eval_model(model, data_loader, device, n_examples):\n",
    "    model = model.eval()\n",
    "    losses = []\n",
    "    correct_predictions = 0\n",
    "    with torch.no_grad():\n",
    "        for d in data_loader:\n",
    "            loss, logits = model(\n",
    "                input_ids = d[\"input_ids\"].to(device),\n",
    "                attention_mask = d[\"attention_mask\"].to(device),\n",
    "                labels = F.one_hot(d['labels'].to(device), num_classes=4).float(),\n",
    "                return_dict=False\n",
    "            )\n",
    "            logits = logits.detach().cpu().numpy()\n",
    "            labels_ids = d['labels'].cpu().flatten().numpy()\n",
    "            preds = np.argmax(logits, axis=1).flatten()\n",
    "            targ = d['labels'].numpy()\n",
    "            correct_predictions += np.sum(preds==targ)\n",
    "            losses.append(loss.item())\n",
    "        return correct_predictions / n_examples, np.mean(losses)"
   ]
  },
  {
   "cell_type": "code",
   "execution_count": 6,
   "id": "7d99a0f4",
   "metadata": {},
   "outputs": [
    {
     "name": "stdout",
     "output_type": "stream",
     "text": [
      "Epoch 1/8\n",
      "----------\n",
      "\u001b[KTrain loss 0.5139156186113171 Accuracy 0.42401960784313725\n",
      "Val loss 0.48535501305703765 Accuracy 0.48055555555555557\n",
      "Epoch 2/8\n",
      "----------\n",
      "\u001b[KTrain loss 0.4143691317123525 Accuracy 0.5979575163398693\n",
      "Val loss 0.5195293940327785 Accuracy 0.5226851851851851\n",
      "Epoch 3/8\n",
      "----------\n",
      "\u001b[KTrain loss 0.2700409494328246 Accuracy 0.7800653594771242\n",
      "Val loss 0.7130593367196896 Accuracy 0.5041666666666667\n",
      "Epoch 4/8\n",
      "----------\n",
      "\u001b[KTrain loss 0.17496278305854526 Accuracy 0.8777777777777778\n",
      "Val loss 0.8982199939450732 Accuracy 0.5092592592592593\n",
      "Epoch 5/8\n",
      "----------\n",
      "\u001b[KTrain loss 0.11560599136628892 Accuracy 0.9366013071895425\n",
      "Val loss 1.0561743835332218 Accuracy 0.5023148148148148\n",
      "Epoch 6/8\n",
      "----------\n",
      "\u001b[KTrain loss 0.07368626835097078 Accuracy 0.960702614379085\n",
      "Val loss 1.2727471852269783 Accuracy 0.4935185185185185\n",
      "Epoch 7/8\n",
      "----------\n",
      "\u001b[KTrain loss 0.04147031484696759 Accuracy 0.9799836601307189\n",
      "Val loss 1.3168173907669607 Accuracy 0.5152777777777777\n",
      "Epoch 8/8\n",
      "----------\n",
      "\u001b[KTrain loss 0.023084228492556504 Accuracy 0.9894607843137255\n",
      "Val loss 1.35489737999591 Accuracy 0.5152777777777777\n"
     ]
    }
   ],
   "source": [
    "from collections import defaultdict\n",
    "history = defaultdict(list)\n",
    "best_acc = 0\n",
    "\n",
    "for epoch in range(EPOCHS):\n",
    "    print(f'Epoch {epoch + 1}/{EPOCHS}')\n",
    "    print('-'*10)   \n",
    "    train_acc, train_loss = train_epoch(model, train_data_loader, optimizer, device, scheduler, len(df_train))\n",
    "    print(f'Train loss {train_loss} Accuracy {train_acc}')\n",
    "    val_acc, val_loss = eval_model(model, valid_data_loader, device, len(df_valid))\n",
    "    print(f'Val loss {val_loss} Accuracy {val_acc}')\n",
    "    history['train_acc'].append(train_acc)\n",
    "    history['train_loss'].append(train_loss)\n",
    "    history['val_acc'].append(val_acc)\n",
    "    history['val_loss'].append(val_loss)\n",
    "    if val_acc > best_acc:\n",
    "#         torch.save(model.state_dict(), 'best_model_state_a5.bin')\n",
    "        best_acc = val_acc"
   ]
  },
  {
   "cell_type": "code",
   "execution_count": 7,
   "id": "6898f423",
   "metadata": {},
   "outputs": [
    {
     "data": {
      "image/png": "[encoded data removed]",
      "text/plain": [
       "<Figure size 640x480 with 2 Axes>"
      ]
     },
     "metadata": {},
     "output_type": "display_data"
    }
   ],
   "source": [
    "Results.plot_train_history(history, 'Berto')"
   ]
  },
  {
   "cell_type": "code",
   "execution_count": 8,
   "id": "58513ea4",
   "metadata": {},
   "outputs": [],
   "source": [
    "torch.save(model.state_dict(), 'berto-base-cased.bin')"
   ]
  },
  {
   "cell_type": "markdown",
   "id": "69a328d7",
   "metadata": {},
   "source": [
    "## Prueba del modelo"
   ]
  },
  {
   "cell_type": "code",
   "execution_count": 9,
   "id": "0f091cc0",
   "metadata": {
    "scrolled": true
   },
   "outputs": [
    {
     "name": "stderr",
     "output_type": "stream",
     "text": [
      "Some weights of the model checkpoint at dccuchile/bert-base-spanish-wwm-cased were not used when initializing BertForSequenceClassification: ['cls.predictions.decoder.bias', 'cls.predictions.transform.dense.weight', 'cls.predictions.transform.LayerNorm.bias', 'cls.predictions.transform.dense.bias', 'cls.predictions.bias', 'cls.predictions.transform.LayerNorm.weight', 'cls.predictions.decoder.weight']\n",
      "- This IS expected if you are initializing BertForSequenceClassification from the checkpoint of a model trained on another task or with another architecture (e.g. initializing a BertForSequenceClassification model from a BertForPreTraining model).\n",
      "- This IS NOT expected if you are initializing BertForSequenceClassification from the checkpoint of a model that you expect to be exactly identical (initializing a BertForSequenceClassification model from a BertForSequenceClassification model).\n",
      "Some weights of BertForSequenceClassification were not initialized from the model checkpoint at dccuchile/bert-base-spanish-wwm-cased and are newly initialized: ['bert.pooler.dense.weight', 'classifier.bias', 'classifier.weight', 'bert.pooler.dense.bias']\n",
      "You should probably TRAIN this model on a down-stream task to be able to use it for predictions and inference.\n"
     ]
    },
    {
     "name": "stdout",
     "output_type": "stream",
     "text": [
      "Test loss: 1.452 Accuracy: 0.484\n"
     ]
    }
   ],
   "source": [
    "# Test\n",
    "from utils import Results, Model\n",
    "model = transformers.BertForSequenceClassification.from_pretrained(\"dccuchile/bert-base-spanish-wwm-cased\", num_labels=4)\n",
    "model.to(device)\n",
    "model.load_state_dict(torch.load('berto-base-cased.bin'))\n",
    "df_test = pd.read_csv('../../data/development_test.csv')\n",
    "df_test = pd.DataFrame({\n",
    "    \"tweets\": df_test[\"tweet\"],\n",
    "    \"labels\": df_test[\"ideology_multiclass\"].map({'moderate_left': 0, 'moderate_right': 1, \"left\": 2, \"right\": 3})\n",
    "})\n",
    "test_data_loader = TweetsDataset.create_data_loader(df_test, tokenizer)\n",
    "acc, loss, f1 = Model.test(model, test_data_loader, device, len(df_test))\n",
    "Results.add_result(\"berto-base-cased\", \"ideology-multiclass\", acc, loss, f1)"
   ]
  }
 ],
 "metadata": {
  "kernelspec": {
   "display_name": "Python 3 (ipykernel)",
   "language": "python",
   "name": "python3"
  },
  "language_info": {
   "codemirror_mode": {
    "name": "ipython",
    "version": 3
   },
   "file_extension": ".py",
   "mimetype": "text/x-python",
   "name": "python",
   "nbconvert_exporter": "python",
   "pygments_lexer": "ipython3",
   "version": "3.9.13"
  }
 },
 "nbformat": 4,
 "nbformat_minor": 5
}

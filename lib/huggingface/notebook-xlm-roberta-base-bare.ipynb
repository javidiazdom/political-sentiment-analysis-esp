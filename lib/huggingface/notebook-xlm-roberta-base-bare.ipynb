{
 "cells": [
  {
   "cell_type": "code",
   "execution_count": 1,
   "id": "b56a0e2d",
   "metadata": {},
   "outputs": [],
   "source": [
    "import transformers\n",
    "import pandas as pd\n",
    "import numpy as np\n",
    "import nltk\n",
    "from utils import TweetsDataset, Results\n",
    "import torch\n",
    "import torch.nn.functional as F\n",
    "from sklearn.metrics import f1_score\n",
    "from collections import defaultdict\n",
    "import numpy as np\n",
    "import torch\n",
    "import sys\n",
    "\n",
    "device = torch.device(\"cuda:0\" if torch.cuda.is_available() else \"cpu\")"
   ]
  },
  {
   "cell_type": "markdown",
   "id": "e6a4117c",
   "metadata": {},
   "source": [
    "## Carga del tokenizador "
   ]
  },
  {
   "cell_type": "code",
   "execution_count": 2,
   "id": "0676b703",
   "metadata": {},
   "outputs": [
    {
     "name": "stderr",
     "output_type": "stream",
     "text": [
      "Some weights of the model checkpoint at xlm-roberta-base were not used when initializing XLMRobertaForSequenceClassification: ['lm_head.layer_norm.weight', 'lm_head.bias', 'lm_head.decoder.weight', 'lm_head.layer_norm.bias', 'roberta.pooler.dense.bias', 'roberta.pooler.dense.weight', 'lm_head.dense.bias', 'lm_head.dense.weight']\n",
      "- This IS expected if you are initializing XLMRobertaForSequenceClassification from the checkpoint of a model trained on another task or with another architecture (e.g. initializing a BertForSequenceClassification model from a BertForPreTraining model).\n",
      "- This IS NOT expected if you are initializing XLMRobertaForSequenceClassification from the checkpoint of a model that you expect to be exactly identical (initializing a BertForSequenceClassification model from a BertForSequenceClassification model).\n",
      "Some weights of XLMRobertaForSequenceClassification were not initialized from the model checkpoint at xlm-roberta-base and are newly initialized: ['classifier.out_proj.bias', 'classifier.dense.bias', 'classifier.dense.weight', 'classifier.out_proj.weight']\n",
      "You should probably TRAIN this model on a down-stream task to be able to use it for predictions and inference.\n"
     ]
    }
   ],
   "source": [
    "tokenizer = transformers.AutoTokenizer.from_pretrained(\"xlm-roberta-base\")\n",
    "model = transformers.XLMRobertaForSequenceClassification.from_pretrained(\"xlm-roberta-base\", num_labels=4, problem_type=\"multi_label_classification\")"
   ]
  },
  {
   "cell_type": "markdown",
   "id": "125fb9cb",
   "metadata": {},
   "source": [
    "## Conjunto de datos"
   ]
  },
  {
   "cell_type": "code",
   "execution_count": 3,
   "id": "f6f8c629",
   "metadata": {},
   "outputs": [],
   "source": [
    "df = pd.read_csv(\"../../data/procesed.csv\")\n",
    "df_train, df_valid = TweetsDataset.split_test_val(df,test_size=0.20,valid_size=0.20)\n",
    "train_data_loader = TweetsDataset.create_data_loader(df_train, tokenizer, batch_size=8)\n",
    "valid_data_loader = TweetsDataset.create_data_loader(df_valid, tokenizer, batch_size=8)"
   ]
  },
  {
   "cell_type": "markdown",
   "id": "1805174d",
   "metadata": {},
   "source": [
    "## Parámetros del entrenamiento"
   ]
  },
  {
   "cell_type": "code",
   "execution_count": 4,
   "id": "86d024f6",
   "metadata": {},
   "outputs": [],
   "source": [
    "model = model.to(device)\n",
    "EPOCHS = 8\n",
    "optimizer = torch.optim.AdamW(model.parameters(), lr=5e-5)\n",
    "total_steps = len(df_train) * EPOCHS\n",
    "scheduler = transformers.get_linear_schedule_with_warmup(\n",
    "    optimizer,\n",
    "    num_warmup_steps = 0, \n",
    "    num_training_steps = total_steps\n",
    ")"
   ]
  },
  {
   "cell_type": "markdown",
   "id": "3d5235d0",
   "metadata": {},
   "source": [
    "## Entrenamiento del modelo"
   ]
  },
  {
   "cell_type": "code",
   "execution_count": 5,
   "id": "b754331d",
   "metadata": {},
   "outputs": [],
   "source": [
    "import torch.nn.functional as F\n",
    "import sys\n",
    "\n",
    "def train_epoch(model, data_loader, optimizer, device, scheduler, n_examples):\n",
    "    model = model.train()\n",
    "    losses = []\n",
    "    correct_predictions = 0\n",
    "    for i,d in enumerate(data_loader):\n",
    "        print(\"Entrenando \" + \".\"*(i%4), end=\"\\r\")\n",
    "        loss, logits = model(\n",
    "            input_ids=d[\"input_ids\"].to(device),\n",
    "            attention_mask=d[\"attention_mask\"].to(device),\n",
    "            labels=F.one_hot(d['labels'].to(device), num_classes=4).float(),\n",
    "            return_dict=False\n",
    "        )\n",
    "        logits = logits.detach().cpu().numpy()\n",
    "        label_ids = d['labels'].cpu().flatten().numpy()\n",
    "        preds = np.argmax(logits, axis=1).flatten()\n",
    "        targ = d['labels'].numpy()\n",
    "        correct_predictions += np.sum(preds==targ)\n",
    "        losses.append(loss.item())\n",
    "        loss.backward()\n",
    "        torch.nn.utils.clip_grad_norm_(model.parameters(), max_norm=1.0)\n",
    "        optimizer.step()\n",
    "        scheduler.step()\n",
    "        optimizer.zero_grad()\n",
    "        sys.stdout.write(\"\\033[K\")\n",
    "    return correct_predictions / n_examples, np.mean(losses)\n",
    "\n",
    "def eval_model(model, data_loader, device, n_examples):\n",
    "    model = model.eval()\n",
    "    losses = []\n",
    "    correct_predictions = 0\n",
    "    with torch.no_grad():\n",
    "        for d in data_loader:\n",
    "            loss, logits = model(\n",
    "                input_ids = d[\"input_ids\"].to(device),\n",
    "                attention_mask = d[\"attention_mask\"].to(device),\n",
    "                labels = F.one_hot(d['labels'].to(device), num_classes=4).float(),\n",
    "                return_dict=False\n",
    "            )\n",
    "            logits = logits.detach().cpu().numpy()\n",
    "            labels_ids = d['labels'].cpu().flatten().numpy()\n",
    "            preds = np.argmax(logits, axis=1).flatten()\n",
    "            targ = d['labels'].numpy()\n",
    "            correct_predictions += np.sum(preds==targ)\n",
    "            losses.append(loss.item())\n",
    "        return correct_predictions / n_examples, np.mean(losses)"
   ]
  },
  {
   "cell_type": "code",
   "execution_count": 6,
   "id": "79673854",
   "metadata": {
    "scrolled": true
   },
   "outputs": [
    {
     "name": "stdout",
     "output_type": "stream",
     "text": [
      "Epoch 1/8\n",
      "----------\n",
      "\u001b[KTrain loss 0.5411943753949957 Accuracy 0.3477941176470588\n",
      "Val loss 0.5359038164218267 Accuracy 0.3638888888888889\n",
      "Epoch 2/8\n",
      "----------\n",
      "\u001b[KTrain loss 0.5375645097564249 Accuracy 0.34787581699346404\n",
      "Val loss 0.5356752613076458 Accuracy 0.3638888888888889\n",
      "Epoch 3/8\n",
      "----------\n",
      "\u001b[KTrain loss 0.5377361907873278 Accuracy 0.34991830065359475\n",
      "Val loss 0.535573324781877 Accuracy 0.3638888888888889\n",
      "Epoch 4/8\n",
      "----------\n",
      "\u001b[KTrain loss 0.5367306807461907 Accuracy 0.35669934640522877\n",
      "Val loss 0.5351145919826296 Accuracy 0.3638888888888889\n",
      "Epoch 5/8\n",
      "----------\n",
      "\u001b[KTrain loss 0.5370723249670727 Accuracy 0.3497549019607843\n",
      "Val loss 0.5353038600197545 Accuracy 0.3638888888888889\n",
      "Epoch 6/8\n",
      "----------\n",
      "\u001b[KTrain loss 0.5369652122648713 Accuracy 0.3486928104575163\n",
      "Val loss 0.5355646343142898 Accuracy 0.3638888888888889\n",
      "Epoch 7/8\n",
      "----------\n",
      "\u001b[KTrain loss 0.5366119274126938 Accuracy 0.3524509803921569\n",
      "Val loss 0.5352958830418411 Accuracy 0.3638888888888889\n",
      "Epoch 8/8\n",
      "----------\n",
      "\u001b[KTrain loss 0.5365842438016841 Accuracy 0.35808823529411765\n",
      "Val loss 0.5347538420447597 Accuracy 0.3638888888888889\n"
     ]
    }
   ],
   "source": [
    "from collections import defaultdict\n",
    "history = defaultdict(list)\n",
    "\n",
    "for epoch in range(EPOCHS):\n",
    "    print(f'Epoch {epoch + 1}/{EPOCHS}')\n",
    "    print('-'*10)   \n",
    "    train_acc, train_loss = train_epoch(model, train_data_loader, optimizer, device, scheduler, len(df_train))\n",
    "    print(f'Train loss {train_loss} Accuracy {train_acc}')\n",
    "    val_acc, val_loss = eval_model(model, valid_data_loader, device, len(df_valid))\n",
    "    print(f'Val loss {val_loss} Accuracy {val_acc}')\n",
    "    history['train_acc'].append(train_acc)\n",
    "    history['train_loss'].append(train_loss)\n",
    "    history['val_acc'].append(val_acc)\n",
    "    history['val_loss'].append(val_loss)"
   ]
  },
  {
   "cell_type": "code",
   "execution_count": 7,
   "id": "3fabee48",
   "metadata": {},
   "outputs": [
    {
     "data": {
      "image/png": "[encoded data removed]",
      "text/plain": [
       "<Figure size 640x480 with 2 Axes>"
      ]
     },
     "metadata": {},
     "output_type": "display_data"
    }
   ],
   "source": [
    "torch.save(model.state_dict(), 'xlm_roberta_base.bin')\n",
    "Results.plot_train_history(history, 'xlm_roberta_base')"
   ]
  },
  {
   "cell_type": "markdown",
   "id": "bc6ad7fd",
   "metadata": {},
   "source": [
    "## Prueba del modelo"
   ]
  },
  {
   "cell_type": "code",
   "execution_count": 14,
   "id": "37e5a5fb",
   "metadata": {},
   "outputs": [
    {
     "name": "stderr",
     "output_type": "stream",
     "text": [
      "Some weights of the model checkpoint at xlm-roberta-base were not used when initializing XLMRobertaForSequenceClassification: ['lm_head.layer_norm.weight', 'lm_head.bias', 'lm_head.decoder.weight', 'lm_head.layer_norm.bias', 'roberta.pooler.dense.bias', 'roberta.pooler.dense.weight', 'lm_head.dense.bias', 'lm_head.dense.weight']\n",
      "- This IS expected if you are initializing XLMRobertaForSequenceClassification from the checkpoint of a model trained on another task or with another architecture (e.g. initializing a BertForSequenceClassification model from a BertForPreTraining model).\n",
      "- This IS NOT expected if you are initializing XLMRobertaForSequenceClassification from the checkpoint of a model that you expect to be exactly identical (initializing a BertForSequenceClassification model from a BertForSequenceClassification model).\n",
      "Some weights of XLMRobertaForSequenceClassification were not initialized from the model checkpoint at xlm-roberta-base and are newly initialized: ['classifier.out_proj.bias', 'classifier.dense.bias', 'classifier.dense.weight', 'classifier.out_proj.weight']\n",
      "You should probably TRAIN this model on a down-stream task to be able to use it for predictions and inference.\n"
     ]
    },
    {
     "ename": "KeyError",
     "evalue": "'iput_ids'",
     "output_type": "error",
     "traceback": [
      "\u001b[1;31m---------------------------------------------------------------------------\u001b[0m",
      "\u001b[1;31mKeyError\u001b[0m                                  Traceback (most recent call last)",
      "\u001b[1;32m~\\AppData\\Local\\Temp\\ipykernel_14552\\101825054.py\u001b[0m in \u001b[0;36m<module>\u001b[1;34m\u001b[0m\n\u001b[0;32m      9\u001b[0m })\n\u001b[0;32m     10\u001b[0m \u001b[0mtest_data_loader\u001b[0m \u001b[1;33m=\u001b[0m \u001b[0mTweetsDataset\u001b[0m\u001b[1;33m.\u001b[0m\u001b[0mcreate_data_loader\u001b[0m\u001b[1;33m(\u001b[0m\u001b[0mdf_test\u001b[0m\u001b[1;33m,\u001b[0m \u001b[0mtokenizer\u001b[0m\u001b[1;33m)\u001b[0m\u001b[1;33m\u001b[0m\u001b[1;33m\u001b[0m\u001b[0m\n\u001b[1;32m---> 11\u001b[1;33m \u001b[0macc\u001b[0m\u001b[1;33m,\u001b[0m \u001b[0mloss\u001b[0m\u001b[1;33m,\u001b[0m \u001b[0mf1\u001b[0m \u001b[1;33m=\u001b[0m \u001b[0mtest\u001b[0m\u001b[1;33m(\u001b[0m\u001b[0mmodel\u001b[0m\u001b[1;33m,\u001b[0m \u001b[0mtest_data_loader\u001b[0m\u001b[1;33m,\u001b[0m \u001b[0mdevice\u001b[0m\u001b[1;33m,\u001b[0m \u001b[0mlen\u001b[0m\u001b[1;33m(\u001b[0m\u001b[0mdf_test\u001b[0m\u001b[1;33m)\u001b[0m\u001b[1;33m)\u001b[0m\u001b[1;33m\u001b[0m\u001b[1;33m\u001b[0m\u001b[0m\n\u001b[0m\u001b[0;32m     12\u001b[0m \u001b[0mResults\u001b[0m\u001b[1;33m.\u001b[0m\u001b[0madd_result\u001b[0m\u001b[1;33m(\u001b[0m\u001b[1;34m\"xml-roberta-base\"\u001b[0m\u001b[1;33m,\u001b[0m \u001b[1;34m\"ideology-multiclass\"\u001b[0m\u001b[1;33m,\u001b[0m \u001b[0macc\u001b[0m\u001b[1;33m,\u001b[0m \u001b[0mloss\u001b[0m\u001b[1;33m,\u001b[0m \u001b[0mf1\u001b[0m\u001b[1;33m)\u001b[0m\u001b[1;33m\u001b[0m\u001b[1;33m\u001b[0m\u001b[0m\n",
      "\u001b[1;32m~\\AppData\\Local\\Temp\\ipykernel_14552\\3587222132.py\u001b[0m in \u001b[0;36mtest\u001b[1;34m(model, test_data_loader, device, test_len)\u001b[0m\n\u001b[0;32m      6\u001b[0m         \u001b[1;32mfor\u001b[0m \u001b[0md\u001b[0m \u001b[1;32min\u001b[0m \u001b[0mtest_data_loader\u001b[0m\u001b[1;33m:\u001b[0m\u001b[1;33m\u001b[0m\u001b[1;33m\u001b[0m\u001b[0m\n\u001b[0;32m      7\u001b[0m             loss, logits = model(\n\u001b[1;32m----> 8\u001b[1;33m                 \u001b[0minput_ids\u001b[0m \u001b[1;33m=\u001b[0m \u001b[0md\u001b[0m\u001b[1;33m[\u001b[0m\u001b[1;34m\"iput_ids\"\u001b[0m\u001b[1;33m]\u001b[0m\u001b[1;33m.\u001b[0m\u001b[0mto\u001b[0m\u001b[1;33m(\u001b[0m\u001b[0mdevice\u001b[0m\u001b[1;33m)\u001b[0m\u001b[1;33m,\u001b[0m\u001b[1;33m\u001b[0m\u001b[1;33m\u001b[0m\u001b[0m\n\u001b[0m\u001b[0;32m      9\u001b[0m                 \u001b[0mattention_mask\u001b[0m \u001b[1;33m=\u001b[0m \u001b[0md\u001b[0m\u001b[1;33m[\u001b[0m\u001b[1;34m\"attention_mask\"\u001b[0m\u001b[1;33m]\u001b[0m\u001b[1;33m.\u001b[0m\u001b[0mto\u001b[0m\u001b[1;33m(\u001b[0m\u001b[0mdevice\u001b[0m\u001b[1;33m)\u001b[0m\u001b[1;33m,\u001b[0m\u001b[1;33m\u001b[0m\u001b[1;33m\u001b[0m\u001b[0m\n\u001b[0;32m     10\u001b[0m                 \u001b[0mlabels\u001b[0m \u001b[1;33m=\u001b[0m \u001b[0mF\u001b[0m\u001b[1;33m.\u001b[0m\u001b[0mone_hot\u001b[0m\u001b[1;33m(\u001b[0m\u001b[0md\u001b[0m\u001b[1;33m[\u001b[0m\u001b[1;34m\"labels\"\u001b[0m\u001b[1;33m]\u001b[0m\u001b[1;33m.\u001b[0m\u001b[0mto\u001b[0m\u001b[1;33m(\u001b[0m\u001b[0mdevice\u001b[0m\u001b[1;33m)\u001b[0m\u001b[1;33m,\u001b[0m \u001b[0mnum_classes\u001b[0m\u001b[1;33m=\u001b[0m\u001b[1;36m4\u001b[0m\u001b[1;33m)\u001b[0m\u001b[1;33m.\u001b[0m\u001b[0mfloat\u001b[0m\u001b[1;33m(\u001b[0m\u001b[1;33m)\u001b[0m\u001b[1;33m,\u001b[0m\u001b[1;33m\u001b[0m\u001b[1;33m\u001b[0m\u001b[0m\n",
      "\u001b[1;31mKeyError\u001b[0m: 'iput_ids'"
     ]
    }
   ],
   "source": [
    "from utils import Results, TweetsDataset\n",
    "model = transformers.XLMRobertaForSequenceClassification.from_pretrained(\"xlm-roberta-base\", num_labels=4, problem_type=\"multi_label_classification\")\n",
    "model.to(device)\n",
    "model.load_state_dict(torch.load('xlm_roberta_base.bin'))\n",
    "df_test = pd.read_csv('../../data/development_test.csv')\n",
    "df_test = pd.DataFrame({\n",
    "    \"tweets\": df_test[\"tweet\"],\n",
    "    \"labels\": df_test[\"ideology_multiclass\"].map({'moderate_left': 0, 'moderate_right': 1, \"left\": 2, \"right\": 3})\n",
    "})\n",
    "test_data_loader = TweetsDataset.create_data_loader(df_test, tokenizer)\n",
    "acc, loss, f1 = test(model, test_data_loader, device, len(df_test))\n",
    "Results.add_result(\"xml-roberta-base\", \"ideology-multiclass\", acc, loss, f1)"
   ]
  },
  {
   "cell_type": "code",
   "execution_count": 11,
   "id": "860a3ecb",
   "metadata": {},
   "outputs": [],
   "source": [
    "def test(model, test_data_loader, device, test_len):\n",
    "    model = model.eval()\n",
    "    correct_predictions = 0\n",
    "    losses = []\n",
    "    with torch.no_grad():\n",
    "        for d in test_data_loader:\n",
    "            loss, logits = model(\n",
    "                input_ids = d[\"iput_ids\"].to(device),\n",
    "                attention_mask = d[\"attention_mask\"].to(device),\n",
    "                labels = F.one_hot(d[\"labels\"].to(device), num_classes=4).float(),\n",
    "                return_dict=False\n",
    "            )\n",
    "            logits = logits.detach().cpu().numpy()\n",
    "            labels_ids = d['labels'].cpu().flatten().numpy()\n",
    "            preds = np.argmax(logits, axis=1).flatten()\n",
    "            targ = d['labels'].numpy()\n",
    "            correct_predictions += np.sum(preds==targ)\n",
    "            losses.append(loss.item())\n",
    "    return correct_predictions / test_len, np.mean(losses)"
   ]
  }
 ],
 "metadata": {
  "kernelspec": {
   "display_name": "Python 3 (ipykernel)",
   "language": "python",
   "name": "python3"
  },
  "language_info": {
   "codemirror_mode": {
    "name": "ipython",
    "version": 3
   },
   "file_extension": ".py",
   "mimetype": "text/x-python",
   "name": "python",
   "nbconvert_exporter": "python",
   "pygments_lexer": "ipython3",
   "version": "3.9.13"
  }
 },
 "nbformat": 4,
 "nbformat_minor": 5
}

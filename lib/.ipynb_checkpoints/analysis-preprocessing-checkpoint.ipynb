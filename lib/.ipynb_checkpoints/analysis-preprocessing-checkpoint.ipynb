{
 "cells": [
  {
   "cell_type": "markdown",
   "id": "6f79d603",
   "metadata": {},
   "source": [
    "# Analisis y preprocesado\n",
    "En el presente notebook, se llevarán a cabo tareas de analisis de la información contenida en los tweets y su preprocesamiento."
   ]
  },
  {
   "cell_type": "code",
   "execution_count": 10,
   "id": "bb2c5df5",
   "metadata": {},
   "outputs": [],
   "source": [
    "import pandas as pd\n",
    "import numpy as np"
   ]
  },
  {
   "cell_type": "code",
   "execution_count": 11,
   "id": "427ffafb",
   "metadata": {
    "scrolled": false
   },
   "outputs": [
    {
     "data": {
      "text/html": [
       "<div>\n",
       "<style scoped>\n",
       "    .dataframe tbody tr th:only-of-type {\n",
       "        vertical-align: middle;\n",
       "    }\n",
       "\n",
       "    .dataframe tbody tr th {\n",
       "        vertical-align: top;\n",
       "    }\n",
       "\n",
       "    .dataframe thead th {\n",
       "        text-align: right;\n",
       "    }\n",
       "</style>\n",
       "<table border=\"1\" class=\"dataframe\">\n",
       "  <thead>\n",
       "    <tr style=\"text-align: right;\">\n",
       "      <th></th>\n",
       "      <th>label</th>\n",
       "      <th>gender</th>\n",
       "      <th>profession</th>\n",
       "      <th>ideology_binary</th>\n",
       "      <th>ideology_multiclass</th>\n",
       "      <th>tweet</th>\n",
       "    </tr>\n",
       "  </thead>\n",
       "  <tbody>\n",
       "    <tr>\n",
       "      <th>0</th>\n",
       "      <td>00369358fac3b8d42845f82f0c3ececc</td>\n",
       "      <td>male</td>\n",
       "      <td>journalist</td>\n",
       "      <td>left</td>\n",
       "      <td>left</td>\n",
       "      <td>@user Escribió un libro resultón, con gracejo,...</td>\n",
       "    </tr>\n",
       "    <tr>\n",
       "      <th>1</th>\n",
       "      <td>00369358fac3b8d42845f82f0c3ececc</td>\n",
       "      <td>male</td>\n",
       "      <td>journalist</td>\n",
       "      <td>left</td>\n",
       "      <td>left</td>\n",
       "      <td>@user Lo prometido es deuda. Aquí la foto: .</td>\n",
       "    </tr>\n",
       "    <tr>\n",
       "      <th>2</th>\n",
       "      <td>00369358fac3b8d42845f82f0c3ececc</td>\n",
       "      <td>male</td>\n",
       "      <td>journalist</td>\n",
       "      <td>left</td>\n",
       "      <td>left</td>\n",
       "      <td>@user Bastante ñoña. Me jarté a llorar. De lo ...</td>\n",
       "    </tr>\n",
       "    <tr>\n",
       "      <th>3</th>\n",
       "      <td>00369358fac3b8d42845f82f0c3ececc</td>\n",
       "      <td>male</td>\n",
       "      <td>journalist</td>\n",
       "      <td>left</td>\n",
       "      <td>left</td>\n",
       "      <td>@user No sé nada acerca de eso, pero está clar...</td>\n",
       "    </tr>\n",
       "    <tr>\n",
       "      <th>4</th>\n",
       "      <td>00369358fac3b8d42845f82f0c3ececc</td>\n",
       "      <td>male</td>\n",
       "      <td>journalist</td>\n",
       "      <td>left</td>\n",
       "      <td>left</td>\n",
       "      <td>@user ¿En qué medio tienen su podcast esos, di...</td>\n",
       "    </tr>\n",
       "  </tbody>\n",
       "</table>\n",
       "</div>"
      ],
      "text/plain": [
       "                              label gender  profession ideology_binary  \\\n",
       "0  00369358fac3b8d42845f82f0c3ececc   male  journalist            left   \n",
       "1  00369358fac3b8d42845f82f0c3ececc   male  journalist            left   \n",
       "2  00369358fac3b8d42845f82f0c3ececc   male  journalist            left   \n",
       "3  00369358fac3b8d42845f82f0c3ececc   male  journalist            left   \n",
       "4  00369358fac3b8d42845f82f0c3ececc   male  journalist            left   \n",
       "\n",
       "  ideology_multiclass                                              tweet  \n",
       "0                left  @user Escribió un libro resultón, con gracejo,...  \n",
       "1                left       @user Lo prometido es deuda. Aquí la foto: .  \n",
       "2                left  @user Bastante ñoña. Me jarté a llorar. De lo ...  \n",
       "3                left  @user No sé nada acerca de eso, pero está clar...  \n",
       "4                left  @user ¿En qué medio tienen su podcast esos, di...  "
      ]
     },
     "execution_count": 11,
     "metadata": {},
     "output_type": "execute_result"
    }
   ],
   "source": [
    "df = pd.read_csv(\"../data/politicES_phase_1_traindev_public.csv\")\n",
    "df.head()"
   ]
  },
  {
   "cell_type": "markdown",
   "id": "098f5546",
   "metadata": {},
   "source": [
    "El conjunto de datos está correctamente etiquetado, con las etiquetas binaria y multiclase. El principal objetivo del tratamiento de los datos será el de realizar predicciones sobre una de estas dos variables, por lo que el resto de ellas son prescindibles. Antes de proceder a eliminarlas, se elaborarán algunos gráficos informativos para entender mejor los datos con los que se trabaja."
   ]
  },
  {
   "cell_type": "markdown",
   "id": "3d51e7d0",
   "metadata": {},
   "source": [
    "## Análisis exploratorio"
   ]
  },
  {
   "cell_type": "code",
   "execution_count": 10,
   "id": "614e6fd5",
   "metadata": {
    "scrolled": true
   },
   "outputs": [
    {
     "data": {
      "text/plain": [
       "0                  left\n",
       "1                  left\n",
       "2                  left\n",
       "3                  left\n",
       "4                  left\n",
       "              ...      \n",
       "14395    moderate_right\n",
       "14396    moderate_right\n",
       "14397    moderate_right\n",
       "14398    moderate_right\n",
       "14399    moderate_right\n",
       "Name: ideology_multiclass, Length: 14400, dtype: object"
      ]
     },
     "execution_count": 10,
     "metadata": {},
     "output_type": "execute_result"
    }
   ],
   "source": [
    "df[\"ideology_multiclass\"]"
   ]
  },
  {
   "cell_type": "markdown",
   "id": "1f6ad927",
   "metadata": {},
   "source": [
    "## Preprocesado"
   ]
  },
  {
   "cell_type": "code",
   "execution_count": 12,
   "id": "293c7e56",
   "metadata": {},
   "outputs": [],
   "source": [
    "from nltk.tokenize import word_tokenize\n",
    "def preprocess_tweet(tweet):\n",
    "    return \" \".join(t.lower() for t in word_tokenize(tweet))\n",
    "df_procesed = pd.DataFrame({})\n",
    "df_procesed[\"tweets\"] = df[\"tweet\"].apply(preprocess_tweet)\n",
    "df_procesed[\"labels\"] = df[\"ideology_multiclass\"].map({'moderate_left': 0, 'moderate_right': 1, \"left\": 2, \"right\": 3})"
   ]
  },
  {
   "cell_type": "code",
   "execution_count": 13,
   "id": "8cef757b",
   "metadata": {},
   "outputs": [],
   "source": [
    "df_procesed.to_csv(\"../data/procesed.csv\")"
   ]
  }
 ],
 "metadata": {
  "kernelspec": {
   "display_name": "Python 3 (ipykernel)",
   "language": "python",
   "name": "python3"
  },
  "language_info": {
   "codemirror_mode": {
    "name": "ipython",
    "version": 3
   },
   "file_extension": ".py",
   "mimetype": "text/x-python",
   "name": "python",
   "nbconvert_exporter": "python",
   "pygments_lexer": "ipython3",
   "version": "3.9.13"
  }
 },
 "nbformat": 4,
 "nbformat_minor": 5
}

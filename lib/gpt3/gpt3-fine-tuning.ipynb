{
 "cells": [
  {
   "cell_type": "code",
   "execution_count": 165,
   "metadata": {},
   "outputs": [],
   "source": [
    "import pandas as pd\n",
    "import json\n",
    "import openai\n",
    "import secret\n",
    "import re"
   ]
  },
  {
   "cell_type": "code",
   "execution_count": 166,
   "metadata": {},
   "outputs": [],
   "source": [
    "openai.api_key = secret.apiKey"
   ]
  },
  {
   "cell_type": "code",
   "execution_count": 167,
   "metadata": {},
   "outputs": [],
   "source": [
    "development = pd.read_csv(\"../data/development.csv\")\n",
    "validation = pd.read_csv(\"../data/development_test.csv\")"
   ]
  },
  {
   "cell_type": "code",
   "execution_count": 170,
   "metadata": {},
   "outputs": [],
   "source": [
    "# Formateo del dataset de entrenamiento\n",
    "classes = {\n",
    "    \"0\": \"moderate_right\",\n",
    "    \"1\": \"moderate_left\",\n",
    "    \"2\": \"right\",\n",
    "    \"3\": \"left\"\n",
    "}\n",
    "def tokenization(df):\n",
    "    for c in classes:\n",
    "        df['completion'] = df['completion'].str.replace(classes[c], c);"
   ]
  },
  {
   "cell_type": "code",
   "execution_count": 171,
   "metadata": {},
   "outputs": [],
   "source": [
    "gpt3Train = pd.DataFrame({\"prompt\": development[\"tweet\"] + \"\\n\\n###\\n\\n\", \"completion\": \" \" + development[\"ideology_multiclass\"]})\n",
    "gpt3Validation = pd.DataFrame({\"prompt\": validation[\"tweet\"] + \"\\n\\n###\\n\\n\", \"completion\": \" \" + validation[\"ideology_multiclass\"]})\n",
    "tokenization(gpt3Train)\n",
    "tokenization(gpt3Validation)"
   ]
  },
  {
   "cell_type": "code",
   "execution_count": 172,
   "metadata": {},
   "outputs": [
    {
     "data": {
      "text/html": [
       "<div>\n",
       "<style scoped>\n",
       "    .dataframe tbody tr th:only-of-type {\n",
       "        vertical-align: middle;\n",
       "    }\n",
       "\n",
       "    .dataframe tbody tr th {\n",
       "        vertical-align: top;\n",
       "    }\n",
       "\n",
       "    .dataframe thead th {\n",
       "        text-align: right;\n",
       "    }\n",
       "</style>\n",
       "<table border=\"1\" class=\"dataframe\">\n",
       "  <thead>\n",
       "    <tr style=\"text-align: right;\">\n",
       "      <th></th>\n",
       "      <th>prompt</th>\n",
       "      <th>completion</th>\n",
       "    </tr>\n",
       "  </thead>\n",
       "  <tbody>\n",
       "    <tr>\n",
       "      <th>0</th>\n",
       "      <td>@user Escribió un libro resultón, con gracejo,...</td>\n",
       "      <td>3</td>\n",
       "    </tr>\n",
       "    <tr>\n",
       "      <th>1</th>\n",
       "      <td>@user Lo prometido es deuda. Aquí la foto: .\\n...</td>\n",
       "      <td>3</td>\n",
       "    </tr>\n",
       "    <tr>\n",
       "      <th>2</th>\n",
       "      <td>@user Bastante ñoña. Me jarté a llorar. De lo ...</td>\n",
       "      <td>3</td>\n",
       "    </tr>\n",
       "    <tr>\n",
       "      <th>3</th>\n",
       "      <td>@user No sé nada acerca de eso, pero está clar...</td>\n",
       "      <td>3</td>\n",
       "    </tr>\n",
       "    <tr>\n",
       "      <th>4</th>\n",
       "      <td>@user ¿En qué medio tienen su podcast esos, di...</td>\n",
       "      <td>3</td>\n",
       "    </tr>\n",
       "    <tr>\n",
       "      <th>...</th>\n",
       "      <td>...</td>\n",
       "      <td>...</td>\n",
       "    </tr>\n",
       "    <tr>\n",
       "      <th>14395</th>\n",
       "      <td>Lo que está ocurriendo hoy es una forma curios...</td>\n",
       "      <td>0</td>\n",
       "    </tr>\n",
       "    <tr>\n",
       "      <th>14396</th>\n",
       "      <td>@user Gracias, bellísima! Nos debemos un café-...</td>\n",
       "      <td>0</td>\n",
       "    </tr>\n",
       "    <tr>\n",
       "      <th>14397</th>\n",
       "      <td>@user Es un análisis muy precipitado ese de qu...</td>\n",
       "      <td>0</td>\n",
       "    </tr>\n",
       "    <tr>\n",
       "      <th>14398</th>\n",
       "      <td>Hace días veo en redes cómo algunos se burlan ...</td>\n",
       "      <td>0</td>\n",
       "    </tr>\n",
       "    <tr>\n",
       "      <th>14399</th>\n",
       "      <td>\"Un cuento amargo. como un otoño largo. salien...</td>\n",
       "      <td>0</td>\n",
       "    </tr>\n",
       "  </tbody>\n",
       "</table>\n",
       "<p>14400 rows × 2 columns</p>\n",
       "</div>"
      ],
      "text/plain": [
       "                                                  prompt completion\n",
       "0      @user Escribió un libro resultón, con gracejo,...          3\n",
       "1      @user Lo prometido es deuda. Aquí la foto: .\\n...          3\n",
       "2      @user Bastante ñoña. Me jarté a llorar. De lo ...          3\n",
       "3      @user No sé nada acerca de eso, pero está clar...          3\n",
       "4      @user ¿En qué medio tienen su podcast esos, di...          3\n",
       "...                                                  ...        ...\n",
       "14395  Lo que está ocurriendo hoy es una forma curios...          0\n",
       "14396  @user Gracias, bellísima! Nos debemos un café-...          0\n",
       "14397  @user Es un análisis muy precipitado ese de qu...          0\n",
       "14398  Hace días veo en redes cómo algunos se burlan ...          0\n",
       "14399  \"Un cuento amargo. como un otoño largo. salien...          0\n",
       "\n",
       "[14400 rows x 2 columns]"
      ]
     },
     "execution_count": 172,
     "metadata": {},
     "output_type": "execute_result"
    }
   ],
   "source": [
    "gpt3Train"
   ]
  },
  {
   "cell_type": "code",
   "execution_count": 174,
   "metadata": {},
   "outputs": [
    {
     "data": {
      "text/plain": [
       "array([' 3', ' 1', ' 2', ' 0'], dtype=object)"
      ]
     },
     "execution_count": 174,
     "metadata": {},
     "output_type": "execute_result"
    }
   ],
   "source": [
    "gpt3Validation"
   ]
  },
  {
   "cell_type": "code",
   "execution_count": 175,
   "metadata": {},
   "outputs": [],
   "source": [
    "train = json.loads(gpt3Train.to_json(orient='records'))\n",
    "validation = json.loads(gpt3Validation.to_json(orient='records'))"
   ]
  },
  {
   "cell_type": "code",
   "execution_count": 176,
   "metadata": {},
   "outputs": [],
   "source": [
    "with open('gpt3-train.jsonl', 'w',encoding='utf-8') as output:\n",
    "    for entry in train:\n",
    "        output.write(json.dumps(entry,ensure_ascii=False))\n",
    "        output.write(\"\\n\")"
   ]
  },
  {
   "cell_type": "code",
   "execution_count": 177,
   "metadata": {},
   "outputs": [],
   "source": [
    "with open('gpt3-validation.jsonl', 'w',encoding='utf-8') as output:\n",
    "    for entry in validation:\n",
    "        output.write(json.dumps(entry,ensure_ascii=False))\n",
    "        output.write(\"\\n\")"
   ]
  },
  {
   "cell_type": "code",
   "execution_count": 178,
   "metadata": {},
   "outputs": [],
   "source": [
    "trainfileid = openai.File.create(\n",
    "    file=open('gpt3-validation.jsonl', 'rb'),\n",
    "    purpose='fine-tune'\n",
    ")[\"id\"]\n",
    "validationfileid = openai.File.create(\n",
    "    file=open('gpt3-train.jsonl', 'rb'),\n",
    "    purpose='fine-tune'\n",
    ")[\"id\"]"
   ]
  },
  {
   "cell_type": "code",
   "execution_count": 179,
   "metadata": {},
   "outputs": [],
   "source": [
    "trainevent = openai.FineTune.create(training_file=trainfileid, validation_file=validationfileid, model=\"ada\", compute_classification_metrics = True, classification_n_classes=4)\n",
    "model_id = trainevent[\"id\"]"
   ]
  },
  {
   "cell_type": "code",
   "execution_count": 182,
   "metadata": {},
   "outputs": [
    {
     "data": {
      "text/plain": [
       "<FineTune fine-tune id=ft-CohvH8pnxp6ynhTu6IhItzII at 0x252c9b8e450> JSON: {\n",
       "  \"created_at\": 1683055652,\n",
       "  \"events\": [\n",
       "    {\n",
       "      \"created_at\": 1683055653,\n",
       "      \"level\": \"info\",\n",
       "      \"message\": \"Created fine-tune: ft-CohvH8pnxp6ynhTu6IhItzII\",\n",
       "      \"object\": \"fine-tune-event\"\n",
       "    }\n",
       "  ],\n",
       "  \"fine_tuned_model\": null,\n",
       "  \"hyperparams\": {\n",
       "    \"batch_size\": null,\n",
       "    \"classification_n_classes\": 4,\n",
       "    \"compute_classification_metrics\": true,\n",
       "    \"learning_rate_multiplier\": null,\n",
       "    \"n_epochs\": 4,\n",
       "    \"prompt_loss_weight\": 0.01\n",
       "  },\n",
       "  \"id\": \"ft-CohvH8pnxp6ynhTu6IhItzII\",\n",
       "  \"model\": \"ada\",\n",
       "  \"object\": \"fine-tune\",\n",
       "  \"organization_id\": \"org-L1lljxbCYtTHvDgsjfIcJcS5\",\n",
       "  \"result_files\": [],\n",
       "  \"status\": \"pending\",\n",
       "  \"training_files\": [\n",
       "    {\n",
       "      \"bytes\": 808031,\n",
       "      \"created_at\": 1683055647,\n",
       "      \"filename\": \"file\",\n",
       "      \"id\": \"file-Qqg7uKCbyCmU8bGLLekohzNG\",\n",
       "      \"object\": \"file\",\n",
       "      \"purpose\": \"fine-tune\",\n",
       "      \"status\": \"processed\",\n",
       "      \"status_details\": null\n",
       "    }\n",
       "  ],\n",
       "  \"updated_at\": 1683055653,\n",
       "  \"validation_files\": [\n",
       "    {\n",
       "      \"bytes\": 3175482,\n",
       "      \"created_at\": 1683055650,\n",
       "      \"filename\": \"file\",\n",
       "      \"id\": \"file-TVMuoV07TTsUex0lxd3upY5r\",\n",
       "      \"object\": \"file\",\n",
       "      \"purpose\": \"fine-tune\",\n",
       "      \"status\": \"uploaded\",\n",
       "      \"status_details\": null\n",
       "    }\n",
       "  ]\n",
       "}"
      ]
     },
     "execution_count": 182,
     "metadata": {},
     "output_type": "execute_result"
    }
   ],
   "source": [
    "trainevent"
   ]
  },
  {
   "cell_type": "code",
   "execution_count": 185,
   "metadata": {},
   "outputs": [
    {
     "data": {
      "text/plain": [
       "<OpenAIObject list at 0x252c71b5a90> JSON: {\n",
       "  \"data\": [\n",
       "    {\n",
       "      \"created_at\": 1683055653,\n",
       "      \"level\": \"info\",\n",
       "      \"message\": \"Created fine-tune: ft-CohvH8pnxp6ynhTu6IhItzII\",\n",
       "      \"object\": \"fine-tune-event\"\n",
       "    },\n",
       "    {\n",
       "      \"created_at\": 1683055706,\n",
       "      \"level\": \"info\",\n",
       "      \"message\": \"Fine-tune costs $0.39\",\n",
       "      \"object\": \"fine-tune-event\"\n",
       "    },\n",
       "    {\n",
       "      \"created_at\": 1683055706,\n",
       "      \"level\": \"info\",\n",
       "      \"message\": \"Fine-tune enqueued. Queue number: 6\",\n",
       "      \"object\": \"fine-tune-event\"\n",
       "    }\n",
       "  ],\n",
       "  \"object\": \"list\"\n",
       "}"
      ]
     },
     "execution_count": 185,
     "metadata": {},
     "output_type": "execute_result"
    }
   ],
   "source": [
    "openai.FineTune.list_events(model_id)"
   ]
  },
  {
   "cell_type": "code",
   "execution_count": 119,
   "metadata": {},
   "outputs": [
    {
     "data": {
      "text/plain": [
       "<OpenAIObject list at 0x252bb953270> JSON: {\n",
       "  \"data\": [\n",
       "    {\n",
       "      \"created_at\": 1681166198,\n",
       "      \"fine_tuned_model\": \"curie:ft-personal-2023-04-10-23-05-20\",\n",
       "      \"hyperparams\": {\n",
       "        \"batch_size\": 2,\n",
       "        \"learning_rate_multiplier\": 0.1,\n",
       "        \"n_epochs\": 4,\n",
       "        \"prompt_loss_weight\": 0.01\n",
       "      },\n",
       "      \"id\": \"ft-8isr7MOodVSaIavj4zlAZHoX\",\n",
       "      \"model\": \"curie\",\n",
       "      \"object\": \"fine-tune\",\n",
       "      \"organization_id\": \"org-L1lljxbCYtTHvDgsjfIcJcS5\",\n",
       "      \"result_files\": [\n",
       "        {\n",
       "          \"bytes\": 96314,\n",
       "          \"created_at\": 1681167921,\n",
       "          \"filename\": \"compiled_results.csv\",\n",
       "          \"id\": \"file-Hix4jQnfaPfZ1E8vKjOrdUBs\",\n",
       "          \"object\": \"file\",\n",
       "          \"purpose\": \"fine-tune-results\",\n",
       "          \"status\": \"processed\",\n",
       "          \"status_details\": null\n",
       "        }\n",
       "      ],\n",
       "      \"status\": \"succeeded\",\n",
       "      \"training_files\": [\n",
       "        {\n",
       "          \"bytes\": 242709,\n",
       "          \"created_at\": 1681166122,\n",
       "          \"filename\": \"file\",\n",
       "          \"id\": \"file-YYP7VJQyA2mv2xOJbL0RkyXv\",\n",
       "          \"object\": \"file\",\n",
       "          \"purpose\": \"fine-tune\",\n",
       "          \"status\": \"processed\",\n",
       "          \"status_details\": null\n",
       "        }\n",
       "      ],\n",
       "      \"updated_at\": 1681167921,\n",
       "      \"validation_files\": []\n",
       "    },\n",
       "    {\n",
       "      \"created_at\": 1682594723,\n",
       "      \"fine_tuned_model\": \"curie:ft-personal-2023-04-27-12-35-14\",\n",
       "      \"hyperparams\": {\n",
       "        \"batch_size\": 16,\n",
       "        \"learning_rate_multiplier\": 0.1,\n",
       "        \"n_epochs\": 4,\n",
       "        \"prompt_loss_weight\": 0.01\n",
       "      },\n",
       "      \"id\": \"ft-ZkHERjChlVJWqmz0pN6mx3hR\",\n",
       "      \"model\": \"curie\",\n",
       "      \"object\": \"fine-tune\",\n",
       "      \"organization_id\": \"org-L1lljxbCYtTHvDgsjfIcJcS5\",\n",
       "      \"result_files\": [\n",
       "        {\n",
       "          \"bytes\": 213351,\n",
       "          \"created_at\": 1682598915,\n",
       "          \"filename\": \"compiled_results.csv\",\n",
       "          \"id\": \"file-gJfdBaApD84qdN6msAg50KWl\",\n",
       "          \"object\": \"file\",\n",
       "          \"purpose\": \"fine-tune-results\",\n",
       "          \"status\": \"processed\",\n",
       "          \"status_details\": null\n",
       "        }\n",
       "      ],\n",
       "      \"status\": \"succeeded\",\n",
       "      \"training_files\": [\n",
       "        {\n",
       "          \"bytes\": 3542005,\n",
       "          \"created_at\": 1682594689,\n",
       "          \"filename\": \"file\",\n",
       "          \"id\": \"file-L6KqJ9EbBWUyV5Lle1JHMUB9\",\n",
       "          \"object\": \"file\",\n",
       "          \"purpose\": \"fine-tune\",\n",
       "          \"status\": \"processed\",\n",
       "          \"status_details\": null\n",
       "        }\n",
       "      ],\n",
       "      \"updated_at\": 1682598916,\n",
       "      \"validation_files\": []\n",
       "    },\n",
       "    {\n",
       "      \"created_at\": 1683042585,\n",
       "      \"fine_tuned_model\": null,\n",
       "      \"hyperparams\": {\n",
       "        \"batch_size\": 4,\n",
       "        \"classification_n_classes\": 4,\n",
       "        \"compute_classification_metrics\": true,\n",
       "        \"learning_rate_multiplier\": 0.1,\n",
       "        \"n_epochs\": 4,\n",
       "        \"prompt_loss_weight\": 0.01\n",
       "      },\n",
       "      \"id\": \"ft-kR6t30b0CGU4FP0b4qEkeErw\",\n",
       "      \"model\": \"ada\",\n",
       "      \"object\": \"fine-tune\",\n",
       "      \"organization_id\": \"org-L1lljxbCYtTHvDgsjfIcJcS5\",\n",
       "      \"result_files\": [],\n",
       "      \"status\": \"pending\",\n",
       "      \"training_files\": [\n",
       "        {\n",
       "          \"bytes\": 843031,\n",
       "          \"created_at\": 1683042390,\n",
       "          \"filename\": \"file\",\n",
       "          \"id\": \"file-aQmXG5r239pUP2vKg6y5svrj\",\n",
       "          \"object\": \"file\",\n",
       "          \"purpose\": \"fine-tune\",\n",
       "          \"status\": \"processed\",\n",
       "          \"status_details\": null\n",
       "        }\n",
       "      ],\n",
       "      \"updated_at\": 1683042760,\n",
       "      \"validation_files\": [\n",
       "        {\n",
       "          \"bytes\": 3314722,\n",
       "          \"created_at\": 1683042392,\n",
       "          \"filename\": \"file\",\n",
       "          \"id\": \"file-BXm6U7IFfZcaMXwrwgGiqLoO\",\n",
       "          \"object\": \"file\",\n",
       "          \"purpose\": \"fine-tune\",\n",
       "          \"status\": \"processed\",\n",
       "          \"status_details\": null\n",
       "        }\n",
       "      ]\n",
       "    }\n",
       "  ],\n",
       "  \"object\": \"list\"\n",
       "}"
      ]
     },
     "execution_count": 119,
     "metadata": {},
     "output_type": "execute_result"
    }
   ],
   "source": [
    "openai.FineTune.list()"
   ]
  },
  {
   "cell_type": "code",
   "execution_count": 192,
   "metadata": {},
   "outputs": [
    {
     "data": {
      "text/plain": [
       "<FineTune fine-tune id=ft-CohvH8pnxp6ynhTu6IhItzII at 0x252cb939360> JSON: {\n",
       "  \"created_at\": 1683055652,\n",
       "  \"events\": [\n",
       "    {\n",
       "      \"created_at\": 1683055653,\n",
       "      \"level\": \"info\",\n",
       "      \"message\": \"Created fine-tune: ft-CohvH8pnxp6ynhTu6IhItzII\",\n",
       "      \"object\": \"fine-tune-event\"\n",
       "    },\n",
       "    {\n",
       "      \"created_at\": 1683055706,\n",
       "      \"level\": \"info\",\n",
       "      \"message\": \"Fine-tune costs $0.39\",\n",
       "      \"object\": \"fine-tune-event\"\n",
       "    },\n",
       "    {\n",
       "      \"created_at\": 1683055706,\n",
       "      \"level\": \"info\",\n",
       "      \"message\": \"Fine-tune enqueued. Queue number: 6\",\n",
       "      \"object\": \"fine-tune-event\"\n",
       "    },\n",
       "    {\n",
       "      \"created_at\": 1683055961,\n",
       "      \"level\": \"info\",\n",
       "      \"message\": \"Fine-tune is in the queue. Queue number: 5\",\n",
       "      \"object\": \"fine-tune-event\"\n",
       "    },\n",
       "    {\n",
       "      \"created_at\": 1683056414,\n",
       "      \"level\": \"info\",\n",
       "      \"message\": \"Fine-tune is in the queue. Queue number: 4\",\n",
       "      \"object\": \"fine-tune-event\"\n",
       "    },\n",
       "    {\n",
       "      \"created_at\": 1683056535,\n",
       "      \"level\": \"info\",\n",
       "      \"message\": \"Fine-tune is in the queue. Queue number: 3\",\n",
       "      \"object\": \"fine-tune-event\"\n",
       "    },\n",
       "    {\n",
       "      \"created_at\": 1683056569,\n",
       "      \"level\": \"info\",\n",
       "      \"message\": \"Fine-tune is in the queue. Queue number: 2\",\n",
       "      \"object\": \"fine-tune-event\"\n",
       "    },\n",
       "    {\n",
       "      \"created_at\": 1683056776,\n",
       "      \"level\": \"info\",\n",
       "      \"message\": \"Fine-tune is in the queue. Queue number: 1\",\n",
       "      \"object\": \"fine-tune-event\"\n",
       "    },\n",
       "    {\n",
       "      \"created_at\": 1683056901,\n",
       "      \"level\": \"info\",\n",
       "      \"message\": \"Fine-tune is in the queue. Queue number: 0\",\n",
       "      \"object\": \"fine-tune-event\"\n",
       "    },\n",
       "    {\n",
       "      \"created_at\": 1683056904,\n",
       "      \"level\": \"info\",\n",
       "      \"message\": \"Fine-tune started\",\n",
       "      \"object\": \"fine-tune-event\"\n",
       "    },\n",
       "    {\n",
       "      \"created_at\": 1683057268,\n",
       "      \"level\": \"info\",\n",
       "      \"message\": \"Completed epoch 1/4\",\n",
       "      \"object\": \"fine-tune-event\"\n",
       "    },\n",
       "    {\n",
       "      \"created_at\": 1683058398,\n",
       "      \"level\": \"info\",\n",
       "      \"message\": \"Completed epoch 3/4\",\n",
       "      \"object\": \"fine-tune-event\"\n",
       "    },\n",
       "    {\n",
       "      \"created_at\": 1683059201,\n",
       "      \"level\": \"info\",\n",
       "      \"message\": \"Uploaded model: ada:ft-personal-2023-05-02-20-26-41\",\n",
       "      \"object\": \"fine-tune-event\"\n",
       "    },\n",
       "    {\n",
       "      \"created_at\": 1683059203,\n",
       "      \"level\": \"info\",\n",
       "      \"message\": \"Uploaded result file: file-WVdUgvF7Xp0nxx7NDt062pzG\",\n",
       "      \"object\": \"fine-tune-event\"\n",
       "    },\n",
       "    {\n",
       "      \"created_at\": 1683059203,\n",
       "      \"level\": \"info\",\n",
       "      \"message\": \"Fine-tune succeeded\",\n",
       "      \"object\": \"fine-tune-event\"\n",
       "    }\n",
       "  ],\n",
       "  \"fine_tuned_model\": \"ada:ft-personal-2023-05-02-20-26-41\",\n",
       "  \"hyperparams\": {\n",
       "    \"batch_size\": 4,\n",
       "    \"classification_n_classes\": 4,\n",
       "    \"compute_classification_metrics\": true,\n",
       "    \"learning_rate_multiplier\": 0.1,\n",
       "    \"n_epochs\": 4,\n",
       "    \"prompt_loss_weight\": 0.01\n",
       "  },\n",
       "  \"id\": \"ft-CohvH8pnxp6ynhTu6IhItzII\",\n",
       "  \"model\": \"ada\",\n",
       "  \"object\": \"fine-tune\",\n",
       "  \"organization_id\": \"org-L1lljxbCYtTHvDgsjfIcJcS5\",\n",
       "  \"result_files\": [\n",
       "    {\n",
       "      \"bytes\": 197911,\n",
       "      \"created_at\": 1683059202,\n",
       "      \"filename\": \"compiled_results.csv\",\n",
       "      \"id\": \"file-WVdUgvF7Xp0nxx7NDt062pzG\",\n",
       "      \"object\": \"file\",\n",
       "      \"purpose\": \"fine-tune-results\",\n",
       "      \"status\": \"processed\",\n",
       "      \"status_details\": null\n",
       "    }\n",
       "  ],\n",
       "  \"status\": \"succeeded\",\n",
       "  \"training_files\": [\n",
       "    {\n",
       "      \"bytes\": 808031,\n",
       "      \"created_at\": 1683055647,\n",
       "      \"filename\": \"file\",\n",
       "      \"id\": \"file-Qqg7uKCbyCmU8bGLLekohzNG\",\n",
       "      \"object\": \"file\",\n",
       "      \"purpose\": \"fine-tune\",\n",
       "      \"status\": \"processed\",\n",
       "      \"status_details\": null\n",
       "    }\n",
       "  ],\n",
       "  \"updated_at\": 1683059203,\n",
       "  \"validation_files\": [\n",
       "    {\n",
       "      \"bytes\": 3175482,\n",
       "      \"created_at\": 1683055650,\n",
       "      \"filename\": \"file\",\n",
       "      \"id\": \"file-TVMuoV07TTsUex0lxd3upY5r\",\n",
       "      \"object\": \"file\",\n",
       "      \"purpose\": \"fine-tune\",\n",
       "      \"status\": \"processed\",\n",
       "      \"status_details\": null\n",
       "    }\n",
       "  ]\n",
       "}"
      ]
     },
     "execution_count": 192,
     "metadata": {},
     "output_type": "execute_result"
    }
   ],
   "source": [
    "openai.FineTune.retrieve('ft-CohvH8pnxp6ynhTu6IhItzII')"
   ]
  },
  {
   "cell_type": "code",
   "execution_count": 9,
   "metadata": {},
   "outputs": [],
   "source": [
    "id_curie_train_all = 'curie:ft-personal-2023-04-27-12-35-14'"
   ]
  },
  {
   "cell_type": "code",
   "execution_count": 193,
   "metadata": {},
   "outputs": [],
   "source": [
    "id_ada_train_all = \"ada:ft-personal-2023-05-02-20-26-41\"\n",
    "result_ada_file_id = \"file-WVdUgvF7Xp0nxx7NDt062pzG\""
   ]
  },
  {
   "cell_type": "code",
   "execution_count": 3,
   "metadata": {},
   "outputs": [],
   "source": [
    "id_curie_train_1000 = 'curie:ft-personal-2023-04-10-23-05-20'"
   ]
  },
  {
   "cell_type": "code",
   "execution_count": 10,
   "metadata": {},
   "outputs": [],
   "source": [
    "prediction = openai.Completion.create(\n",
    "    model=id_curie_train_all,\n",
    "    prompt=\"La alianza ibérica y el AVE Madrid-Lisboa son la gran oportunidad que se están perdiendo nuestros dos países y las regiones de Castilla-La Mancha, Castilla y León y Extremadura. Sería un nuevo motor de inversiones y oportunidades para jóvenes, para crecer juntos###\"\n",
    ")"
   ]
  },
  {
   "cell_type": "code",
   "execution_count": 195,
   "metadata": {},
   "outputs": [],
   "source": [
    "# Descarga y análisis de resultados\n",
    "content = openai.File.download(result_ada_file_id)"
   ]
  },
  {
   "cell_type": "code",
   "execution_count": 197,
   "metadata": {},
   "outputs": [],
   "source": [
    "with open('results_ada.csv', 'wb') as file:\n",
    "    file.write(content)"
   ]
  },
  {
   "cell_type": "code",
   "execution_count": 199,
   "metadata": {},
   "outputs": [],
   "source": [
    "results = pd.read_csv('results_ada.csv')"
   ]
  },
  {
   "cell_type": "code",
   "execution_count": 205,
   "metadata": {},
   "outputs": [
    {
     "data": {
      "text/plain": [
       "<AxesSubplot:>"
      ]
     },
     "execution_count": 205,
     "metadata": {},
     "output_type": "execute_result"
    },
    {
     "data": {
      "image/png": "[encoded data removed]",
      "text/plain": [
       "<Figure size 640x480 with 1 Axes>"
      ]
     },
     "metadata": {},
     "output_type": "display_data"
    }
   ],
   "source": [
    "results[results['classification/accuracy'].notnull()]['classification/accuracy'].plot()"
   ]
  },
  {
   "cell_type": "code",
   "execution_count": 11,
   "metadata": {},
   "outputs": [
    {
     "data": {
      "text/plain": [
       "<OpenAIObject text_completion id=cmpl-7AGXAuSRmG08i0moX14CLcGeYN8eP at 0x15f900df810> JSON: {\n",
       "  \"choices\": [\n",
       "    {\n",
       "      \"finish_reason\": \"length\",\n",
       "      \"index\": 0,\n",
       "      \"logprobs\": null,\n",
       "      \"text\": \"\\n\\n moderate_left_right moderate_right_left\\n\\n moderate_right_\"\n",
       "    }\n",
       "  ],\n",
       "  \"created\": 1682681192,\n",
       "  \"id\": \"cmpl-7AGXAuSRmG08i0moX14CLcGeYN8eP\",\n",
       "  \"model\": \"curie:ft-personal-2023-04-27-12-35-14\",\n",
       "  \"object\": \"text_completion\",\n",
       "  \"usage\": {\n",
       "    \"completion_tokens\": 16,\n",
       "    \"prompt_tokens\": 89,\n",
       "    \"total_tokens\": 105\n",
       "  }\n",
       "}"
      ]
     },
     "execution_count": 11,
     "metadata": {},
     "output_type": "execute_result"
    }
   ],
   "source": [
    "prediction"
   ]
  },
  {
   "cell_type": "markdown",
   "metadata": {},
   "source": [
    "## Test del modelo entrenado con 10000 registros"
   ]
  },
  {
   "cell_type": "code",
   "execution_count": 4,
   "metadata": {},
   "outputs": [],
   "source": [
    "test = pd.read_csv(\"../data/development_test.csv\")"
   ]
  },
  {
   "cell_type": "code",
   "execution_count": 5,
   "metadata": {
    "scrolled": false
   },
   "outputs": [
    {
     "data": {
      "text/html": [
       "<div>\n",
       "<style scoped>\n",
       "    .dataframe tbody tr th:only-of-type {\n",
       "        vertical-align: middle;\n",
       "    }\n",
       "\n",
       "    .dataframe tbody tr th {\n",
       "        vertical-align: top;\n",
       "    }\n",
       "\n",
       "    .dataframe thead th {\n",
       "        text-align: right;\n",
       "    }\n",
       "</style>\n",
       "<table border=\"1\" class=\"dataframe\">\n",
       "  <thead>\n",
       "    <tr style=\"text-align: right;\">\n",
       "      <th></th>\n",
       "      <th>label</th>\n",
       "      <th>gender</th>\n",
       "      <th>profession</th>\n",
       "      <th>ideology_binary</th>\n",
       "      <th>ideology_multiclass</th>\n",
       "      <th>tweet</th>\n",
       "    </tr>\n",
       "  </thead>\n",
       "  <tbody>\n",
       "    <tr>\n",
       "      <th>0</th>\n",
       "      <td>0008c4fab9e97623a60380ee9c88cb20</td>\n",
       "      <td>female</td>\n",
       "      <td>politician</td>\n",
       "      <td>left</td>\n",
       "      <td>left</td>\n",
       "      <td>¡Feliz 28 de febrero a todas las andaluzas y a...</td>\n",
       "    </tr>\n",
       "    <tr>\n",
       "      <th>1</th>\n",
       "      <td>0008c4fab9e97623a60380ee9c88cb20</td>\n",
       "      <td>female</td>\n",
       "      <td>politician</td>\n",
       "      <td>left</td>\n",
       "      <td>left</td>\n",
       "      <td>🇩🇪🇪🇸 ¡Un placer encontrarme con mi homólogo al...</td>\n",
       "    </tr>\n",
       "    <tr>\n",
       "      <th>2</th>\n",
       "      <td>0008c4fab9e97623a60380ee9c88cb20</td>\n",
       "      <td>female</td>\n",
       "      <td>politician</td>\n",
       "      <td>left</td>\n",
       "      <td>left</td>\n",
       "      <td>La Academia de la Llingua Asturiana realiza un...</td>\n",
       "    </tr>\n",
       "    <tr>\n",
       "      <th>3</th>\n",
       "      <td>0008c4fab9e97623a60380ee9c88cb20</td>\n",
       "      <td>female</td>\n",
       "      <td>politician</td>\n",
       "      <td>left</td>\n",
       "      <td>left</td>\n",
       "      <td>Cumplir con la ley y con los derechos laborale...</td>\n",
       "    </tr>\n",
       "    <tr>\n",
       "      <th>4</th>\n",
       "      <td>0008c4fab9e97623a60380ee9c88cb20</td>\n",
       "      <td>female</td>\n",
       "      <td>politician</td>\n",
       "      <td>left</td>\n",
       "      <td>left</td>\n",
       "      <td>La contratación indefinida comienza a ser la n...</td>\n",
       "    </tr>\n",
       "    <tr>\n",
       "      <th>...</th>\n",
       "      <td>...</td>\n",
       "      <td>...</td>\n",
       "      <td>...</td>\n",
       "      <td>...</td>\n",
       "      <td>...</td>\n",
       "      <td>...</td>\n",
       "    </tr>\n",
       "    <tr>\n",
       "      <th>3595</th>\n",
       "      <td>fd249764755c2e64be8aad78d5398953</td>\n",
       "      <td>female</td>\n",
       "      <td>politician</td>\n",
       "      <td>left</td>\n",
       "      <td>left</td>\n",
       "      <td>Esta tarde nos vemos para compartir ideas a pa...</td>\n",
       "    </tr>\n",
       "    <tr>\n",
       "      <th>3596</th>\n",
       "      <td>fd249764755c2e64be8aad78d5398953</td>\n",
       "      <td>female</td>\n",
       "      <td>politician</td>\n",
       "      <td>left</td>\n",
       "      <td>left</td>\n",
       "      <td>@user No sé si te refieres al \"volquete de put...</td>\n",
       "    </tr>\n",
       "    <tr>\n",
       "      <th>3597</th>\n",
       "      <td>fd249764755c2e64be8aad78d5398953</td>\n",
       "      <td>female</td>\n",
       "      <td>politician</td>\n",
       "      <td>left</td>\n",
       "      <td>left</td>\n",
       "      <td>Desde mañana, este Gobierno seguirá trabajando...</td>\n",
       "    </tr>\n",
       "    <tr>\n",
       "      <th>3598</th>\n",
       "      <td>fd249764755c2e64be8aad78d5398953</td>\n",
       "      <td>female</td>\n",
       "      <td>politician</td>\n",
       "      <td>left</td>\n",
       "      <td>left</td>\n",
       "      <td>Se nos ha ido Mike Davis, un pensador impresci...</td>\n",
       "    </tr>\n",
       "    <tr>\n",
       "      <th>3599</th>\n",
       "      <td>fd249764755c2e64be8aad78d5398953</td>\n",
       "      <td>female</td>\n",
       "      <td>politician</td>\n",
       "      <td>left</td>\n",
       "      <td>left</td>\n",
       "      <td>Gracias al @user por la organización del acto ...</td>\n",
       "    </tr>\n",
       "  </tbody>\n",
       "</table>\n",
       "<p>3600 rows × 6 columns</p>\n",
       "</div>"
      ],
      "text/plain": [
       "                                 label  gender  profession ideology_binary  \\\n",
       "0     0008c4fab9e97623a60380ee9c88cb20  female  politician            left   \n",
       "1     0008c4fab9e97623a60380ee9c88cb20  female  politician            left   \n",
       "2     0008c4fab9e97623a60380ee9c88cb20  female  politician            left   \n",
       "3     0008c4fab9e97623a60380ee9c88cb20  female  politician            left   \n",
       "4     0008c4fab9e97623a60380ee9c88cb20  female  politician            left   \n",
       "...                                ...     ...         ...             ...   \n",
       "3595  fd249764755c2e64be8aad78d5398953  female  politician            left   \n",
       "3596  fd249764755c2e64be8aad78d5398953  female  politician            left   \n",
       "3597  fd249764755c2e64be8aad78d5398953  female  politician            left   \n",
       "3598  fd249764755c2e64be8aad78d5398953  female  politician            left   \n",
       "3599  fd249764755c2e64be8aad78d5398953  female  politician            left   \n",
       "\n",
       "     ideology_multiclass                                              tweet  \n",
       "0                   left  ¡Feliz 28 de febrero a todas las andaluzas y a...  \n",
       "1                   left  🇩🇪🇪🇸 ¡Un placer encontrarme con mi homólogo al...  \n",
       "2                   left  La Academia de la Llingua Asturiana realiza un...  \n",
       "3                   left  Cumplir con la ley y con los derechos laborale...  \n",
       "4                   left  La contratación indefinida comienza a ser la n...  \n",
       "...                  ...                                                ...  \n",
       "3595                left  Esta tarde nos vemos para compartir ideas a pa...  \n",
       "3596                left  @user No sé si te refieres al \"volquete de put...  \n",
       "3597                left  Desde mañana, este Gobierno seguirá trabajando...  \n",
       "3598                left  Se nos ha ido Mike Davis, un pensador impresci...  \n",
       "3599                left  Gracias al @user por la organización del acto ...  \n",
       "\n",
       "[3600 rows x 6 columns]"
      ]
     },
     "execution_count": 5,
     "metadata": {},
     "output_type": "execute_result"
    }
   ],
   "source": [
    "test"
   ]
  },
  {
   "cell_type": "code",
   "execution_count": 6,
   "metadata": {},
   "outputs": [
    {
     "ename": "TypeError",
     "evalue": "string indices must be integers",
     "output_type": "error",
     "traceback": [
      "\u001b[1;31m---------------------------------------------------------------------------\u001b[0m",
      "\u001b[1;31mTypeError\u001b[0m                                 Traceback (most recent call last)",
      "\u001b[1;32m~\\AppData\\Local\\Temp\\ipykernel_12692\\852915135.py\u001b[0m in \u001b[0;36m<module>\u001b[1;34m\u001b[0m\n\u001b[0;32m      1\u001b[0m \u001b[1;32mfor\u001b[0m \u001b[0mentry\u001b[0m \u001b[1;32min\u001b[0m \u001b[0mtest\u001b[0m\u001b[1;33m:\u001b[0m\u001b[1;33m\u001b[0m\u001b[1;33m\u001b[0m\u001b[0m\n\u001b[1;32m----> 2\u001b[1;33m     \u001b[0mprediction\u001b[0m \u001b[1;33m=\u001b[0m \u001b[0mentry\u001b[0m\u001b[1;33m[\u001b[0m\u001b[1;34m'tweet'\u001b[0m\u001b[1;33m]\u001b[0m\u001b[1;33m\u001b[0m\u001b[1;33m\u001b[0m\u001b[0m\n\u001b[0m\u001b[0;32m      3\u001b[0m     \u001b[0mprediction\u001b[0m\u001b[1;33m[\u001b[0m\u001b[1;34m'choices'\u001b[0m\u001b[1;33m]\u001b[0m\u001b[1;33m[\u001b[0m\u001b[1;36m0\u001b[0m\u001b[1;33m]\u001b[0m\u001b[1;33m[\u001b[0m\u001b[1;34m\"text\"\u001b[0m\u001b[1;33m]\u001b[0m\u001b[1;33m\u001b[0m\u001b[1;33m\u001b[0m\u001b[0m\n",
      "\u001b[1;31mTypeError\u001b[0m: string indices must be integers"
     ]
    }
   ],
   "source": [
    "def predict:"
   ]
  }
 ],
 "metadata": {
  "kernelspec": {
   "display_name": "Python 3 (ipykernel)",
   "language": "python",
   "name": "python3"
  },
  "language_info": {
   "codemirror_mode": {
    "name": "ipython",
    "version": 3
   },
   "file_extension": ".py",
   "mimetype": "text/x-python",
   "name": "python",
   "nbconvert_exporter": "python",
   "pygments_lexer": "ipython3",
   "version": "3.9.13"
  }
 },
 "nbformat": 4,
 "nbformat_minor": 2
}

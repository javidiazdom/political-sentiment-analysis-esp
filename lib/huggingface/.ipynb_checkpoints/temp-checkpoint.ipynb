{
 "cells": [
  {
   "cell_type": "code",
   "execution_count": 1,
   "id": "ee6420ca",
   "metadata": {},
   "outputs": [],
   "source": [
    "import pandas as pd"
   ]
  },
  {
   "cell_type": "code",
   "execution_count": 5,
   "id": "082fd28c",
   "metadata": {},
   "outputs": [],
   "source": [
    "results = pd.DataFrame(columns=['model','class','f1score', 'loss', 'accuracy'])"
   ]
  },
  {
   "cell_type": "raw",
   "id": "e7356bec",
   "metadata": {},
   "source": []
  }
 ],
 "metadata": {
  "kernelspec": {
   "display_name": "Python 3 (ipykernel)",
   "language": "python",
   "name": "python3"
  },
  "language_info": {
   "codemirror_mode": {
    "name": "ipython",
    "version": 3
   },
   "file_extension": ".py",
   "mimetype": "text/x-python",
   "name": "python",
   "nbconvert_exporter": "python",
   "pygments_lexer": "ipython3",
   "version": "3.9.13"
  }
 },
 "nbformat": 4,
 "nbformat_minor": 5
}

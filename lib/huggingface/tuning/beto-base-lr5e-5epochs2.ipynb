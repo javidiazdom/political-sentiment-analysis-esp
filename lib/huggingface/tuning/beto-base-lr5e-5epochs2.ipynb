{
 "cells": [
  {
   "cell_type": "code",
   "execution_count": 28,
   "id": "8d5532ef",
   "metadata": {
    "execution": {
     "iopub.execute_input": "2023-05-23T14:35:36.591083Z",
     "iopub.status.busy": "2023-05-23T14:35:36.589729Z",
     "iopub.status.idle": "2023-05-23T14:35:36.596710Z",
     "shell.execute_reply": "2023-05-23T14:35:36.595546Z",
     "shell.execute_reply.started": "2023-05-23T14:35:36.591027Z"
    }
   },
   "outputs": [],
   "source": [
    "import transformers\n",
    "import pandas as pd\n",
    "import numpy as np\n",
    "import nltk\n",
    "import torch\n",
    "import torch.nn.functional as F\n",
    "from sklearn.metrics import f1_score\n",
    "from collections import defaultdict\n",
    "import numpy as np\n",
    "import torch\n",
    "import sys\n",
    "from tqdm import tqdm\n",
    "\n",
    "device = torch.device(\"cuda:0\" if torch.cuda.is_available() else \"cpu\")"
   ]
  },
  {
   "cell_type": "code",
   "execution_count": 29,
   "id": "349c483f-c0f8-40c2-a371-9acd4f99112f",
   "metadata": {
    "execution": {
     "iopub.execute_input": "2023-05-23T14:35:36.600173Z",
     "iopub.status.busy": "2023-05-23T14:35:36.599355Z",
     "iopub.status.idle": "2023-05-23T14:35:36.609796Z",
     "shell.execute_reply": "2023-05-23T14:35:36.608701Z",
     "shell.execute_reply.started": "2023-05-23T14:35:36.600147Z"
    }
   },
   "outputs": [],
   "source": [
    "from torch.utils.data import Dataset, DataLoader\n",
    "import torch\n",
    "import pandas as pd\n",
    "from sklearn.model_selection import train_test_split\n",
    "\n",
    "class TweetsDataset(Dataset):\n",
    "    def __init__(self, tweets, labels, tokenizer):\n",
    "        self.tweets = tweets; \n",
    "        self. labels = labels;\n",
    "        self.tokenizer = tokenizer\n",
    "        self.max_len = 512\n",
    "    def __len__(self):\n",
    "        return len(self.tweets)\n",
    "    def __getitem__(self, item):\n",
    "        tweet = str(self.tweets[item])\n",
    "        label = self.labels[item]\n",
    "        encoding = self.tokenizer.encode_plus(\n",
    "            tweet,\n",
    "            add_special_tokens = True,\n",
    "            max_length=self.max_len,\n",
    "            truncation = True,\n",
    "            return_token_type_ids=False,\n",
    "            padding='max_length',\n",
    "            return_attention_mask=True,\n",
    "            return_tensors='pt'\n",
    "        )\n",
    "        return {\n",
    "            'tweet': tweet, \n",
    "            'input_ids': encoding['input_ids'].long().flatten(),\n",
    "            'attention_mask': encoding['attention_mask'].flatten(),\n",
    "            'labels': torch.tensor(label, dtype=torch.long)\n",
    "        }\n",
    "\n",
    "def split_test_val(df, valid_size = 0.15):\n",
    "    X_train, X_val, y_train, y_val = train_test_split(df[['tweets']], df['labels'],stratify=df['labels'], test_size=valid_size, random_state = 0)\n",
    "    df_train = pd.concat([pd.DataFrame({'tweets': X_train['tweets'].values}),pd.DataFrame({'labels': y_train.values})], axis = 1)\n",
    "    df_valid = pd.concat([pd.DataFrame({'tweets': X_val['tweets'].values}),pd.DataFrame({'labels': y_val.values})], axis = 1)\n",
    "    return df_train, df_valid\n",
    "\n",
    "\n",
    "def create_data_loader(df, tokenizer, batch_size = 16):\n",
    "    ds = TweetsDataset(\n",
    "        tweets=df.tweets.to_numpy(),\n",
    "        labels=df.labels.to_numpy(),\n",
    "        tokenizer=tokenizer\n",
    "    )\n",
    "    return DataLoader(\n",
    "        ds,\n",
    "        batch_size=batch_size\n",
    "    )"
   ]
  },
  {
   "cell_type": "markdown",
   "id": "eeef2310",
   "metadata": {},
   "source": [
    "## Carga del tokenizador y el modelo preentrenado"
   ]
  },
  {
   "cell_type": "code",
   "execution_count": 30,
   "id": "687d44d8",
   "metadata": {
    "execution": {
     "iopub.execute_input": "2023-05-23T14:35:36.612008Z",
     "iopub.status.busy": "2023-05-23T14:35:36.611602Z",
     "iopub.status.idle": "2023-05-23T14:35:38.752389Z",
     "shell.execute_reply": "2023-05-23T14:35:38.751480Z",
     "shell.execute_reply.started": "2023-05-23T14:35:36.611982Z"
    },
    "scrolled": true
   },
   "outputs": [
    {
     "name": "stderr",
     "output_type": "stream",
     "text": [
      "Some weights of the model checkpoint at dccuchile/bert-base-spanish-wwm-cased were not used when initializing BertForSequenceClassification: ['cls.predictions.decoder.bias', 'cls.predictions.decoder.weight', 'cls.predictions.transform.LayerNorm.weight', 'cls.predictions.bias', 'cls.predictions.transform.LayerNorm.bias', 'cls.predictions.transform.dense.weight', 'cls.predictions.transform.dense.bias']\n",
      "- This IS expected if you are initializing BertForSequenceClassification from the checkpoint of a model trained on another task or with another architecture (e.g. initializing a BertForSequenceClassification model from a BertForPreTraining model).\n",
      "- This IS NOT expected if you are initializing BertForSequenceClassification from the checkpoint of a model that you expect to be exactly identical (initializing a BertForSequenceClassification model from a BertForSequenceClassification model).\n",
      "Some weights of BertForSequenceClassification were not initialized from the model checkpoint at dccuchile/bert-base-spanish-wwm-cased and are newly initialized: ['classifier.weight', 'bert.pooler.dense.bias', 'bert.pooler.dense.weight', 'classifier.bias']\n",
      "You should probably TRAIN this model on a down-stream task to be able to use it for predictions and inference.\n"
     ]
    }
   ],
   "source": [
    "tokenizer = transformers.AutoTokenizer.from_pretrained(\"dccuchile/bert-base-spanish-wwm-cased\")\n",
    "model = transformers.BertForSequenceClassification.from_pretrained(\"dccuchile/bert-base-spanish-wwm-cased\", num_labels=4)"
   ]
  },
  {
   "cell_type": "markdown",
   "id": "51a161c3",
   "metadata": {},
   "source": [
    "## Conjunto de datos"
   ]
  },
  {
   "cell_type": "code",
   "execution_count": 31,
   "id": "6235c3c9",
   "metadata": {
    "execution": {
     "iopub.execute_input": "2023-05-23T14:35:38.753879Z",
     "iopub.status.busy": "2023-05-23T14:35:38.753331Z",
     "iopub.status.idle": "2023-05-23T14:35:38.811732Z",
     "shell.execute_reply": "2023-05-23T14:35:38.810870Z",
     "shell.execute_reply.started": "2023-05-23T14:35:38.753853Z"
    }
   },
   "outputs": [],
   "source": [
    "df = pd.read_csv(\"./data/procesed.csv\")\n",
    "df_train, df_valid = split_test_val(df, valid_size=0.15)\n",
    "train_data_loader = create_data_loader(df_train, tokenizer, batch_size=8)\n",
    "valid_data_loader = create_data_loader(df_valid, tokenizer, batch_size=8)"
   ]
  },
  {
   "cell_type": "markdown",
   "id": "efe5f362",
   "metadata": {},
   "source": [
    "## Parámetros del entrenamiento"
   ]
  },
  {
   "cell_type": "code",
   "execution_count": 32,
   "id": "6607a5e9",
   "metadata": {
    "execution": {
     "iopub.execute_input": "2023-05-23T14:35:38.814534Z",
     "iopub.status.busy": "2023-05-23T14:35:38.813559Z",
     "iopub.status.idle": "2023-05-23T14:35:38.935247Z",
     "shell.execute_reply": "2023-05-23T14:35:38.934418Z",
     "shell.execute_reply.started": "2023-05-23T14:35:38.814508Z"
    }
   },
   "outputs": [],
   "source": [
    "model = model.to(device)\n",
    "EPOCHS = 2\n",
    "optimizer = torch.optim.AdamW(model.parameters(), lr=5e-5)\n",
    "scheduler = transformers.get_linear_schedule_with_warmup(\n",
    "    optimizer,\n",
    "    num_warmup_steps = 0,\n",
    "    num_training_steps = len(df_train) * EPOCHS\n",
    ")"
   ]
  },
  {
   "cell_type": "markdown",
   "id": "261c9e94",
   "metadata": {},
   "source": [
    "## Entrenamiento del modelo"
   ]
  },
  {
   "cell_type": "code",
   "execution_count": 33,
   "id": "e16cee59",
   "metadata": {
    "execution": {
     "iopub.execute_input": "2023-05-23T14:35:38.937475Z",
     "iopub.status.busy": "2023-05-23T14:35:38.936375Z",
     "iopub.status.idle": "2023-05-23T14:35:38.947504Z",
     "shell.execute_reply": "2023-05-23T14:35:38.946497Z",
     "shell.execute_reply.started": "2023-05-23T14:35:38.937449Z"
    }
   },
   "outputs": [],
   "source": [
    "import torch.nn.functional as F\n",
    "import sys\n",
    "\n",
    "def train_epoch(model, data_loader, optimizer, device, scheduler, n_examples):\n",
    "    model = model.train()\n",
    "    losses = []\n",
    "    correct_predictions = 0\n",
    "    for d in tqdm(data_loader):\n",
    "        loss, logits = model(\n",
    "            input_ids=d[\"input_ids\"].to(device),\n",
    "            attention_mask=d[\"attention_mask\"].to(device),\n",
    "            labels=F.one_hot(d['labels'].to(device), num_classes=4).float(),\n",
    "            return_dict=False\n",
    "        )\n",
    "        logits = logits.detach().cpu().numpy()\n",
    "        label_ids = d['labels'].cpu().flatten().numpy()\n",
    "        preds = np.argmax(logits, axis=1).flatten()\n",
    "        targ = d['labels'].numpy()\n",
    "        correct_predictions += np.sum(preds==targ)\n",
    "        losses.append(loss.item())\n",
    "        loss.backward()\n",
    "        torch.nn.utils.clip_grad_norm_(model.parameters(), max_norm=1.0)\n",
    "        optimizer.step()\n",
    "        scheduler.step()\n",
    "        optimizer.zero_grad()\n",
    "    return correct_predictions / n_examples, np.mean(losses)\n",
    "\n",
    "def eval_model(model, data_loader, device, n_examples):\n",
    "    model = model.eval()\n",
    "    losses = []\n",
    "    correct_predictions = 0\n",
    "    with torch.no_grad():\n",
    "        for d in data_loader:\n",
    "            loss, logits = model(\n",
    "                input_ids = d[\"input_ids\"].to(device),\n",
    "                attention_mask = d[\"attention_mask\"].to(device),\n",
    "                labels = F.one_hot(d['labels'].to(device), num_classes=4).float(),\n",
    "                return_dict=False\n",
    "            )\n",
    "            logits = logits.detach().cpu().numpy()\n",
    "            labels_ids = d['labels'].cpu().flatten().numpy()\n",
    "            preds = np.argmax(logits, axis=1).flatten()\n",
    "            targ = d['labels'].numpy()\n",
    "            correct_predictions += np.sum(preds==targ)\n",
    "            losses.append(loss.item())\n",
    "        return correct_predictions / n_examples, np.mean(losses)"
   ]
  },
  {
   "cell_type": "code",
   "execution_count": 34,
   "id": "7d99a0f4",
   "metadata": {
    "execution": {
     "iopub.execute_input": "2023-05-23T14:35:38.949520Z",
     "iopub.status.busy": "2023-05-23T14:35:38.948473Z",
     "iopub.status.idle": "2023-05-23T15:04:32.627055Z",
     "shell.execute_reply": "2023-05-23T15:04:32.625304Z",
     "shell.execute_reply.started": "2023-05-23T14:35:38.949493Z"
    }
   },
   "outputs": [
    {
     "name": "stdout",
     "output_type": "stream",
     "text": [
      "Epoch 1/2\n",
      "----------\n"
     ]
    },
    {
     "name": "stderr",
     "output_type": "stream",
     "text": [
      "100%|██████████| 1530/1530 [13:33<00:00,  1.88it/s]\n"
     ]
    },
    {
     "name": "stdout",
     "output_type": "stream",
     "text": [
      "Train loss 0.5107777139330222 Accuracy 0.43251633986928106\n",
      "Val loss 0.4906932044912268 Accuracy 0.4861111111111111\n",
      "Epoch 2/2\n",
      "----------\n"
     ]
    },
    {
     "name": "stderr",
     "output_type": "stream",
     "text": [
      "100%|██████████| 1530/1530 [13:33<00:00,  1.88it/s]\n"
     ]
    },
    {
     "name": "stdout",
     "output_type": "stream",
     "text": [
      "Train loss 0.40482713630289036 Accuracy 0.6159313725490196\n",
      "Val loss 0.539677448074023 Accuracy 0.49953703703703706\n"
     ]
    }
   ],
   "source": [
    "from collections import defaultdict\n",
    "history = defaultdict(list)\n",
    "best_acc = 0\n",
    "\n",
    "for epoch in range(EPOCHS):\n",
    "    print(f'Epoch {epoch + 1}/{EPOCHS}')\n",
    "    print('-'*10)   \n",
    "    train_acc, train_loss = train_epoch(model, train_data_loader, optimizer, device, scheduler, len(df_train))\n",
    "    print(f'Train loss {train_loss} Accuracy {train_acc}')\n",
    "    val_acc, val_loss = eval_model(model, valid_data_loader, device, len(df_valid))\n",
    "    print(f'Val loss {val_loss} Accuracy {val_acc}')\n",
    "    history['train_acc'].append(train_acc)\n",
    "    history['train_loss'].append(train_loss)\n",
    "    history['val_acc'].append(val_acc)\n",
    "    history['val_loss'].append(val_loss)\n",
    "    if val_acc > best_acc:\n",
    "#         torch.save(model.state_dict(), 'best_model_state_a5.bin')\n",
    "        best_acc = val_acc"
   ]
  },
  {
   "cell_type": "code",
   "execution_count": 37,
   "id": "6898f423",
   "metadata": {
    "execution": {
     "iopub.execute_input": "2023-05-23T16:05:13.984358Z",
     "iopub.status.busy": "2023-05-23T16:05:13.984035Z",
     "iopub.status.idle": "2023-05-23T16:05:14.264191Z",
     "shell.execute_reply": "2023-05-23T16:05:14.263310Z",
     "shell.execute_reply.started": "2023-05-23T16:05:13.984332Z"
    }
   },
   "outputs": [
    {
     "data": {
      "image/png": "[encoded data removed]",
      "text/plain": [
       "<Figure size 640x480 with 2 Axes>"
      ]
     },
     "metadata": {},
     "output_type": "display_data"
    }
   ],
   "source": [
    "import pandas as pd\n",
    "import matplotlib.pyplot as plt\n",
    "def plot_train_history(history, model_name):\n",
    "    fig, (ax1, ax2) = plt.subplots(2)\n",
    "    ax1.plot(history[\"train_acc\"], label = \"Train\")\n",
    "    ax1.plot(history[\"val_acc\"], label=\"Validation\")\n",
    "    ax2.plot(history[\"train_loss\"], label=\"Train\")\n",
    "    ax2.plot(history[\"val_loss\"], label=\"Validation\")\n",
    "    ax1.legend()\n",
    "    fig.suptitle(f'Precisión y pérdida {model_name} lr=5e-5, epochs=2, batch_size=8')\n",
    "plot_train_history(history, 'Berto')"
   ]
  },
  {
   "cell_type": "code",
   "execution_count": null,
   "id": "58513ea4",
   "metadata": {
    "execution": {
     "iopub.status.busy": "2023-05-23T15:04:32.637843Z",
     "iopub.status.idle": "2023-05-23T15:04:32.639037Z",
     "shell.execute_reply": "2023-05-23T15:04:32.638811Z",
     "shell.execute_reply.started": "2023-05-23T15:04:32.638784Z"
    }
   },
   "outputs": [],
   "source": [
    "torch.save(model.state_dict(), 'berto-base-cased.bin')"
   ]
  },
  {
   "cell_type": "markdown",
   "id": "69a328d7",
   "metadata": {},
   "source": [
    "## Prueba del modelo"
   ]
  },
  {
   "cell_type": "code",
   "execution_count": 38,
   "id": "e57a0ef3-db02-4b17-a9bf-8c3f266d9f46",
   "metadata": {
    "execution": {
     "iopub.execute_input": "2023-05-23T16:05:24.792113Z",
     "iopub.status.busy": "2023-05-23T16:05:24.791772Z",
     "iopub.status.idle": "2023-05-23T16:05:24.800254Z",
     "shell.execute_reply": "2023-05-23T16:05:24.798979Z",
     "shell.execute_reply.started": "2023-05-23T16:05:24.792086Z"
    }
   },
   "outputs": [],
   "source": [
    "def test(model, test_data_loader, device, test_len):\n",
    "    model = model.eval()\n",
    "    correct_predictions = 0\n",
    "    losses = []\n",
    "    with torch.no_grad():\n",
    "        for d in tqdm(test_data_loader):\n",
    "            loss, logits = model(\n",
    "                input_ids = d[\"input_ids\"].to(device),\n",
    "                attention_mask = d[\"attention_mask\"].to(device),\n",
    "                labels = F.one_hot(d[\"labels\"].to(device), num_classes=4).float(),\n",
    "                return_dict=False\n",
    "            )\n",
    "            logits = logits.detach().cpu().numpy()\n",
    "            labels_ids = d['labels'].cpu().flatten().numpy()\n",
    "            preds = np.argmax(logits, axis=1).flatten()\n",
    "            targ = d['labels'].numpy()\n",
    "            correct_predictions += np.sum(preds==targ)\n",
    "            losses.append(loss.item())\n",
    "    return correct_predictions / test_len, np.mean(losses)"
   ]
  },
  {
   "cell_type": "code",
   "execution_count": 39,
   "id": "0f091cc0",
   "metadata": {
    "execution": {
     "iopub.execute_input": "2023-05-23T16:05:29.027334Z",
     "iopub.status.busy": "2023-05-23T16:05:29.025982Z",
     "iopub.status.idle": "2023-05-23T16:07:02.689225Z",
     "shell.execute_reply": "2023-05-23T16:07:02.688294Z",
     "shell.execute_reply.started": "2023-05-23T16:05:29.027334Z"
    },
    "scrolled": true
   },
   "outputs": [
    {
     "name": "stderr",
     "output_type": "stream",
     "text": [
      "100%|██████████| 225/225 [01:33<00:00,  2.40it/s]"
     ]
    },
    {
     "name": "stdout",
     "output_type": "stream",
     "text": [
      "Result acc: 0.4691666666666667 loss: 0.58069854138626\n"
     ]
    },
    {
     "name": "stderr",
     "output_type": "stream",
     "text": [
      "\n"
     ]
    }
   ],
   "source": [
    "# Test\n",
    "df_test = pd.read_csv('./data/procesed_test.csv')\n",
    "test_data_loader = create_data_loader(df_test, tokenizer)\n",
    "acc, loss = test(model, test_data_loader, device, len(df_test))\n",
    "print(f\"Result acc: {acc} loss: {loss}\")"
   ]
  }
 ],
 "metadata": {
  "kernelspec": {
   "display_name": "Python 3 (ipykernel)",
   "language": "python",
   "name": "python3"
  },
  "language_info": {
   "codemirror_mode": {
    "name": "ipython",
    "version": 3
   },
   "file_extension": ".py",
   "mimetype": "text/x-python",
   "name": "python",
   "nbconvert_exporter": "python",
   "pygments_lexer": "ipython3",
   "version": "3.9.16"
  }
 },
 "nbformat": 4,
 "nbformat_minor": 5
}

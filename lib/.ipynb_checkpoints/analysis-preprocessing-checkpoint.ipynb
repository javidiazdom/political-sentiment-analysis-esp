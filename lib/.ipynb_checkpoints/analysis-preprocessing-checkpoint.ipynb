{
 "cells": [
  {
   "cell_type": "markdown",
   "id": "6f79d603",
   "metadata": {},
   "source": [
    "# Fase de exploración y análisis de los datos\n",
    "El conjunto de datos sobre el que se articula el estudio planteado proviene de la competición [IberLEF 2023 Task PoliticEs. Political ideology detection in Spanish texts](https://codalab.lisn.upsaclay.fr/competitions/10173). Este dataset es una extensión de PoliCorpus 2020 dataset (García-Díaz et al. 2022a) y el empleado para la edición anterior de este mismo concurso IberLEF 2022 Task PoliticEs. Spanish Author Profiling for Political Ideology. El dataset se compone de una recopilación de tweets publicados entre 2020 y 2022 por cuentas de twitter pertenecientes a políticos, periodistas y diferentes celebridades Españolas empleando la herramienta UMUCorpusClasifier."
   ]
  },
  {
   "cell_type": "code",
   "execution_count": 1,
   "id": "bb2c5df5",
   "metadata": {},
   "outputs": [],
   "source": [
    "import pandas as pd\n",
    "import numpy as np"
   ]
  },
  {
   "cell_type": "code",
   "execution_count": 18,
   "id": "427ffafb",
   "metadata": {
    "scrolled": false
   },
   "outputs": [
    {
     "data": {
      "text/html": [
       "<div>\n",
       "<style scoped>\n",
       "    .dataframe tbody tr th:only-of-type {\n",
       "        vertical-align: middle;\n",
       "    }\n",
       "\n",
       "    .dataframe tbody tr th {\n",
       "        vertical-align: top;\n",
       "    }\n",
       "\n",
       "    .dataframe thead th {\n",
       "        text-align: right;\n",
       "    }\n",
       "</style>\n",
       "<table border=\"1\" class=\"dataframe\">\n",
       "  <thead>\n",
       "    <tr style=\"text-align: right;\">\n",
       "      <th></th>\n",
       "      <th>label</th>\n",
       "      <th>gender</th>\n",
       "      <th>profession</th>\n",
       "      <th>ideology_binary</th>\n",
       "      <th>ideology_multiclass</th>\n",
       "      <th>tweet</th>\n",
       "    </tr>\n",
       "  </thead>\n",
       "  <tbody>\n",
       "    <tr>\n",
       "      <th>0</th>\n",
       "      <td>00369358fac3b8d42845f82f0c3ececc</td>\n",
       "      <td>male</td>\n",
       "      <td>journalist</td>\n",
       "      <td>left</td>\n",
       "      <td>left</td>\n",
       "      <td>@user Escribió un libro resultón, con gracejo,...</td>\n",
       "    </tr>\n",
       "    <tr>\n",
       "      <th>1</th>\n",
       "      <td>00369358fac3b8d42845f82f0c3ececc</td>\n",
       "      <td>male</td>\n",
       "      <td>journalist</td>\n",
       "      <td>left</td>\n",
       "      <td>left</td>\n",
       "      <td>@user Lo prometido es deuda. Aquí la foto: .</td>\n",
       "    </tr>\n",
       "    <tr>\n",
       "      <th>2</th>\n",
       "      <td>00369358fac3b8d42845f82f0c3ececc</td>\n",
       "      <td>male</td>\n",
       "      <td>journalist</td>\n",
       "      <td>left</td>\n",
       "      <td>left</td>\n",
       "      <td>@user Bastante ñoña. Me jarté a llorar. De lo ...</td>\n",
       "    </tr>\n",
       "    <tr>\n",
       "      <th>3</th>\n",
       "      <td>00369358fac3b8d42845f82f0c3ececc</td>\n",
       "      <td>male</td>\n",
       "      <td>journalist</td>\n",
       "      <td>left</td>\n",
       "      <td>left</td>\n",
       "      <td>@user No sé nada acerca de eso, pero está clar...</td>\n",
       "    </tr>\n",
       "    <tr>\n",
       "      <th>4</th>\n",
       "      <td>00369358fac3b8d42845f82f0c3ececc</td>\n",
       "      <td>male</td>\n",
       "      <td>journalist</td>\n",
       "      <td>left</td>\n",
       "      <td>left</td>\n",
       "      <td>@user ¿En qué medio tienen su podcast esos, di...</td>\n",
       "    </tr>\n",
       "  </tbody>\n",
       "</table>\n",
       "</div>"
      ],
      "text/plain": [
       "                              label gender  profession ideology_binary  \\\n",
       "0  00369358fac3b8d42845f82f0c3ececc   male  journalist            left   \n",
       "1  00369358fac3b8d42845f82f0c3ececc   male  journalist            left   \n",
       "2  00369358fac3b8d42845f82f0c3ececc   male  journalist            left   \n",
       "3  00369358fac3b8d42845f82f0c3ececc   male  journalist            left   \n",
       "4  00369358fac3b8d42845f82f0c3ececc   male  journalist            left   \n",
       "\n",
       "  ideology_multiclass                                              tweet  \n",
       "0                left  @user Escribió un libro resultón, con gracejo,...  \n",
       "1                left       @user Lo prometido es deuda. Aquí la foto: .  \n",
       "2                left  @user Bastante ñoña. Me jarté a llorar. De lo ...  \n",
       "3                left  @user No sé nada acerca de eso, pero está clar...  \n",
       "4                left  @user ¿En qué medio tienen su podcast esos, di...  "
      ]
     },
     "execution_count": 18,
     "metadata": {},
     "output_type": "execute_result"
    }
   ],
   "source": [
    "df = pd.read_csv(\"../data/politicES_phase_1_traindev_public.csv\")\n",
    "df.head()"
   ]
  },
  {
   "cell_type": "markdown",
   "id": "098f5546",
   "metadata": {},
   "source": [
    "El conjunto de datos está correctamente etiquetado, con las etiquetas binaria y multiclase. El principal objetivo del tratamiento de los datos será el de realizar predicciones sobre una de estas dos variables, por lo que el resto de ellas son prescindibles. Antes de proceder a eliminarlas, se elaborarán algunos gráficos informativos para entender mejor los datos con los que se trabaja."
   ]
  },
  {
   "cell_type": "markdown",
   "id": "3d51e7d0",
   "metadata": {},
   "source": [
    "## Análisis exploratorio\n",
    "\n",
    "En primer lugar, se realiza un análisis detallado de la distribución de las diferentes variables contenidas en el conjunto de datos\n"
   ]
  },
  {
   "cell_type": "code",
   "execution_count": null,
   "id": "8776e011",
   "metadata": {},
   "outputs": [],
   "source": [
    "sds"
   ]
  },
  {
   "cell_type": "code",
   "execution_count": 55,
   "id": "614e6fd5",
   "metadata": {
    "scrolled": true
   },
   "outputs": [
    {
     "data": {
      "text/html": [
       "<div>\n",
       "<style scoped>\n",
       "    .dataframe tbody tr th:only-of-type {\n",
       "        vertical-align: middle;\n",
       "    }\n",
       "\n",
       "    .dataframe tbody tr th {\n",
       "        vertical-align: top;\n",
       "    }\n",
       "\n",
       "    .dataframe thead th {\n",
       "        text-align: right;\n",
       "    }\n",
       "</style>\n",
       "<table border=\"1\" class=\"dataframe\">\n",
       "  <thead>\n",
       "    <tr style=\"text-align: right;\">\n",
       "      <th></th>\n",
       "      <th>column</th>\n",
       "      <th>value</th>\n",
       "      <th>count</th>\n",
       "      <th>%</th>\n",
       "    </tr>\n",
       "  </thead>\n",
       "  <tbody>\n",
       "    <tr>\n",
       "      <th>0</th>\n",
       "      <td>gender</td>\n",
       "      <td>male</td>\n",
       "      <td>9800</td>\n",
       "      <td>0.680556</td>\n",
       "    </tr>\n",
       "    <tr>\n",
       "      <th>1</th>\n",
       "      <td>gender</td>\n",
       "      <td>female</td>\n",
       "      <td>4600</td>\n",
       "      <td>0.319444</td>\n",
       "    </tr>\n",
       "    <tr>\n",
       "      <th>2</th>\n",
       "      <td>profession</td>\n",
       "      <td>journalist</td>\n",
       "      <td>8640</td>\n",
       "      <td>0.600000</td>\n",
       "    </tr>\n",
       "    <tr>\n",
       "      <th>3</th>\n",
       "      <td>profession</td>\n",
       "      <td>celebrity</td>\n",
       "      <td>960</td>\n",
       "      <td>0.066667</td>\n",
       "    </tr>\n",
       "    <tr>\n",
       "      <th>4</th>\n",
       "      <td>profession</td>\n",
       "      <td>politician</td>\n",
       "      <td>4800</td>\n",
       "      <td>0.333333</td>\n",
       "    </tr>\n",
       "    <tr>\n",
       "      <th>5</th>\n",
       "      <td>ideology_binary</td>\n",
       "      <td>left</td>\n",
       "      <td>8000</td>\n",
       "      <td>0.555556</td>\n",
       "    </tr>\n",
       "    <tr>\n",
       "      <th>6</th>\n",
       "      <td>ideology_binary</td>\n",
       "      <td>right</td>\n",
       "      <td>6400</td>\n",
       "      <td>0.444444</td>\n",
       "    </tr>\n",
       "    <tr>\n",
       "      <th>7</th>\n",
       "      <td>ideology_multiclass</td>\n",
       "      <td>left</td>\n",
       "      <td>2760</td>\n",
       "      <td>0.191667</td>\n",
       "    </tr>\n",
       "    <tr>\n",
       "      <th>8</th>\n",
       "      <td>ideology_multiclass</td>\n",
       "      <td>right</td>\n",
       "      <td>1680</td>\n",
       "      <td>0.116667</td>\n",
       "    </tr>\n",
       "    <tr>\n",
       "      <th>9</th>\n",
       "      <td>ideology_multiclass</td>\n",
       "      <td>moderate_right</td>\n",
       "      <td>4720</td>\n",
       "      <td>0.327778</td>\n",
       "    </tr>\n",
       "    <tr>\n",
       "      <th>10</th>\n",
       "      <td>ideology_multiclass</td>\n",
       "      <td>moderate_left</td>\n",
       "      <td>5240</td>\n",
       "      <td>0.363889</td>\n",
       "    </tr>\n",
       "  </tbody>\n",
       "</table>\n",
       "</div>"
      ],
      "text/plain": [
       "                 column           value  count         %\n",
       "0                gender            male   9800  0.680556\n",
       "1                gender          female   4600  0.319444\n",
       "2            profession      journalist   8640  0.600000\n",
       "3            profession       celebrity    960  0.066667\n",
       "4            profession      politician   4800  0.333333\n",
       "5       ideology_binary            left   8000  0.555556\n",
       "6       ideology_binary           right   6400  0.444444\n",
       "7   ideology_multiclass            left   2760  0.191667\n",
       "8   ideology_multiclass           right   1680  0.116667\n",
       "9   ideology_multiclass  moderate_right   4720  0.327778\n",
       "10  ideology_multiclass   moderate_left   5240  0.363889"
      ]
     },
     "execution_count": 55,
     "metadata": {},
     "output_type": "execute_result"
    }
   ],
   "source": [
    "# df = df.drop([\"label\"], axis = 1)\n",
    "dist = pd.DataFrame({})\n",
    "for column in [\"gender\", \"profession\", \"ideology_binary\", \"ideology_multiclass\"]:\n",
    "    for value in df[column].unique():\n",
    "        count = np.sum(df[column] == value)\n",
    "        entry = pd.DataFrame({\n",
    "            \"column\": column,\n",
    "            \"value\": value,\n",
    "            \"count\": count,\n",
    "            \"%\": count / df[column].count() \n",
    "        }, index= [0])\n",
    "        dist = pd.concat([dist, entry]).reset_index(drop=True)  \n",
    "dist"
   ]
  },
  {
   "cell_type": "markdown",
   "id": "c4b1ccba",
   "metadata": {},
   "source": [
    "Del análisis general de la distribución de las diferentes variables, es posible sacar algunas conclusiones:\n",
    "- Existe un sesgo de género altamente notable en el conjunto de datos: El __68% de los tweets__ pertenecen a autores de __género masculino__. \n",
    "- El 60% de los tweets pertenecen a __periodistas__. \n",
    "- El balance entre las ideologías se inclina ligeramente hacia la izquierda: El 55% de los tweets recogidos en el dataset han sido etiquetados como pertenecientes a la izquierda.\n",
    "- La variable de ideología multiclase se distribuye de manera que las ideologías moderadas componen el grosso del conjunto, mientras que las categorías extremistas (etiquetadas como \"left\" y \"right\") abarcan el 30% de los tweets. "
   ]
  },
  {
   "cell_type": "code",
   "execution_count": null,
   "id": "d0211cfe",
   "metadata": {},
   "outputs": [],
   "source": []
  },
  {
   "cell_type": "markdown",
   "id": "1f6ad927",
   "metadata": {},
   "source": [
    "## Preprocesado"
   ]
  },
  {
   "cell_type": "code",
   "execution_count": 12,
   "id": "293c7e56",
   "metadata": {},
   "outputs": [],
   "source": [
    "\n",
    "df_procesed = pd.DataFrame({})\n",
    "df_procesed[\"tweets\"] = df[\"tweet\"]\n",
    "df_procesed[\"labels\"] = df[\"ideology_multiclass\"].map({'moderate_left': 0, 'moderate_right': 1, \"left\": 2, \"right\": 3})"
   ]
  },
  {
   "cell_type": "code",
   "execution_count": 13,
   "id": "8cef757b",
   "metadata": {},
   "outputs": [],
   "source": [
    "df_procesed.to_csv(\"../data/procesed.csv\")"
   ]
  }
 ],
 "metadata": {
  "kernelspec": {
   "display_name": "Python 3 (ipykernel)",
   "language": "python",
   "name": "python3"
  },
  "language_info": {
   "codemirror_mode": {
    "name": "ipython",
    "version": 3
   },
   "file_extension": ".py",
   "mimetype": "text/x-python",
   "name": "python",
   "nbconvert_exporter": "python",
   "pygments_lexer": "ipython3",
   "version": "3.9.13"
  }
 },
 "nbformat": 4,
 "nbformat_minor": 5
}
